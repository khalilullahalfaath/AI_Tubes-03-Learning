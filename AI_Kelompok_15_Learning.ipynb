{
  "cells": [
    {
      "cell_type": "markdown",
      "metadata": {
        "colab_type": "text",
        "id": "view-in-github"
      },
      "source": [
        "<a href=\"https://colab.research.google.com/github/khalilullahalfaath/AI_Tubes-03-Learning/blob/main/AI_Kelompok_15_Learning.ipynb\" target=\"_parent\"><img src=\"https://colab.research.google.com/assets/colab-badge.svg\" alt=\"Open In Colab\"/></a>"
      ]
    },
    {
      "cell_type": "code",
      "execution_count": 39,
      "metadata": {
        "id": "ht29WUfzEWv4"
      },
      "outputs": [],
      "source": [
        "import pandas as pd\n",
        "import matplotlib.pyplot as plt\n",
        "import numpy as np\n",
        "import seaborn as sns"
      ]
    },
    {
      "cell_type": "markdown",
      "metadata": {
        "id": "mhsjGWHjEYME"
      },
      "source": [
        "# Membaca dataset"
      ]
    },
    {
      "cell_type": "code",
      "execution_count": 40,
      "metadata": {
        "id": "s-pTDdA3EWv7"
      },
      "outputs": [],
      "source": [
        "df = pd.read_excel(\"https://github.com/khalilullahalfaath/AI_Tubes-03-Learning/blob/19d11d6e2fa2d540afdc0cec3308b82c664d29f7/traintest.xlsx?raw=true\")"
      ]
    },
    {
      "cell_type": "code",
      "execution_count": 41,
      "metadata": {
        "colab": {
          "base_uri": "https://localhost:8080/",
          "height": 424
        },
        "id": "Yc0ahWjsEWv7",
        "outputId": "f54c4847-a449-4165-c167-ed565e3e2872"
      },
      "outputs": [
        {
          "data": {
            "text/html": [
              "<div>\n",
              "<style scoped>\n",
              "    .dataframe tbody tr th:only-of-type {\n",
              "        vertical-align: middle;\n",
              "    }\n",
              "\n",
              "    .dataframe tbody tr th {\n",
              "        vertical-align: top;\n",
              "    }\n",
              "\n",
              "    .dataframe thead th {\n",
              "        text-align: right;\n",
              "    }\n",
              "</style>\n",
              "<table border=\"1\" class=\"dataframe\">\n",
              "  <thead>\n",
              "    <tr style=\"text-align: right;\">\n",
              "      <th></th>\n",
              "      <th>id</th>\n",
              "      <th>x1</th>\n",
              "      <th>x2</th>\n",
              "      <th>x3</th>\n",
              "      <th>y</th>\n",
              "    </tr>\n",
              "  </thead>\n",
              "  <tbody>\n",
              "    <tr>\n",
              "      <th>0</th>\n",
              "      <td>1</td>\n",
              "      <td>60</td>\n",
              "      <td>64</td>\n",
              "      <td>0</td>\n",
              "      <td>1</td>\n",
              "    </tr>\n",
              "    <tr>\n",
              "      <th>1</th>\n",
              "      <td>2</td>\n",
              "      <td>54</td>\n",
              "      <td>60</td>\n",
              "      <td>11</td>\n",
              "      <td>0</td>\n",
              "    </tr>\n",
              "    <tr>\n",
              "      <th>2</th>\n",
              "      <td>3</td>\n",
              "      <td>65</td>\n",
              "      <td>62</td>\n",
              "      <td>22</td>\n",
              "      <td>0</td>\n",
              "    </tr>\n",
              "    <tr>\n",
              "      <th>3</th>\n",
              "      <td>4</td>\n",
              "      <td>34</td>\n",
              "      <td>60</td>\n",
              "      <td>0</td>\n",
              "      <td>1</td>\n",
              "    </tr>\n",
              "    <tr>\n",
              "      <th>4</th>\n",
              "      <td>5</td>\n",
              "      <td>38</td>\n",
              "      <td>69</td>\n",
              "      <td>21</td>\n",
              "      <td>0</td>\n",
              "    </tr>\n",
              "    <tr>\n",
              "      <th>...</th>\n",
              "      <td>...</td>\n",
              "      <td>...</td>\n",
              "      <td>...</td>\n",
              "      <td>...</td>\n",
              "      <td>...</td>\n",
              "    </tr>\n",
              "    <tr>\n",
              "      <th>291</th>\n",
              "      <td>292</td>\n",
              "      <td>59</td>\n",
              "      <td>64</td>\n",
              "      <td>1</td>\n",
              "      <td>1</td>\n",
              "    </tr>\n",
              "    <tr>\n",
              "      <th>292</th>\n",
              "      <td>293</td>\n",
              "      <td>65</td>\n",
              "      <td>67</td>\n",
              "      <td>0</td>\n",
              "      <td>1</td>\n",
              "    </tr>\n",
              "    <tr>\n",
              "      <th>293</th>\n",
              "      <td>294</td>\n",
              "      <td>53</td>\n",
              "      <td>65</td>\n",
              "      <td>12</td>\n",
              "      <td>0</td>\n",
              "    </tr>\n",
              "    <tr>\n",
              "      <th>294</th>\n",
              "      <td>295</td>\n",
              "      <td>57</td>\n",
              "      <td>64</td>\n",
              "      <td>1</td>\n",
              "      <td>0</td>\n",
              "    </tr>\n",
              "    <tr>\n",
              "      <th>295</th>\n",
              "      <td>296</td>\n",
              "      <td>54</td>\n",
              "      <td>59</td>\n",
              "      <td>7</td>\n",
              "      <td>1</td>\n",
              "    </tr>\n",
              "  </tbody>\n",
              "</table>\n",
              "<p>296 rows × 5 columns</p>\n",
              "</div>"
            ],
            "text/plain": [
              "      id  x1  x2  x3  y\n",
              "0      1  60  64   0  1\n",
              "1      2  54  60  11  0\n",
              "2      3  65  62  22  0\n",
              "3      4  34  60   0  1\n",
              "4      5  38  69  21  0\n",
              "..   ...  ..  ..  .. ..\n",
              "291  292  59  64   1  1\n",
              "292  293  65  67   0  1\n",
              "293  294  53  65  12  0\n",
              "294  295  57  64   1  0\n",
              "295  296  54  59   7  1\n",
              "\n",
              "[296 rows x 5 columns]"
            ]
          },
          "execution_count": 41,
          "metadata": {},
          "output_type": "execute_result"
        }
      ],
      "source": [
        "df"
      ]
    },
    {
      "cell_type": "markdown",
      "metadata": {
        "id": "RuYB66siEdPC"
      },
      "source": [
        "# EDA (Exploratory Data Analysist)\n"
      ]
    },
    {
      "cell_type": "markdown",
      "metadata": {
        "id": "Fdq8cEe_FSZL"
      },
      "source": [
        "## Info terkait dataset"
      ]
    },
    {
      "cell_type": "code",
      "execution_count": 42,
      "metadata": {
        "colab": {
          "base_uri": "https://localhost:8080/"
        },
        "id": "u3gcrwyUEjj9",
        "outputId": "f43adba8-d2ee-4dfe-ca25-4a878bb829bc"
      },
      "outputs": [
        {
          "name": "stdout",
          "output_type": "stream",
          "text": [
            "<class 'pandas.core.frame.DataFrame'>\n",
            "RangeIndex: 296 entries, 0 to 295\n",
            "Data columns (total 5 columns):\n",
            " #   Column  Non-Null Count  Dtype\n",
            "---  ------  --------------  -----\n",
            " 0   id      296 non-null    int64\n",
            " 1   x1      296 non-null    int64\n",
            " 2   x2      296 non-null    int64\n",
            " 3   x3      296 non-null    int64\n",
            " 4   y       296 non-null    int64\n",
            "dtypes: int64(5)\n",
            "memory usage: 11.7 KB\n"
          ]
        }
      ],
      "source": [
        "df.info()"
      ]
    },
    {
      "cell_type": "markdown",
      "metadata": {
        "id": "sAmuKX5cFCTn"
      },
      "source": [
        "Dapat dilihat bahwa seluruh data merupakan integers sehingga tidak perlu dilakukan perubahan untuk mendapatkan tipe data yang sama. Diketahui pula bahwa tidak ada data NULL sehingga tidak ada yang perlu diisi"
      ]
    },
    {
      "cell_type": "markdown",
      "metadata": {
        "id": "mGmORdNeFWNn"
      },
      "source": [
        "## Deskripsi terkait dataset"
      ]
    },
    {
      "cell_type": "code",
      "execution_count": 43,
      "metadata": {
        "colab": {
          "base_uri": "https://localhost:8080/",
          "height": 300
        },
        "id": "LvTEoOCyFOMX",
        "outputId": "95a60b2b-ed58-49fa-a135-6addb64bddaf"
      },
      "outputs": [
        {
          "data": {
            "text/html": [
              "<div>\n",
              "<style scoped>\n",
              "    .dataframe tbody tr th:only-of-type {\n",
              "        vertical-align: middle;\n",
              "    }\n",
              "\n",
              "    .dataframe tbody tr th {\n",
              "        vertical-align: top;\n",
              "    }\n",
              "\n",
              "    .dataframe thead th {\n",
              "        text-align: right;\n",
              "    }\n",
              "</style>\n",
              "<table border=\"1\" class=\"dataframe\">\n",
              "  <thead>\n",
              "    <tr style=\"text-align: right;\">\n",
              "      <th></th>\n",
              "      <th>id</th>\n",
              "      <th>x1</th>\n",
              "      <th>x2</th>\n",
              "      <th>x3</th>\n",
              "      <th>y</th>\n",
              "    </tr>\n",
              "  </thead>\n",
              "  <tbody>\n",
              "    <tr>\n",
              "      <th>count</th>\n",
              "      <td>296.000000</td>\n",
              "      <td>296.000000</td>\n",
              "      <td>296.000000</td>\n",
              "      <td>296.000000</td>\n",
              "      <td>296.000000</td>\n",
              "    </tr>\n",
              "    <tr>\n",
              "      <th>mean</th>\n",
              "      <td>148.500000</td>\n",
              "      <td>52.462838</td>\n",
              "      <td>62.881757</td>\n",
              "      <td>4.111486</td>\n",
              "      <td>0.736486</td>\n",
              "    </tr>\n",
              "    <tr>\n",
              "      <th>std</th>\n",
              "      <td>85.592056</td>\n",
              "      <td>10.896367</td>\n",
              "      <td>3.233753</td>\n",
              "      <td>7.291816</td>\n",
              "      <td>0.441285</td>\n",
              "    </tr>\n",
              "    <tr>\n",
              "      <th>min</th>\n",
              "      <td>1.000000</td>\n",
              "      <td>30.000000</td>\n",
              "      <td>58.000000</td>\n",
              "      <td>0.000000</td>\n",
              "      <td>0.000000</td>\n",
              "    </tr>\n",
              "    <tr>\n",
              "      <th>25%</th>\n",
              "      <td>74.750000</td>\n",
              "      <td>44.000000</td>\n",
              "      <td>60.000000</td>\n",
              "      <td>0.000000</td>\n",
              "      <td>0.000000</td>\n",
              "    </tr>\n",
              "    <tr>\n",
              "      <th>50%</th>\n",
              "      <td>148.500000</td>\n",
              "      <td>52.000000</td>\n",
              "      <td>63.000000</td>\n",
              "      <td>1.000000</td>\n",
              "      <td>1.000000</td>\n",
              "    </tr>\n",
              "    <tr>\n",
              "      <th>75%</th>\n",
              "      <td>222.250000</td>\n",
              "      <td>61.000000</td>\n",
              "      <td>65.250000</td>\n",
              "      <td>5.000000</td>\n",
              "      <td>1.000000</td>\n",
              "    </tr>\n",
              "    <tr>\n",
              "      <th>max</th>\n",
              "      <td>296.000000</td>\n",
              "      <td>83.000000</td>\n",
              "      <td>69.000000</td>\n",
              "      <td>52.000000</td>\n",
              "      <td>1.000000</td>\n",
              "    </tr>\n",
              "  </tbody>\n",
              "</table>\n",
              "</div>"
            ],
            "text/plain": [
              "               id          x1          x2          x3           y\n",
              "count  296.000000  296.000000  296.000000  296.000000  296.000000\n",
              "mean   148.500000   52.462838   62.881757    4.111486    0.736486\n",
              "std     85.592056   10.896367    3.233753    7.291816    0.441285\n",
              "min      1.000000   30.000000   58.000000    0.000000    0.000000\n",
              "25%     74.750000   44.000000   60.000000    0.000000    0.000000\n",
              "50%    148.500000   52.000000   63.000000    1.000000    1.000000\n",
              "75%    222.250000   61.000000   65.250000    5.000000    1.000000\n",
              "max    296.000000   83.000000   69.000000   52.000000    1.000000"
            ]
          },
          "execution_count": 43,
          "metadata": {},
          "output_type": "execute_result"
        }
      ],
      "source": [
        "df.describe()"
      ]
    },
    {
      "cell_type": "markdown",
      "metadata": {
        "id": "wC53SEjyII_8"
      },
      "source": [
        "## Menampilkan 3 data teratas"
      ]
    },
    {
      "cell_type": "code",
      "execution_count": 44,
      "metadata": {
        "colab": {
          "base_uri": "https://localhost:8080/",
          "height": 143
        },
        "id": "-Gnp3I51Fix0",
        "outputId": "6f48e55f-6053-4170-93b0-13e6afcbd2c5"
      },
      "outputs": [
        {
          "data": {
            "text/html": [
              "<div>\n",
              "<style scoped>\n",
              "    .dataframe tbody tr th:only-of-type {\n",
              "        vertical-align: middle;\n",
              "    }\n",
              "\n",
              "    .dataframe tbody tr th {\n",
              "        vertical-align: top;\n",
              "    }\n",
              "\n",
              "    .dataframe thead th {\n",
              "        text-align: right;\n",
              "    }\n",
              "</style>\n",
              "<table border=\"1\" class=\"dataframe\">\n",
              "  <thead>\n",
              "    <tr style=\"text-align: right;\">\n",
              "      <th></th>\n",
              "      <th>id</th>\n",
              "      <th>x1</th>\n",
              "      <th>x2</th>\n",
              "      <th>x3</th>\n",
              "      <th>y</th>\n",
              "    </tr>\n",
              "  </thead>\n",
              "  <tbody>\n",
              "    <tr>\n",
              "      <th>0</th>\n",
              "      <td>1</td>\n",
              "      <td>60</td>\n",
              "      <td>64</td>\n",
              "      <td>0</td>\n",
              "      <td>1</td>\n",
              "    </tr>\n",
              "    <tr>\n",
              "      <th>1</th>\n",
              "      <td>2</td>\n",
              "      <td>54</td>\n",
              "      <td>60</td>\n",
              "      <td>11</td>\n",
              "      <td>0</td>\n",
              "    </tr>\n",
              "    <tr>\n",
              "      <th>2</th>\n",
              "      <td>3</td>\n",
              "      <td>65</td>\n",
              "      <td>62</td>\n",
              "      <td>22</td>\n",
              "      <td>0</td>\n",
              "    </tr>\n",
              "  </tbody>\n",
              "</table>\n",
              "</div>"
            ],
            "text/plain": [
              "   id  x1  x2  x3  y\n",
              "0   1  60  64   0  1\n",
              "1   2  54  60  11  0\n",
              "2   3  65  62  22  0"
            ]
          },
          "execution_count": 44,
          "metadata": {},
          "output_type": "execute_result"
        }
      ],
      "source": [
        "df.head(3)"
      ]
    },
    {
      "cell_type": "markdown",
      "metadata": {
        "id": "pDrdkLREIL4a"
      },
      "source": [
        "## Menampilkan 3 data terbawah"
      ]
    },
    {
      "cell_type": "code",
      "execution_count": 45,
      "metadata": {
        "colab": {
          "base_uri": "https://localhost:8080/",
          "height": 143
        },
        "id": "b-bUAbBqFisU",
        "outputId": "12ecbb1a-cc5e-4906-98d5-4e7a5332ac6c"
      },
      "outputs": [
        {
          "data": {
            "text/html": [
              "<div>\n",
              "<style scoped>\n",
              "    .dataframe tbody tr th:only-of-type {\n",
              "        vertical-align: middle;\n",
              "    }\n",
              "\n",
              "    .dataframe tbody tr th {\n",
              "        vertical-align: top;\n",
              "    }\n",
              "\n",
              "    .dataframe thead th {\n",
              "        text-align: right;\n",
              "    }\n",
              "</style>\n",
              "<table border=\"1\" class=\"dataframe\">\n",
              "  <thead>\n",
              "    <tr style=\"text-align: right;\">\n",
              "      <th></th>\n",
              "      <th>id</th>\n",
              "      <th>x1</th>\n",
              "      <th>x2</th>\n",
              "      <th>x3</th>\n",
              "      <th>y</th>\n",
              "    </tr>\n",
              "  </thead>\n",
              "  <tbody>\n",
              "    <tr>\n",
              "      <th>293</th>\n",
              "      <td>294</td>\n",
              "      <td>53</td>\n",
              "      <td>65</td>\n",
              "      <td>12</td>\n",
              "      <td>0</td>\n",
              "    </tr>\n",
              "    <tr>\n",
              "      <th>294</th>\n",
              "      <td>295</td>\n",
              "      <td>57</td>\n",
              "      <td>64</td>\n",
              "      <td>1</td>\n",
              "      <td>0</td>\n",
              "    </tr>\n",
              "    <tr>\n",
              "      <th>295</th>\n",
              "      <td>296</td>\n",
              "      <td>54</td>\n",
              "      <td>59</td>\n",
              "      <td>7</td>\n",
              "      <td>1</td>\n",
              "    </tr>\n",
              "  </tbody>\n",
              "</table>\n",
              "</div>"
            ],
            "text/plain": [
              "      id  x1  x2  x3  y\n",
              "293  294  53  65  12  0\n",
              "294  295  57  64   1  0\n",
              "295  296  54  59   7  1"
            ]
          },
          "execution_count": 45,
          "metadata": {},
          "output_type": "execute_result"
        }
      ],
      "source": [
        "df.tail(3)"
      ]
    },
    {
      "cell_type": "markdown",
      "metadata": {
        "id": "G9MLpzCBIPHt"
      },
      "source": [
        "## Menampilkan 3 data sample"
      ]
    },
    {
      "cell_type": "code",
      "execution_count": 46,
      "metadata": {
        "colab": {
          "base_uri": "https://localhost:8080/",
          "height": 143
        },
        "id": "ZipGevmuIEb1",
        "outputId": "6e477c39-d0dd-4580-e1fe-1891aeede64f"
      },
      "outputs": [
        {
          "data": {
            "text/html": [
              "<div>\n",
              "<style scoped>\n",
              "    .dataframe tbody tr th:only-of-type {\n",
              "        vertical-align: middle;\n",
              "    }\n",
              "\n",
              "    .dataframe tbody tr th {\n",
              "        vertical-align: top;\n",
              "    }\n",
              "\n",
              "    .dataframe thead th {\n",
              "        text-align: right;\n",
              "    }\n",
              "</style>\n",
              "<table border=\"1\" class=\"dataframe\">\n",
              "  <thead>\n",
              "    <tr style=\"text-align: right;\">\n",
              "      <th></th>\n",
              "      <th>id</th>\n",
              "      <th>x1</th>\n",
              "      <th>x2</th>\n",
              "      <th>x3</th>\n",
              "      <th>y</th>\n",
              "    </tr>\n",
              "  </thead>\n",
              "  <tbody>\n",
              "    <tr>\n",
              "      <th>3</th>\n",
              "      <td>4</td>\n",
              "      <td>34</td>\n",
              "      <td>60</td>\n",
              "      <td>0</td>\n",
              "      <td>1</td>\n",
              "    </tr>\n",
              "    <tr>\n",
              "      <th>125</th>\n",
              "      <td>126</td>\n",
              "      <td>41</td>\n",
              "      <td>59</td>\n",
              "      <td>8</td>\n",
              "      <td>1</td>\n",
              "    </tr>\n",
              "    <tr>\n",
              "      <th>197</th>\n",
              "      <td>198</td>\n",
              "      <td>47</td>\n",
              "      <td>65</td>\n",
              "      <td>0</td>\n",
              "      <td>0</td>\n",
              "    </tr>\n",
              "  </tbody>\n",
              "</table>\n",
              "</div>"
            ],
            "text/plain": [
              "      id  x1  x2  x3  y\n",
              "3      4  34  60   0  1\n",
              "125  126  41  59   8  1\n",
              "197  198  47  65   0  0"
            ]
          },
          "execution_count": 46,
          "metadata": {},
          "output_type": "execute_result"
        }
      ],
      "source": [
        "df.sample(3)"
      ]
    },
    {
      "cell_type": "markdown",
      "metadata": {
        "id": "AO4y24FmF_O7"
      },
      "source": [
        "## Drop kolom yang tidak dibutuhkan"
      ]
    },
    {
      "cell_type": "code",
      "execution_count": 47,
      "metadata": {
        "colab": {
          "base_uri": "https://localhost:8080/"
        },
        "id": "cQSAf8qlIcEA",
        "outputId": "28996d10-9508-48b5-8463-d5969079ab1a"
      },
      "outputs": [
        {
          "data": {
            "text/plain": [
              "(296, 5)"
            ]
          },
          "execution_count": 47,
          "metadata": {},
          "output_type": "execute_result"
        }
      ],
      "source": [
        "df.shape"
      ]
    },
    {
      "cell_type": "code",
      "execution_count": 48,
      "metadata": {
        "colab": {
          "base_uri": "https://localhost:8080/",
          "height": 424
        },
        "id": "zq0mBhCBF7gz",
        "outputId": "e487a481-acc5-4feb-f45e-c361a60b7f3e"
      },
      "outputs": [
        {
          "data": {
            "text/html": [
              "<div>\n",
              "<style scoped>\n",
              "    .dataframe tbody tr th:only-of-type {\n",
              "        vertical-align: middle;\n",
              "    }\n",
              "\n",
              "    .dataframe tbody tr th {\n",
              "        vertical-align: top;\n",
              "    }\n",
              "\n",
              "    .dataframe thead th {\n",
              "        text-align: right;\n",
              "    }\n",
              "</style>\n",
              "<table border=\"1\" class=\"dataframe\">\n",
              "  <thead>\n",
              "    <tr style=\"text-align: right;\">\n",
              "      <th></th>\n",
              "      <th>x1</th>\n",
              "      <th>x2</th>\n",
              "      <th>x3</th>\n",
              "      <th>y</th>\n",
              "    </tr>\n",
              "  </thead>\n",
              "  <tbody>\n",
              "    <tr>\n",
              "      <th>0</th>\n",
              "      <td>60</td>\n",
              "      <td>64</td>\n",
              "      <td>0</td>\n",
              "      <td>1</td>\n",
              "    </tr>\n",
              "    <tr>\n",
              "      <th>1</th>\n",
              "      <td>54</td>\n",
              "      <td>60</td>\n",
              "      <td>11</td>\n",
              "      <td>0</td>\n",
              "    </tr>\n",
              "    <tr>\n",
              "      <th>2</th>\n",
              "      <td>65</td>\n",
              "      <td>62</td>\n",
              "      <td>22</td>\n",
              "      <td>0</td>\n",
              "    </tr>\n",
              "    <tr>\n",
              "      <th>3</th>\n",
              "      <td>34</td>\n",
              "      <td>60</td>\n",
              "      <td>0</td>\n",
              "      <td>1</td>\n",
              "    </tr>\n",
              "    <tr>\n",
              "      <th>4</th>\n",
              "      <td>38</td>\n",
              "      <td>69</td>\n",
              "      <td>21</td>\n",
              "      <td>0</td>\n",
              "    </tr>\n",
              "    <tr>\n",
              "      <th>...</th>\n",
              "      <td>...</td>\n",
              "      <td>...</td>\n",
              "      <td>...</td>\n",
              "      <td>...</td>\n",
              "    </tr>\n",
              "    <tr>\n",
              "      <th>291</th>\n",
              "      <td>59</td>\n",
              "      <td>64</td>\n",
              "      <td>1</td>\n",
              "      <td>1</td>\n",
              "    </tr>\n",
              "    <tr>\n",
              "      <th>292</th>\n",
              "      <td>65</td>\n",
              "      <td>67</td>\n",
              "      <td>0</td>\n",
              "      <td>1</td>\n",
              "    </tr>\n",
              "    <tr>\n",
              "      <th>293</th>\n",
              "      <td>53</td>\n",
              "      <td>65</td>\n",
              "      <td>12</td>\n",
              "      <td>0</td>\n",
              "    </tr>\n",
              "    <tr>\n",
              "      <th>294</th>\n",
              "      <td>57</td>\n",
              "      <td>64</td>\n",
              "      <td>1</td>\n",
              "      <td>0</td>\n",
              "    </tr>\n",
              "    <tr>\n",
              "      <th>295</th>\n",
              "      <td>54</td>\n",
              "      <td>59</td>\n",
              "      <td>7</td>\n",
              "      <td>1</td>\n",
              "    </tr>\n",
              "  </tbody>\n",
              "</table>\n",
              "<p>296 rows × 4 columns</p>\n",
              "</div>"
            ],
            "text/plain": [
              "     x1  x2  x3  y\n",
              "0    60  64   0  1\n",
              "1    54  60  11  0\n",
              "2    65  62  22  0\n",
              "3    34  60   0  1\n",
              "4    38  69  21  0\n",
              "..   ..  ..  .. ..\n",
              "291  59  64   1  1\n",
              "292  65  67   0  1\n",
              "293  53  65  12  0\n",
              "294  57  64   1  0\n",
              "295  54  59   7  1\n",
              "\n",
              "[296 rows x 4 columns]"
            ]
          },
          "execution_count": 48,
          "metadata": {},
          "output_type": "execute_result"
        }
      ],
      "source": [
        "df.drop(columns = ['id'], axis = 1, inplace = True)\n",
        "df"
      ]
    },
    {
      "cell_type": "code",
      "execution_count": 49,
      "metadata": {
        "colab": {
          "base_uri": "https://localhost:8080/"
        },
        "id": "qwbn-6QRGEal",
        "outputId": "b3d5cfc3-743e-4681-ca23-21fb867367f7"
      },
      "outputs": [
        {
          "data": {
            "text/plain": [
              "(296, 4)"
            ]
          },
          "execution_count": 49,
          "metadata": {},
          "output_type": "execute_result"
        }
      ],
      "source": [
        "df.shape"
      ]
    },
    {
      "cell_type": "markdown",
      "metadata": {
        "id": "vG6JHGtNI4X-"
      },
      "source": [
        "## Korelasi antar variabel"
      ]
    },
    {
      "cell_type": "code",
      "execution_count": 50,
      "metadata": {
        "colab": {
          "base_uri": "https://localhost:8080/",
          "height": 619
        },
        "id": "VMYDAAs1I3wh",
        "outputId": "29e4cd40-aa89-4944-807e-f3b69fdda62b"
      },
      "outputs": [
        {
          "data": {
            "image/png": "[encoded data removed]",
            "text/plain": [
              "<Figure size 720x576 with 2 Axes>"
            ]
          },
          "metadata": {},
          "output_type": "display_data"
        }
      ],
      "source": [
        "fig, ax = plt.subplots(figsize=(10, 8))\n",
        "\n",
        "mask = np.triu(np.ones_like(df.corr(), dtype=bool))\n",
        "\n",
        "heatmap = sns.heatmap(df.corr(), mask=mask, vmin=-1, vmax=1, annot=True)\n",
        "\n",
        "plt.suptitle(\"Correlation Plot\", ha='left', x=0.155, y=1.04, fontsize=18, fontweight='bold')\n",
        "plt.title(\"Korelasi antara beberapa fitur\", loc='left', fontsize=12) \n",
        "plt.tight_layout()\n",
        "plt.show()"
      ]
    },
    {
      "cell_type": "markdown",
      "metadata": {
        "id": "sf6mM-4ZJmbo"
      },
      "source": [
        "dapat dilihat bahwa dataset di atas memiliki variabel yang tidak berkorelasi satu sama lain"
      ]
    },
    {
      "cell_type": "code",
      "execution_count": 51,
      "metadata": {
        "colab": {
          "base_uri": "https://localhost:8080/",
          "height": 599
        },
        "id": "g2Q46H2ILL7c",
        "outputId": "5447f45f-e197-4cf3-8c77-d7e8187870f2"
      },
      "outputs": [
        {
          "data": {
            "text/plain": [
              "<AxesSubplot:xlabel='x3', ylabel='Count'>"
            ]
          },
          "execution_count": 51,
          "metadata": {},
          "output_type": "execute_result"
        },
        {
          "data": {
            "image/png": "[encoded data removed]",
            "text/plain": [
              "<Figure size 936x576 with 3 Axes>"
            ]
          },
          "metadata": {},
          "output_type": "display_data"
        }
      ],
      "source": [
        "fig, axs = plt.subplots(ncols=3)\n",
        "sns.set(rc={'figure.figsize':(50,10)})\n",
        "sns.histplot(df['x1'], ax=axs[0])\n",
        "sns.histplot(df['x2'], ax=axs[1])\n",
        "sns.histplot(df['x3'], ax=axs[2])"
      ]
    },
    {
      "cell_type": "code",
      "execution_count": 52,
      "metadata": {
        "colab": {
          "base_uri": "https://localhost:8080/",
          "height": 581
        },
        "id": "YWBkvnMTRgmZ",
        "outputId": "ab0f3bdf-0c8c-4c25-b4c2-1fe0ccd3cce6"
      },
      "outputs": [
        {
          "data": {
            "image/png": "[encoded data removed]",
            "text/plain": [
              "<Figure size 936x576 with 1 Axes>"
            ]
          },
          "metadata": {},
          "output_type": "display_data"
        }
      ],
      "source": [
        "plt.rcParams[\"figure.figsize\"] = [13, 8]\n",
        "plt.rcParams[\"figure.autolayout\"] = True\n",
        "ax = df[['x1', 'x2', 'x3']].plot(kind='box', title='Box plot dataset')"
      ]
    },
    {
      "cell_type": "markdown",
      "metadata": {
        "id": "swK4WvK3cEvq"
      },
      "source": [
        "# Pre-processing"
      ]
    },
    {
      "cell_type": "markdown",
      "metadata": {
        "id": "oRD8qTfxcIf-"
      },
      "source": [
        "## Normalisasi data"
      ]
    },
    {
      "cell_type": "code",
      "execution_count": 53,
      "metadata": {
        "colab": {
          "base_uri": "https://localhost:8080/",
          "height": 424
        },
        "id": "VkC6X49xcHx4",
        "outputId": "e651994c-148d-4d2f-9bc4-092d04df6a2e"
      },
      "outputs": [
        {
          "data": {
            "text/html": [
              "<div>\n",
              "<style scoped>\n",
              "    .dataframe tbody tr th:only-of-type {\n",
              "        vertical-align: middle;\n",
              "    }\n",
              "\n",
              "    .dataframe tbody tr th {\n",
              "        vertical-align: top;\n",
              "    }\n",
              "\n",
              "    .dataframe thead th {\n",
              "        text-align: right;\n",
              "    }\n",
              "</style>\n",
              "<table border=\"1\" class=\"dataframe\">\n",
              "  <thead>\n",
              "    <tr style=\"text-align: right;\">\n",
              "      <th></th>\n",
              "      <th>x1</th>\n",
              "      <th>x2</th>\n",
              "      <th>x3</th>\n",
              "      <th>y</th>\n",
              "    </tr>\n",
              "  </thead>\n",
              "  <tbody>\n",
              "    <tr>\n",
              "      <th>0</th>\n",
              "      <td>0.566038</td>\n",
              "      <td>0.545455</td>\n",
              "      <td>0.000000</td>\n",
              "      <td>1.0</td>\n",
              "    </tr>\n",
              "    <tr>\n",
              "      <th>1</th>\n",
              "      <td>0.452830</td>\n",
              "      <td>0.181818</td>\n",
              "      <td>0.211538</td>\n",
              "      <td>0.0</td>\n",
              "    </tr>\n",
              "    <tr>\n",
              "      <th>2</th>\n",
              "      <td>0.660377</td>\n",
              "      <td>0.363636</td>\n",
              "      <td>0.423077</td>\n",
              "      <td>0.0</td>\n",
              "    </tr>\n",
              "    <tr>\n",
              "      <th>3</th>\n",
              "      <td>0.075472</td>\n",
              "      <td>0.181818</td>\n",
              "      <td>0.000000</td>\n",
              "      <td>1.0</td>\n",
              "    </tr>\n",
              "    <tr>\n",
              "      <th>4</th>\n",
              "      <td>0.150943</td>\n",
              "      <td>1.000000</td>\n",
              "      <td>0.403846</td>\n",
              "      <td>0.0</td>\n",
              "    </tr>\n",
              "    <tr>\n",
              "      <th>...</th>\n",
              "      <td>...</td>\n",
              "      <td>...</td>\n",
              "      <td>...</td>\n",
              "      <td>...</td>\n",
              "    </tr>\n",
              "    <tr>\n",
              "      <th>291</th>\n",
              "      <td>0.547170</td>\n",
              "      <td>0.545455</td>\n",
              "      <td>0.019231</td>\n",
              "      <td>1.0</td>\n",
              "    </tr>\n",
              "    <tr>\n",
              "      <th>292</th>\n",
              "      <td>0.660377</td>\n",
              "      <td>0.818182</td>\n",
              "      <td>0.000000</td>\n",
              "      <td>1.0</td>\n",
              "    </tr>\n",
              "    <tr>\n",
              "      <th>293</th>\n",
              "      <td>0.433962</td>\n",
              "      <td>0.636364</td>\n",
              "      <td>0.230769</td>\n",
              "      <td>0.0</td>\n",
              "    </tr>\n",
              "    <tr>\n",
              "      <th>294</th>\n",
              "      <td>0.509434</td>\n",
              "      <td>0.545455</td>\n",
              "      <td>0.019231</td>\n",
              "      <td>0.0</td>\n",
              "    </tr>\n",
              "    <tr>\n",
              "      <th>295</th>\n",
              "      <td>0.452830</td>\n",
              "      <td>0.090909</td>\n",
              "      <td>0.134615</td>\n",
              "      <td>1.0</td>\n",
              "    </tr>\n",
              "  </tbody>\n",
              "</table>\n",
              "<p>296 rows × 4 columns</p>\n",
              "</div>"
            ],
            "text/plain": [
              "           x1        x2        x3    y\n",
              "0    0.566038  0.545455  0.000000  1.0\n",
              "1    0.452830  0.181818  0.211538  0.0\n",
              "2    0.660377  0.363636  0.423077  0.0\n",
              "3    0.075472  0.181818  0.000000  1.0\n",
              "4    0.150943  1.000000  0.403846  0.0\n",
              "..        ...       ...       ...  ...\n",
              "291  0.547170  0.545455  0.019231  1.0\n",
              "292  0.660377  0.818182  0.000000  1.0\n",
              "293  0.433962  0.636364  0.230769  0.0\n",
              "294  0.509434  0.545455  0.019231  0.0\n",
              "295  0.452830  0.090909  0.134615  1.0\n",
              "\n",
              "[296 rows x 4 columns]"
            ]
          },
          "execution_count": 53,
          "metadata": {},
          "output_type": "execute_result"
        }
      ],
      "source": [
        "#normalisasi\n",
        "def minMaxScaling(df) :\n",
        "    return (df.iloc[:,:4] - df.iloc[:,:4].min()) / (df.iloc[:,:4].max() - df.iloc[:,:4].min())\n",
        "\n",
        "# def standardScaling(df) : \n",
        "#     return (df.iloc[:,1:] - df.iloc[:,1:].mean() / df.iloc[:,1:].std())\n",
        "\n",
        "dataNormalized = minMaxScaling(df)\n",
        "dataNormalized"
      ]
    },
    {
      "cell_type": "code",
      "execution_count": 54,
      "metadata": {
        "colab": {
          "base_uri": "https://localhost:8080/",
          "height": 581
        },
        "id": "RvsmC_gmcEUG",
        "outputId": "e124746c-564e-411d-a4a3-88fcfdbdc7d8"
      },
      "outputs": [
        {
          "data": {
            "image/png": "[encoded data removed]",
            "text/plain": [
              "<Figure size 936x576 with 1 Axes>"
            ]
          },
          "metadata": {},
          "output_type": "display_data"
        }
      ],
      "source": [
        "plt.rcParams[\"figure.figsize\"] = [13, 8]\n",
        "plt.rcParams[\"figure.autolayout\"] = True\n",
        "ax = dataNormalized[['x1', 'x2', 'x3']].plot(kind='box', title='box plot data setelah normalisasi')"
      ]
    },
    {
      "cell_type": "markdown",
      "metadata": {
        "id": "jqmFVkIOdHyQ"
      },
      "source": [
        "# Split dataset"
      ]
    },
    {
      "cell_type": "markdown",
      "metadata": {},
      "source": [
        "dataset akan dipisah menjadi training set dan validation set untuk menghitung akurasi tiap nilai k"
      ]
    },
    {
      "cell_type": "code",
      "execution_count": 55,
      "metadata": {
        "id": "z4BiXzZ8dLWe"
      },
      "outputs": [
        {
          "name": "stdout",
          "output_type": "stream",
          "text": [
            "           x1        x2        x3    y\n",
            "0    0.566038  0.545455  0.000000  1.0\n",
            "1    0.452830  0.181818  0.211538  0.0\n",
            "2    0.660377  0.363636  0.423077  0.0\n",
            "3    0.075472  0.181818  0.000000  1.0\n",
            "4    0.150943  1.000000  0.403846  0.0\n",
            "..        ...       ...       ...  ...\n",
            "291  0.547170  0.545455  0.019231  1.0\n",
            "292  0.660377  0.818182  0.000000  1.0\n",
            "293  0.433962  0.636364  0.230769  0.0\n",
            "294  0.509434  0.545455  0.019231  0.0\n",
            "295  0.452830  0.090909  0.134615  1.0\n",
            "\n",
            "[296 rows x 4 columns]\n"
          ]
        }
      ],
      "source": [
        "# Mengubah dataset menjadi array\n",
        "arrayDf = dataNormalized\n",
        "arrayDf.to_numpy()\n",
        "print(arrayDf)"
      ]
    },
    {
      "cell_type": "code",
      "execution_count": 63,
      "metadata": {},
      "outputs": [],
      "source": [
        "def kFolds(df,k):\n",
        "    # membagi data menjadi k folds\n",
        "    folds = np.array_split(arrayDf,k)\n",
        "    \n",
        "    for i in range(k):\n",
        "        print(i)\n",
        "        trainingSet = folds.copy()\n",
        "        validationSet = folds[i]\n",
        "        del trainingSet[i]\n",
        "        trainingSet = pd.concat(trainingSet, sort=False)\n",
        "        \n",
        "        print(\"trainingSet: \\n\",trainingSet)\n",
        "        print(\"validationSet: \\n\", validationSet)\n",
        "    return 0"
      ]
    },
    {
      "cell_type": "code",
      "execution_count": 64,
      "metadata": {},
      "outputs": [
        {
          "name": "stdout",
          "output_type": "stream",
          "text": [
            "0\n",
            "trainingSet: \n",
            "            x1        x2        x3    y\n",
            "20   0.509434  0.545455  0.173077  1.0\n",
            "21   0.301887  0.454545  0.000000  1.0\n",
            "22   0.113208  0.181818  0.019231  1.0\n",
            "23   0.415094  0.545455  0.000000  1.0\n",
            "24   0.396226  0.545455  0.134615  1.0\n",
            "..        ...       ...       ...  ...\n",
            "291  0.547170  0.545455  0.019231  1.0\n",
            "292  0.660377  0.818182  0.000000  1.0\n",
            "293  0.433962  0.636364  0.230769  0.0\n",
            "294  0.509434  0.545455  0.019231  0.0\n",
            "295  0.452830  0.090909  0.134615  1.0\n",
            "\n",
            "[276 rows x 4 columns]\n",
            "validationSet: \n",
            "           x1        x2        x3    y\n",
            "0   0.566038  0.545455  0.000000  1.0\n",
            "1   0.452830  0.181818  0.211538  0.0\n",
            "2   0.660377  0.363636  0.423077  0.0\n",
            "3   0.075472  0.181818  0.000000  1.0\n",
            "4   0.150943  1.000000  0.403846  0.0\n",
            "5   0.056604  0.000000  0.192308  1.0\n",
            "6   0.622642  0.272727  0.000000  1.0\n",
            "7   0.509434  0.545455  0.000000  1.0\n",
            "8   0.301887  0.000000  0.057692  1.0\n",
            "9   0.245283  0.636364  0.000000  1.0\n",
            "10  0.566038  0.090909  0.326923  0.0\n",
            "11  0.754717  0.090909  0.153846  1.0\n",
            "12  0.735849  0.181818  0.000000  1.0\n",
            "13  0.509434  0.272727  0.096154  0.0\n",
            "14  0.698113  0.272727  0.000000  1.0\n",
            "15  0.716981  0.818182  0.000000  1.0\n",
            "16  0.358491  0.272727  0.019231  1.0\n",
            "17  0.320755  0.000000  0.057692  1.0\n",
            "18  0.339623  0.818182  0.134615  0.0\n",
            "19  0.679245  0.000000  0.019231  1.0\n",
            "1\n",
            "trainingSet: \n",
            "            x1        x2        x3    y\n",
            "0    0.566038  0.545455  0.000000  1.0\n",
            "1    0.452830  0.181818  0.211538  0.0\n",
            "2    0.660377  0.363636  0.423077  0.0\n",
            "3    0.075472  0.181818  0.000000  1.0\n",
            "4    0.150943  1.000000  0.403846  0.0\n",
            "..        ...       ...       ...  ...\n",
            "291  0.547170  0.545455  0.019231  1.0\n",
            "292  0.660377  0.818182  0.000000  1.0\n",
            "293  0.433962  0.636364  0.230769  0.0\n",
            "294  0.509434  0.545455  0.019231  0.0\n",
            "295  0.452830  0.090909  0.134615  1.0\n",
            "\n",
            "[276 rows x 4 columns]\n",
            "validationSet: \n",
            "           x1        x2        x3    y\n",
            "20  0.509434  0.545455  0.173077  1.0\n",
            "21  0.301887  0.454545  0.000000  1.0\n",
            "22  0.113208  0.181818  0.019231  1.0\n",
            "23  0.415094  0.545455  0.000000  1.0\n",
            "24  0.396226  0.545455  0.134615  1.0\n",
            "25  0.207547  0.181818  0.442308  0.0\n",
            "26  0.433962  0.000000  0.076923  0.0\n",
            "27  0.377358  0.545455  0.000000  0.0\n",
            "28  0.490566  0.727273  0.038462  1.0\n",
            "29  0.283019  0.818182  0.000000  1.0\n",
            "30  0.754717  0.818182  0.000000  1.0\n",
            "31  0.283019  0.818182  0.019231  1.0\n",
            "32  0.132075  0.454545  0.000000  1.0\n",
            "33  0.584906  0.636364  0.153846  1.0\n",
            "34  0.377358  0.636364  0.076923  1.0\n",
            "35  0.886792  0.636364  0.057692  1.0\n",
            "36  0.509434  1.000000  0.000000  1.0\n",
            "37  0.603774  0.636364  0.365385  0.0\n",
            "38  0.660377  0.818182  0.019231  1.0\n",
            "39  0.264151  0.454545  0.019231  1.0\n",
            "2\n",
            "trainingSet: \n",
            "            x1        x2        x3    y\n",
            "0    0.566038  0.545455  0.000000  1.0\n",
            "1    0.452830  0.181818  0.211538  0.0\n",
            "2    0.660377  0.363636  0.423077  0.0\n",
            "3    0.075472  0.181818  0.000000  1.0\n",
            "4    0.150943  1.000000  0.403846  0.0\n",
            "..        ...       ...       ...  ...\n",
            "291  0.547170  0.545455  0.019231  1.0\n",
            "292  0.660377  0.818182  0.000000  1.0\n",
            "293  0.433962  0.636364  0.230769  0.0\n",
            "294  0.509434  0.545455  0.019231  0.0\n",
            "295  0.452830  0.090909  0.134615  1.0\n",
            "\n",
            "[276 rows x 4 columns]\n",
            "validationSet: \n",
            "           x1        x2        x3    y\n",
            "40  0.358491  0.363636  0.019231  1.0\n",
            "41  0.471698  0.000000  0.019231  1.0\n",
            "42  0.584906  0.909091  0.019231  0.0\n",
            "43  0.358491  0.363636  0.000000  1.0\n",
            "44  0.584906  0.545455  0.000000  1.0\n",
            "45  0.207547  0.545455  0.000000  0.0\n",
            "46  0.415094  0.909091  0.000000  1.0\n",
            "47  0.150943  0.727273  0.000000  1.0\n",
            "48  0.509434  0.363636  0.269231  0.0\n",
            "49  0.509434  0.818182  0.000000  1.0\n",
            "50  0.433962  0.181818  0.173077  0.0\n",
            "51  0.207547  0.818182  0.000000  0.0\n",
            "52  0.415094  0.636364  0.000000  1.0\n",
            "53  0.660377  0.000000  0.000000  0.0\n",
            "54  0.547170  0.454545  0.000000  1.0\n",
            "55  0.452830  0.454545  0.365385  1.0\n",
            "56  0.811321  0.363636  0.000000  1.0\n",
            "57  0.207547  0.090909  0.000000  1.0\n",
            "58  0.509434  0.545455  0.000000  1.0\n",
            "59  0.698113  0.545455  0.153846  0.0\n",
            "3\n",
            "trainingSet: \n",
            "            x1        x2        x3    y\n",
            "0    0.566038  0.545455  0.000000  1.0\n",
            "1    0.452830  0.181818  0.211538  0.0\n",
            "2    0.660377  0.363636  0.423077  0.0\n",
            "3    0.075472  0.181818  0.000000  1.0\n",
            "4    0.150943  1.000000  0.403846  0.0\n",
            "..        ...       ...       ...  ...\n",
            "291  0.547170  0.545455  0.019231  1.0\n",
            "292  0.660377  0.818182  0.000000  1.0\n",
            "293  0.433962  0.636364  0.230769  0.0\n",
            "294  0.509434  0.545455  0.019231  0.0\n",
            "295  0.452830  0.090909  0.134615  1.0\n",
            "\n",
            "[276 rows x 4 columns]\n",
            "validationSet: \n",
            "           x1        x2        x3    y\n",
            "60  0.207547  0.000000  0.000000  1.0\n",
            "61  0.452830  0.727273  0.000000  1.0\n",
            "62  0.509434  0.454545  0.000000  1.0\n",
            "63  0.301887  0.363636  0.096154  0.0\n",
            "64  0.150943  0.090909  0.038462  1.0\n",
            "65  0.056604  0.181818  0.000000  1.0\n",
            "66  0.339623  0.272727  0.153846  1.0\n",
            "67  0.716981  0.909091  0.000000  1.0\n",
            "68  0.679245  0.272727  0.250000  0.0\n",
            "69  0.641509  0.727273  0.000000  1.0\n",
            "70  0.132075  0.454545  0.000000  1.0\n",
            "71  0.603774  0.363636  0.115385  1.0\n",
            "72  0.150943  0.545455  0.019231  1.0\n",
            "73  0.622642  0.363636  0.000000  1.0\n",
            "74  0.471698  0.727273  0.000000  1.0\n",
            "75  0.584906  0.909091  0.000000  1.0\n",
            "76  0.377358  0.090909  0.000000  1.0\n",
            "77  0.245283  0.000000  1.000000  0.0\n",
            "78  0.905660  0.636364  0.019231  0.0\n",
            "79  0.849057  0.363636  0.019231  1.0\n",
            "4\n",
            "trainingSet: \n",
            "            x1        x2        x3    y\n",
            "0    0.566038  0.545455  0.000000  1.0\n",
            "1    0.452830  0.181818  0.211538  0.0\n",
            "2    0.660377  0.363636  0.423077  0.0\n",
            "3    0.075472  0.181818  0.000000  1.0\n",
            "4    0.150943  1.000000  0.403846  0.0\n",
            "..        ...       ...       ...  ...\n",
            "291  0.547170  0.545455  0.019231  1.0\n",
            "292  0.660377  0.818182  0.000000  1.0\n",
            "293  0.433962  0.636364  0.230769  0.0\n",
            "294  0.509434  0.545455  0.019231  0.0\n",
            "295  0.452830  0.090909  0.134615  1.0\n",
            "\n",
            "[276 rows x 4 columns]\n",
            "validationSet: \n",
            "           x1        x2        x3    y\n",
            "80  0.226415  0.454545  0.019231  1.0\n",
            "81  0.264151  0.000000  0.173077  0.0\n",
            "82  0.018868  0.090909  0.038462  1.0\n",
            "83  0.075472  0.818182  0.134615  1.0\n",
            "84  0.660377  0.090909  0.038462  1.0\n",
            "85  0.471698  1.000000  0.057692  1.0\n",
            "86  0.169811  0.000000  0.000000  1.0\n",
            "87  0.283019  0.545455  0.000000  1.0\n",
            "88  0.433962  0.454545  0.000000  1.0\n",
            "89  0.132075  0.090909  0.115385  1.0\n",
            "90  0.584906  0.090909  0.000000  1.0\n",
            "91  0.622642  0.181818  0.019231  0.0\n",
            "92  0.264151  0.272727  0.000000  1.0\n",
            "93  0.547170  0.545455  0.000000  1.0\n",
            "94  0.264151  0.454545  0.365385  0.0\n",
            "95  0.169811  0.454545  0.076923  1.0\n",
            "96  0.301887  1.000000  0.057692  0.0\n",
            "97  0.320755  0.727273  0.230769  1.0\n",
            "98  0.396226  0.090909  0.057692  0.0\n",
            "99  0.830189  0.454545  0.000000  1.0\n",
            "5\n",
            "trainingSet: \n",
            "            x1        x2        x3    y\n",
            "0    0.566038  0.545455  0.000000  1.0\n",
            "1    0.452830  0.181818  0.211538  0.0\n",
            "2    0.660377  0.363636  0.423077  0.0\n",
            "3    0.075472  0.181818  0.000000  1.0\n",
            "4    0.150943  1.000000  0.403846  0.0\n",
            "..        ...       ...       ...  ...\n",
            "291  0.547170  0.545455  0.019231  1.0\n",
            "292  0.660377  0.818182  0.000000  1.0\n",
            "293  0.433962  0.636364  0.230769  0.0\n",
            "294  0.509434  0.545455  0.019231  0.0\n",
            "295  0.452830  0.090909  0.134615  1.0\n",
            "\n",
            "[276 rows x 4 columns]\n",
            "validationSet: \n",
            "            x1        x2        x3    y\n",
            "100  0.452830  0.363636  0.000000  1.0\n",
            "101  0.471698  0.000000  0.000000  1.0\n",
            "102  0.264151  0.818182  0.307692  1.0\n",
            "103  0.811321  0.909091  0.000000  1.0\n",
            "104  0.735849  0.636364  0.000000  1.0\n",
            "105  0.000000  0.363636  0.057692  1.0\n",
            "106  0.452830  0.181818  0.057692  1.0\n",
            "107  0.679245  0.909091  0.000000  1.0\n",
            "108  0.528302  0.000000  0.000000  1.0\n",
            "109  0.207547  0.636364  0.000000  1.0\n",
            "110  0.150943  0.818182  0.096154  1.0\n",
            "111  0.245283  0.727273  0.076923  1.0\n",
            "112  0.132075  0.000000  0.000000  1.0\n",
            "113  0.471698  0.000000  0.019231  1.0\n",
            "114  0.320755  0.727273  0.000000  1.0\n",
            "115  0.415094  0.363636  0.019231  1.0\n",
            "116  0.320755  0.272727  0.000000  1.0\n",
            "117  0.377358  0.272727  0.000000  1.0\n",
            "118  0.679245  0.000000  0.000000  1.0\n",
            "119  0.283019  0.909091  0.000000  1.0\n",
            "6\n",
            "trainingSet: \n",
            "            x1        x2        x3    y\n",
            "0    0.566038  0.545455  0.000000  1.0\n",
            "1    0.452830  0.181818  0.211538  0.0\n",
            "2    0.660377  0.363636  0.423077  0.0\n",
            "3    0.075472  0.181818  0.000000  1.0\n",
            "4    0.150943  1.000000  0.403846  0.0\n",
            "..        ...       ...       ...  ...\n",
            "291  0.547170  0.545455  0.019231  1.0\n",
            "292  0.660377  0.818182  0.000000  1.0\n",
            "293  0.433962  0.636364  0.230769  0.0\n",
            "294  0.509434  0.545455  0.019231  0.0\n",
            "295  0.452830  0.090909  0.134615  1.0\n",
            "\n",
            "[276 rows x 4 columns]\n",
            "validationSet: \n",
            "            x1        x2        x3    y\n",
            "120  0.094340  0.454545  0.000000  1.0\n",
            "121  0.471698  0.818182  0.019231  1.0\n",
            "122  0.264151  0.272727  0.000000  1.0\n",
            "123  0.490566  0.181818  0.000000  1.0\n",
            "124  0.792453  0.818182  0.057692  1.0\n",
            "125  0.207547  0.090909  0.153846  1.0\n",
            "126  0.566038  0.636364  0.000000  0.0\n",
            "127  0.566038  0.272727  0.019231  1.0\n",
            "128  0.339623  0.000000  0.211538  0.0\n",
            "129  0.547170  0.363636  0.673077  0.0\n",
            "130  0.245283  0.454545  0.269231  1.0\n",
            "131  0.415094  0.090909  0.038462  0.0\n",
            "132  0.641509  0.636364  0.423077  1.0\n",
            "133  0.528302  0.272727  0.019231  1.0\n",
            "134  0.622642  0.454545  0.000000  1.0\n",
            "135  0.452830  0.636364  0.442308  0.0\n",
            "136  0.301887  0.000000  0.038462  0.0\n",
            "137  0.471698  0.909091  0.288462  0.0\n",
            "138  0.226415  0.000000  0.000000  1.0\n",
            "139  0.830189  0.636364  0.057692  0.0\n",
            "7\n",
            "trainingSet: \n",
            "            x1        x2        x3    y\n",
            "0    0.566038  0.545455  0.000000  1.0\n",
            "1    0.452830  0.181818  0.211538  0.0\n",
            "2    0.660377  0.363636  0.423077  0.0\n",
            "3    0.075472  0.181818  0.000000  1.0\n",
            "4    0.150943  1.000000  0.403846  0.0\n",
            "..        ...       ...       ...  ...\n",
            "291  0.547170  0.545455  0.019231  1.0\n",
            "292  0.660377  0.818182  0.000000  1.0\n",
            "293  0.433962  0.636364  0.230769  0.0\n",
            "294  0.509434  0.545455  0.019231  0.0\n",
            "295  0.452830  0.090909  0.134615  1.0\n",
            "\n",
            "[276 rows x 4 columns]\n",
            "validationSet: \n",
            "            x1        x2        x3    y\n",
            "140  0.754717  0.909091  0.000000  1.0\n",
            "141  0.377358  0.727273  0.019231  1.0\n",
            "142  0.622642  0.727273  0.000000  1.0\n",
            "143  0.603774  0.090909  0.250000  0.0\n",
            "144  0.433962  0.000000  0.019231  1.0\n",
            "145  0.226415  0.636364  0.000000  1.0\n",
            "146  0.792453  0.545455  0.000000  1.0\n",
            "147  0.150943  0.181818  0.019231  1.0\n",
            "148  0.698113  0.727273  0.000000  1.0\n",
            "149  0.547170  0.818182  0.057692  1.0\n",
            "150  0.528302  0.000000  0.057692  1.0\n",
            "151  0.660377  0.727273  0.288462  0.0\n",
            "152  0.660377  0.272727  0.038462  0.0\n",
            "153  0.358491  0.727273  0.000000  1.0\n",
            "154  0.377358  0.272727  0.000000  1.0\n",
            "155  0.283019  0.636364  0.115385  0.0\n",
            "156  0.132075  0.181818  0.288462  1.0\n",
            "157  0.528302  0.090909  0.000000  1.0\n",
            "158  0.754717  0.727273  0.269231  1.0\n",
            "159  0.641509  0.909091  0.000000  1.0\n",
            "8\n",
            "trainingSet: \n",
            "            x1        x2        x3    y\n",
            "0    0.566038  0.545455  0.000000  1.0\n",
            "1    0.452830  0.181818  0.211538  0.0\n",
            "2    0.660377  0.363636  0.423077  0.0\n",
            "3    0.075472  0.181818  0.000000  1.0\n",
            "4    0.150943  1.000000  0.403846  0.0\n",
            "..        ...       ...       ...  ...\n",
            "291  0.547170  0.545455  0.019231  1.0\n",
            "292  0.660377  0.818182  0.000000  1.0\n",
            "293  0.433962  0.636364  0.230769  0.0\n",
            "294  0.509434  0.545455  0.019231  0.0\n",
            "295  0.452830  0.090909  0.134615  1.0\n",
            "\n",
            "[276 rows x 4 columns]\n",
            "validationSet: \n",
            "            x1        x2        x3    y\n",
            "160  0.415094  1.000000  0.000000  1.0\n",
            "161  0.603774  0.000000  0.000000  1.0\n",
            "162  0.377358  0.454545  0.250000  0.0\n",
            "163  0.245283  0.545455  0.057692  1.0\n",
            "164  0.490566  0.727273  0.019231  1.0\n",
            "165  0.433962  0.181818  0.038462  1.0\n",
            "166  0.207547  1.000000  0.153846  1.0\n",
            "167  0.735849  0.727273  0.000000  1.0\n",
            "168  0.584906  0.090909  0.000000  1.0\n",
            "169  0.075472  0.000000  0.576923  1.0\n",
            "170  0.377358  0.000000  0.019231  1.0\n",
            "171  0.339623  0.727273  0.000000  1.0\n",
            "172  0.245283  0.181818  0.000000  1.0\n",
            "173  0.150943  0.181818  0.000000  1.0\n",
            "174  0.660377  0.545455  0.000000  1.0\n",
            "175  0.566038  0.818182  0.038462  1.0\n",
            "176  0.226415  0.090909  0.038462  1.0\n",
            "177  0.415094  0.727273  0.076923  0.0\n",
            "178  0.490566  0.181818  0.000000  1.0\n",
            "179  0.358491  0.272727  0.000000  1.0\n",
            "9\n",
            "trainingSet: \n",
            "            x1        x2        x3    y\n",
            "0    0.566038  0.545455  0.000000  1.0\n",
            "1    0.452830  0.181818  0.211538  0.0\n",
            "2    0.660377  0.363636  0.423077  0.0\n",
            "3    0.075472  0.181818  0.000000  1.0\n",
            "4    0.150943  1.000000  0.403846  0.0\n",
            "..        ...       ...       ...  ...\n",
            "291  0.547170  0.545455  0.019231  1.0\n",
            "292  0.660377  0.818182  0.000000  1.0\n",
            "293  0.433962  0.636364  0.230769  0.0\n",
            "294  0.509434  0.545455  0.019231  0.0\n",
            "295  0.452830  0.090909  0.134615  1.0\n",
            "\n",
            "[276 rows x 4 columns]\n",
            "validationSet: \n",
            "            x1        x2        x3    y\n",
            "180  0.339623  0.545455  0.000000  1.0\n",
            "181  0.471698  1.000000  0.423077  1.0\n",
            "182  0.754717  0.000000  0.000000  0.0\n",
            "183  0.320755  0.818182  0.000000  1.0\n",
            "184  0.283019  0.090909  0.269231  1.0\n",
            "185  0.320755  0.454545  0.442308  0.0\n",
            "186  0.396226  0.090909  0.019231  1.0\n",
            "187  0.396226  0.636364  0.000000  1.0\n",
            "188  0.358491  0.545455  0.192308  0.0\n",
            "189  0.622642  0.272727  0.173077  1.0\n",
            "190  0.245283  0.545455  0.038462  1.0\n",
            "191  0.415094  0.181818  0.096154  1.0\n",
            "192  0.396226  0.090909  0.250000  0.0\n",
            "193  0.452830  0.909091  0.134615  0.0\n",
            "194  0.358491  0.818182  0.019231  1.0\n",
            "195  0.660377  0.545455  0.000000  1.0\n",
            "196  0.754717  0.000000  0.076923  0.0\n",
            "197  0.320755  0.636364  0.000000  0.0\n",
            "198  0.547170  0.545455  0.076923  1.0\n",
            "199  0.452830  0.636364  0.096154  0.0\n",
            "10\n",
            "trainingSet: \n",
            "            x1        x2        x3    y\n",
            "0    0.566038  0.545455  0.000000  1.0\n",
            "1    0.452830  0.181818  0.211538  0.0\n",
            "2    0.660377  0.363636  0.423077  0.0\n",
            "3    0.075472  0.181818  0.000000  1.0\n",
            "4    0.150943  1.000000  0.403846  0.0\n",
            "..        ...       ...       ...  ...\n",
            "291  0.547170  0.545455  0.019231  1.0\n",
            "292  0.660377  0.818182  0.000000  1.0\n",
            "293  0.433962  0.636364  0.230769  0.0\n",
            "294  0.509434  0.545455  0.019231  0.0\n",
            "295  0.452830  0.090909  0.134615  1.0\n",
            "\n",
            "[276 rows x 4 columns]\n",
            "validationSet: \n",
            "            x1        x2        x3    y\n",
            "200  0.622642  0.272727  0.538462  1.0\n",
            "201  0.452830  0.818182  0.884615  1.0\n",
            "202  0.622642  0.454545  0.000000  1.0\n",
            "203  0.433962  0.090909  0.057692  0.0\n",
            "204  0.471698  0.454545  0.115385  0.0\n",
            "205  0.207547  0.545455  0.000000  1.0\n",
            "206  0.150943  0.363636  0.057692  1.0\n",
            "207  0.283019  0.727273  0.000000  0.0\n",
            "208  0.339623  0.000000  0.211538  0.0\n",
            "209  0.283019  0.818182  0.019231  0.0\n",
            "210  0.358491  0.454545  0.000000  0.0\n",
            "211  0.169811  0.454545  0.000000  1.0\n",
            "212  0.226415  0.363636  0.384615  1.0\n",
            "213  0.773585  0.909091  0.038462  1.0\n",
            "214  0.415094  0.363636  0.057692  0.0\n",
            "215  0.528302  0.818182  0.000000  1.0\n",
            "216  0.377358  0.454545  0.019231  1.0\n",
            "217  0.415094  0.272727  0.000000  1.0\n",
            "218  0.169811  0.727273  0.000000  0.0\n",
            "219  0.150943  0.727273  0.211538  1.0\n",
            "11\n",
            "trainingSet: \n",
            "            x1        x2        x3    y\n",
            "0    0.566038  0.545455  0.000000  1.0\n",
            "1    0.452830  0.181818  0.211538  0.0\n",
            "2    0.660377  0.363636  0.423077  0.0\n",
            "3    0.075472  0.181818  0.000000  1.0\n",
            "4    0.150943  1.000000  0.403846  0.0\n",
            "..        ...       ...       ...  ...\n",
            "291  0.547170  0.545455  0.019231  1.0\n",
            "292  0.660377  0.818182  0.000000  1.0\n",
            "293  0.433962  0.636364  0.230769  0.0\n",
            "294  0.509434  0.545455  0.019231  0.0\n",
            "295  0.452830  0.090909  0.134615  1.0\n",
            "\n",
            "[277 rows x 4 columns]\n",
            "validationSet: \n",
            "            x1        x2        x3    y\n",
            "220  0.094340  0.545455  0.250000  1.0\n",
            "221  0.150943  0.181818  0.000000  1.0\n",
            "222  0.075472  0.727273  0.173077  0.0\n",
            "223  0.792453  0.454545  0.000000  0.0\n",
            "224  0.679245  0.000000  0.000000  0.0\n",
            "225  0.433962  0.636364  0.019231  0.0\n",
            "226  0.509434  0.272727  0.000000  1.0\n",
            "227  0.490566  0.636364  0.173077  0.0\n",
            "228  0.698113  0.454545  0.019231  0.0\n",
            "229  0.320755  0.454545  0.115385  1.0\n",
            "230  0.433962  0.272727  0.019231  1.0\n",
            "231  0.113208  1.000000  0.000000  1.0\n",
            "232  0.509434  0.363636  0.000000  1.0\n",
            "233  0.169811  0.090909  0.038462  1.0\n",
            "234  0.245283  0.545455  0.000000  0.0\n",
            "235  0.584906  0.090909  0.000000  1.0\n",
            "236  0.339623  0.363636  0.038462  1.0\n",
            "237  0.169811  0.818182  0.000000  1.0\n",
            "238  0.377358  0.545455  0.000000  1.0\n",
            "12\n",
            "trainingSet: \n",
            "            x1        x2        x3    y\n",
            "0    0.566038  0.545455  0.000000  1.0\n",
            "1    0.452830  0.181818  0.211538  0.0\n",
            "2    0.660377  0.363636  0.423077  0.0\n",
            "3    0.075472  0.181818  0.000000  1.0\n",
            "4    0.150943  1.000000  0.403846  0.0\n",
            "..        ...       ...       ...  ...\n",
            "291  0.547170  0.545455  0.019231  1.0\n",
            "292  0.660377  0.818182  0.000000  1.0\n",
            "293  0.433962  0.636364  0.230769  0.0\n",
            "294  0.509434  0.545455  0.019231  0.0\n",
            "295  0.452830  0.090909  0.134615  1.0\n",
            "\n",
            "[277 rows x 4 columns]\n",
            "validationSet: \n",
            "            x1        x2        x3    y\n",
            "239  0.584906  0.636364  0.000000  0.0\n",
            "240  0.867925  0.818182  0.000000  1.0\n",
            "241  0.547170  0.545455  0.134615  1.0\n",
            "242  0.433962  0.454545  0.461538  0.0\n",
            "243  0.188679  0.000000  0.000000  1.0\n",
            "244  0.698113  0.636364  0.000000  1.0\n",
            "245  0.301887  0.363636  0.000000  1.0\n",
            "246  0.415094  1.000000  0.057692  0.0\n",
            "247  0.566038  0.272727  0.480769  1.0\n",
            "248  0.792453  0.000000  0.000000  1.0\n",
            "249  0.320755  0.909091  0.076923  1.0\n",
            "250  0.226415  0.181818  0.019231  1.0\n",
            "251  0.471698  0.727273  0.346154  1.0\n",
            "252  0.358491  0.181818  0.019231  1.0\n",
            "253  0.603774  0.727273  0.000000  1.0\n",
            "254  0.660377  0.000000  0.000000  1.0\n",
            "255  1.000000  0.000000  0.038462  0.0\n",
            "256  0.075472  0.272727  0.192308  1.0\n",
            "257  0.396226  0.727273  0.019231  1.0\n",
            "13\n",
            "trainingSet: \n",
            "            x1        x2        x3    y\n",
            "0    0.566038  0.545455  0.000000  1.0\n",
            "1    0.452830  0.181818  0.211538  0.0\n",
            "2    0.660377  0.363636  0.423077  0.0\n",
            "3    0.075472  0.181818  0.000000  1.0\n",
            "4    0.150943  1.000000  0.403846  0.0\n",
            "..        ...       ...       ...  ...\n",
            "291  0.547170  0.545455  0.019231  1.0\n",
            "292  0.660377  0.818182  0.000000  1.0\n",
            "293  0.433962  0.636364  0.230769  0.0\n",
            "294  0.509434  0.545455  0.019231  0.0\n",
            "295  0.452830  0.090909  0.134615  1.0\n",
            "\n",
            "[277 rows x 4 columns]\n",
            "validationSet: \n",
            "            x1        x2        x3    y\n",
            "258  0.584906  0.363636  0.096154  0.0\n",
            "259  0.301887  0.636364  0.384615  0.0\n",
            "260  0.452830  0.363636  0.000000  1.0\n",
            "261  0.000000  0.545455  0.019231  1.0\n",
            "262  0.226415  0.090909  0.000000  0.0\n",
            "263  0.735849  0.818182  0.153846  0.0\n",
            "264  0.415094  0.363636  0.000000  1.0\n",
            "265  0.415094  0.181818  0.076923  1.0\n",
            "266  0.528302  0.272727  0.038462  1.0\n",
            "267  0.188679  0.636364  0.000000  1.0\n",
            "268  0.754717  0.454545  0.000000  1.0\n",
            "269  0.433962  0.181818  0.019231  1.0\n",
            "270  0.245283  0.545455  0.000000  0.0\n",
            "271  0.603774  0.000000  0.000000  0.0\n",
            "272  0.641509  0.000000  0.000000  1.0\n",
            "273  0.000000  0.636364  0.000000  1.0\n",
            "274  0.226415  0.272727  0.076923  1.0\n",
            "275  0.603774  0.727273  0.000000  1.0\n",
            "276  0.245283  0.454545  0.038462  1.0\n",
            "14\n",
            "trainingSet: \n",
            "            x1        x2        x3    y\n",
            "0    0.566038  0.545455  0.000000  1.0\n",
            "1    0.452830  0.181818  0.211538  0.0\n",
            "2    0.660377  0.363636  0.423077  0.0\n",
            "3    0.075472  0.181818  0.000000  1.0\n",
            "4    0.150943  1.000000  0.403846  0.0\n",
            "..        ...       ...       ...  ...\n",
            "272  0.641509  0.000000  0.000000  1.0\n",
            "273  0.000000  0.636364  0.000000  1.0\n",
            "274  0.226415  0.272727  0.076923  1.0\n",
            "275  0.603774  0.727273  0.000000  1.0\n",
            "276  0.245283  0.454545  0.038462  1.0\n",
            "\n",
            "[277 rows x 4 columns]\n",
            "validationSet: \n",
            "            x1        x2        x3    y\n",
            "277  0.207547  0.636364  0.000000  1.0\n",
            "278  0.320755  0.363636  0.000000  0.0\n",
            "279  0.132075  0.181818  0.000000  1.0\n",
            "280  0.075472  0.181818  0.019231  1.0\n",
            "281  0.188679  0.000000  0.038462  1.0\n",
            "282  0.415094  0.454545  0.076923  1.0\n",
            "283  0.264151  0.545455  0.115385  0.0\n",
            "284  0.075472  0.090909  0.000000  0.0\n",
            "285  0.018868  0.636364  0.076923  1.0\n",
            "286  0.490566  0.818182  0.000000  1.0\n",
            "287  0.452830  1.000000  0.134615  1.0\n",
            "288  0.320755  0.181818  0.076923  1.0\n",
            "289  0.641509  0.272727  0.000000  1.0\n",
            "290  0.377358  0.272727  0.115385  1.0\n",
            "291  0.547170  0.545455  0.019231  1.0\n",
            "292  0.660377  0.818182  0.000000  1.0\n",
            "293  0.433962  0.636364  0.230769  0.0\n",
            "294  0.509434  0.545455  0.019231  0.0\n",
            "295  0.452830  0.090909  0.134615  1.0\n"
          ]
        },
        {
          "data": {
            "text/plain": [
              "0"
            ]
          },
          "execution_count": 64,
          "metadata": {},
          "output_type": "execute_result"
        }
      ],
      "source": [
        "kFolds(arrayDf,15)"
      ]
    },
    {
      "cell_type": "markdown",
      "metadata": {},
      "source": [
        "# Perhitungan jarak"
      ]
    },
    {
      "cell_type": "code",
      "execution_count": 58,
      "metadata": {},
      "outputs": [],
      "source": [
        "def euclidean_distance(x, y):\n",
        "    #d = √[(x2–x1)^2+(y2–y1)^2]\n",
        "    dist = 0\n",
        "    for i in range(len(y)):\n",
        "        dist += (x[i] - y[i])**2\n",
        "\n",
        "    return dist ** (1/2)\n",
        "\n",
        "def manhattan_distance(x, y):\n",
        "    #d = |x2–x1|+|y2–y1|\n",
        "    dist = 0\n",
        "    for i in range(len(x)):\n",
        "        dist += abs(x[i] - y[i])\n",
        "\n",
        "    return dist\n",
        " \n",
        "def minkowski_distance(x, y, p=2):\n",
        "    #d = h√[(x2–x1)^2+(y2–y1)^2]\n",
        "    dist = 0\n",
        "    for i in range(len(x)):\n",
        "        dist += abs(x[i] - y[i]) ** p\n",
        "\n",
        "    return dist ** (1/p)\n",
        "\n",
        "def supremum_distance(x, y):\n",
        "    #d = max|xik-yjk|\n",
        "    dist = []\n",
        "    for i in range(len(x)):\n",
        "        dist.append(abs(x[i] - y[i]))\n",
        "\n",
        "    return max(dist)\n"
      ]
    },
    {
      "cell_type": "code",
      "execution_count": null,
      "metadata": {},
      "outputs": [],
      "source": []
    }
  ],
  "metadata": {
    "colab": {
      "collapsed_sections": [],
      "include_colab_link": true,
      "name": "AI-Kelompok 15-Learning.ipynb",
      "provenance": []
    },
    "kernelspec": {
      "display_name": "Python 3.9.12 ('base')",
      "language": "python",
      "name": "python3"
    },
    "language_info": {
      "codemirror_mode": {
        "name": "ipython",
        "version": 3
      },
      "file_extension": ".py",
      "mimetype": "text/x-python",
      "name": "python",
      "nbconvert_exporter": "python",
      "pygments_lexer": "ipython3",
      "version": "3.9.12"
    },
    "orig_nbformat": 4,
    "vscode": {
      "interpreter": {
        "hash": "dc07d24e2f18896857f0b2a651fe84ba40ce7b297e58d8804a308c8039f752a6"
      }
    }
  },
  "nbformat": 4,
  "nbformat_minor": 0
}
