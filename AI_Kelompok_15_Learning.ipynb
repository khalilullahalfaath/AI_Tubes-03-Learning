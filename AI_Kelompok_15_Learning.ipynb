{
  "cells": [
    {
      "cell_type": "markdown",
      "metadata": {
        "colab_type": "text",
        "id": "view-in-github"
      },
      "source": [
        "<a href=\"https://colab.research.google.com/github/khalilullahalfaath/AI_Tubes-03-Learning/blob/main/AI_Kelompok_15_Learning.ipynb\" target=\"_parent\"><img src=\"https://colab.research.google.com/assets/colab-badge.svg\" alt=\"Open In Colab\"/></a>"
      ]
    },
    {
      "cell_type": "code",
      "execution_count": 730,
      "metadata": {
        "id": "ht29WUfzEWv4"
      },
      "outputs": [],
      "source": [
        "import pandas as pd\n",
        "import matplotlib.pyplot as plt\n",
        "import numpy as np\n",
        "import seaborn as sns\n",
        "import math"
      ]
    },
    {
      "cell_type": "markdown",
      "metadata": {
        "id": "mhsjGWHjEYME"
      },
      "source": [
        "# Membaca dataset"
      ]
    },
    {
      "cell_type": "code",
      "execution_count": 731,
      "metadata": {
        "id": "s-pTDdA3EWv7"
      },
      "outputs": [],
      "source": [
        "df = pd.read_excel(\"https://github.com/khalilullahalfaath/AI_Tubes-03-Learning/blob/19d11d6e2fa2d540afdc0cec3308b82c664d29f7/traintest.xlsx?raw=true\")"
      ]
    },
    {
      "cell_type": "code",
      "execution_count": 732,
      "metadata": {
        "colab": {
          "base_uri": "https://localhost:8080/",
          "height": 424
        },
        "id": "Yc0ahWjsEWv7",
        "outputId": "f54c4847-a449-4165-c167-ed565e3e2872"
      },
      "outputs": [
        {
          "data": {
            "text/html": [
              "<div>\n",
              "<style scoped>\n",
              "    .dataframe tbody tr th:only-of-type {\n",
              "        vertical-align: middle;\n",
              "    }\n",
              "\n",
              "    .dataframe tbody tr th {\n",
              "        vertical-align: top;\n",
              "    }\n",
              "\n",
              "    .dataframe thead th {\n",
              "        text-align: right;\n",
              "    }\n",
              "</style>\n",
              "<table border=\"1\" class=\"dataframe\">\n",
              "  <thead>\n",
              "    <tr style=\"text-align: right;\">\n",
              "      <th></th>\n",
              "      <th>id</th>\n",
              "      <th>x1</th>\n",
              "      <th>x2</th>\n",
              "      <th>x3</th>\n",
              "      <th>y</th>\n",
              "    </tr>\n",
              "  </thead>\n",
              "  <tbody>\n",
              "    <tr>\n",
              "      <th>0</th>\n",
              "      <td>1</td>\n",
              "      <td>60</td>\n",
              "      <td>64</td>\n",
              "      <td>0</td>\n",
              "      <td>1</td>\n",
              "    </tr>\n",
              "    <tr>\n",
              "      <th>1</th>\n",
              "      <td>2</td>\n",
              "      <td>54</td>\n",
              "      <td>60</td>\n",
              "      <td>11</td>\n",
              "      <td>0</td>\n",
              "    </tr>\n",
              "    <tr>\n",
              "      <th>2</th>\n",
              "      <td>3</td>\n",
              "      <td>65</td>\n",
              "      <td>62</td>\n",
              "      <td>22</td>\n",
              "      <td>0</td>\n",
              "    </tr>\n",
              "    <tr>\n",
              "      <th>3</th>\n",
              "      <td>4</td>\n",
              "      <td>34</td>\n",
              "      <td>60</td>\n",
              "      <td>0</td>\n",
              "      <td>1</td>\n",
              "    </tr>\n",
              "    <tr>\n",
              "      <th>4</th>\n",
              "      <td>5</td>\n",
              "      <td>38</td>\n",
              "      <td>69</td>\n",
              "      <td>21</td>\n",
              "      <td>0</td>\n",
              "    </tr>\n",
              "    <tr>\n",
              "      <th>...</th>\n",
              "      <td>...</td>\n",
              "      <td>...</td>\n",
              "      <td>...</td>\n",
              "      <td>...</td>\n",
              "      <td>...</td>\n",
              "    </tr>\n",
              "    <tr>\n",
              "      <th>291</th>\n",
              "      <td>292</td>\n",
              "      <td>59</td>\n",
              "      <td>64</td>\n",
              "      <td>1</td>\n",
              "      <td>1</td>\n",
              "    </tr>\n",
              "    <tr>\n",
              "      <th>292</th>\n",
              "      <td>293</td>\n",
              "      <td>65</td>\n",
              "      <td>67</td>\n",
              "      <td>0</td>\n",
              "      <td>1</td>\n",
              "    </tr>\n",
              "    <tr>\n",
              "      <th>293</th>\n",
              "      <td>294</td>\n",
              "      <td>53</td>\n",
              "      <td>65</td>\n",
              "      <td>12</td>\n",
              "      <td>0</td>\n",
              "    </tr>\n",
              "    <tr>\n",
              "      <th>294</th>\n",
              "      <td>295</td>\n",
              "      <td>57</td>\n",
              "      <td>64</td>\n",
              "      <td>1</td>\n",
              "      <td>0</td>\n",
              "    </tr>\n",
              "    <tr>\n",
              "      <th>295</th>\n",
              "      <td>296</td>\n",
              "      <td>54</td>\n",
              "      <td>59</td>\n",
              "      <td>7</td>\n",
              "      <td>1</td>\n",
              "    </tr>\n",
              "  </tbody>\n",
              "</table>\n",
              "<p>296 rows × 5 columns</p>\n",
              "</div>"
            ],
            "text/plain": [
              "      id  x1  x2  x3  y\n",
              "0      1  60  64   0  1\n",
              "1      2  54  60  11  0\n",
              "2      3  65  62  22  0\n",
              "3      4  34  60   0  1\n",
              "4      5  38  69  21  0\n",
              "..   ...  ..  ..  .. ..\n",
              "291  292  59  64   1  1\n",
              "292  293  65  67   0  1\n",
              "293  294  53  65  12  0\n",
              "294  295  57  64   1  0\n",
              "295  296  54  59   7  1\n",
              "\n",
              "[296 rows x 5 columns]"
            ]
          },
          "execution_count": 732,
          "metadata": {},
          "output_type": "execute_result"
        }
      ],
      "source": [
        "df"
      ]
    },
    {
      "cell_type": "markdown",
      "metadata": {
        "id": "RuYB66siEdPC"
      },
      "source": [
        "# EDA (Exploratory Data Analysist)\n"
      ]
    },
    {
      "cell_type": "markdown",
      "metadata": {
        "id": "Fdq8cEe_FSZL"
      },
      "source": [
        "## Info terkait dataset"
      ]
    },
    {
      "cell_type": "code",
      "execution_count": 733,
      "metadata": {
        "colab": {
          "base_uri": "https://localhost:8080/"
        },
        "id": "u3gcrwyUEjj9",
        "outputId": "f43adba8-d2ee-4dfe-ca25-4a878bb829bc"
      },
      "outputs": [
        {
          "name": "stdout",
          "output_type": "stream",
          "text": [
            "<class 'pandas.core.frame.DataFrame'>\n",
            "RangeIndex: 296 entries, 0 to 295\n",
            "Data columns (total 5 columns):\n",
            " #   Column  Non-Null Count  Dtype\n",
            "---  ------  --------------  -----\n",
            " 0   id      296 non-null    int64\n",
            " 1   x1      296 non-null    int64\n",
            " 2   x2      296 non-null    int64\n",
            " 3   x3      296 non-null    int64\n",
            " 4   y       296 non-null    int64\n",
            "dtypes: int64(5)\n",
            "memory usage: 11.7 KB\n"
          ]
        }
      ],
      "source": [
        "df.info()"
      ]
    },
    {
      "cell_type": "markdown",
      "metadata": {
        "id": "sAmuKX5cFCTn"
      },
      "source": [
        "Dapat dilihat bahwa seluruh data merupakan integers sehingga tidak perlu dilakukan perubahan untuk mendapatkan tipe data yang sama. Diketahui pula bahwa tidak ada data NULL sehingga tidak ada yang perlu diisi"
      ]
    },
    {
      "cell_type": "markdown",
      "metadata": {
        "id": "mGmORdNeFWNn"
      },
      "source": [
        "## Deskripsi terkait dataset"
      ]
    },
    {
      "cell_type": "code",
      "execution_count": 734,
      "metadata": {
        "colab": {
          "base_uri": "https://localhost:8080/",
          "height": 300
        },
        "id": "LvTEoOCyFOMX",
        "outputId": "95a60b2b-ed58-49fa-a135-6addb64bddaf"
      },
      "outputs": [
        {
          "data": {
            "text/html": [
              "<div>\n",
              "<style scoped>\n",
              "    .dataframe tbody tr th:only-of-type {\n",
              "        vertical-align: middle;\n",
              "    }\n",
              "\n",
              "    .dataframe tbody tr th {\n",
              "        vertical-align: top;\n",
              "    }\n",
              "\n",
              "    .dataframe thead th {\n",
              "        text-align: right;\n",
              "    }\n",
              "</style>\n",
              "<table border=\"1\" class=\"dataframe\">\n",
              "  <thead>\n",
              "    <tr style=\"text-align: right;\">\n",
              "      <th></th>\n",
              "      <th>id</th>\n",
              "      <th>x1</th>\n",
              "      <th>x2</th>\n",
              "      <th>x3</th>\n",
              "      <th>y</th>\n",
              "    </tr>\n",
              "  </thead>\n",
              "  <tbody>\n",
              "    <tr>\n",
              "      <th>count</th>\n",
              "      <td>296.000000</td>\n",
              "      <td>296.000000</td>\n",
              "      <td>296.000000</td>\n",
              "      <td>296.000000</td>\n",
              "      <td>296.000000</td>\n",
              "    </tr>\n",
              "    <tr>\n",
              "      <th>mean</th>\n",
              "      <td>148.500000</td>\n",
              "      <td>52.462838</td>\n",
              "      <td>62.881757</td>\n",
              "      <td>4.111486</td>\n",
              "      <td>0.736486</td>\n",
              "    </tr>\n",
              "    <tr>\n",
              "      <th>std</th>\n",
              "      <td>85.592056</td>\n",
              "      <td>10.896367</td>\n",
              "      <td>3.233753</td>\n",
              "      <td>7.291816</td>\n",
              "      <td>0.441285</td>\n",
              "    </tr>\n",
              "    <tr>\n",
              "      <th>min</th>\n",
              "      <td>1.000000</td>\n",
              "      <td>30.000000</td>\n",
              "      <td>58.000000</td>\n",
              "      <td>0.000000</td>\n",
              "      <td>0.000000</td>\n",
              "    </tr>\n",
              "    <tr>\n",
              "      <th>25%</th>\n",
              "      <td>74.750000</td>\n",
              "      <td>44.000000</td>\n",
              "      <td>60.000000</td>\n",
              "      <td>0.000000</td>\n",
              "      <td>0.000000</td>\n",
              "    </tr>\n",
              "    <tr>\n",
              "      <th>50%</th>\n",
              "      <td>148.500000</td>\n",
              "      <td>52.000000</td>\n",
              "      <td>63.000000</td>\n",
              "      <td>1.000000</td>\n",
              "      <td>1.000000</td>\n",
              "    </tr>\n",
              "    <tr>\n",
              "      <th>75%</th>\n",
              "      <td>222.250000</td>\n",
              "      <td>61.000000</td>\n",
              "      <td>65.250000</td>\n",
              "      <td>5.000000</td>\n",
              "      <td>1.000000</td>\n",
              "    </tr>\n",
              "    <tr>\n",
              "      <th>max</th>\n",
              "      <td>296.000000</td>\n",
              "      <td>83.000000</td>\n",
              "      <td>69.000000</td>\n",
              "      <td>52.000000</td>\n",
              "      <td>1.000000</td>\n",
              "    </tr>\n",
              "  </tbody>\n",
              "</table>\n",
              "</div>"
            ],
            "text/plain": [
              "               id          x1          x2          x3           y\n",
              "count  296.000000  296.000000  296.000000  296.000000  296.000000\n",
              "mean   148.500000   52.462838   62.881757    4.111486    0.736486\n",
              "std     85.592056   10.896367    3.233753    7.291816    0.441285\n",
              "min      1.000000   30.000000   58.000000    0.000000    0.000000\n",
              "25%     74.750000   44.000000   60.000000    0.000000    0.000000\n",
              "50%    148.500000   52.000000   63.000000    1.000000    1.000000\n",
              "75%    222.250000   61.000000   65.250000    5.000000    1.000000\n",
              "max    296.000000   83.000000   69.000000   52.000000    1.000000"
            ]
          },
          "execution_count": 734,
          "metadata": {},
          "output_type": "execute_result"
        }
      ],
      "source": [
        "df.describe()"
      ]
    },
    {
      "cell_type": "markdown",
      "metadata": {
        "id": "wC53SEjyII_8"
      },
      "source": [
        "## Menampilkan 3 data teratas"
      ]
    },
    {
      "cell_type": "code",
      "execution_count": 735,
      "metadata": {
        "colab": {
          "base_uri": "https://localhost:8080/",
          "height": 143
        },
        "id": "-Gnp3I51Fix0",
        "outputId": "6f48e55f-6053-4170-93b0-13e6afcbd2c5"
      },
      "outputs": [
        {
          "data": {
            "text/html": [
              "<div>\n",
              "<style scoped>\n",
              "    .dataframe tbody tr th:only-of-type {\n",
              "        vertical-align: middle;\n",
              "    }\n",
              "\n",
              "    .dataframe tbody tr th {\n",
              "        vertical-align: top;\n",
              "    }\n",
              "\n",
              "    .dataframe thead th {\n",
              "        text-align: right;\n",
              "    }\n",
              "</style>\n",
              "<table border=\"1\" class=\"dataframe\">\n",
              "  <thead>\n",
              "    <tr style=\"text-align: right;\">\n",
              "      <th></th>\n",
              "      <th>id</th>\n",
              "      <th>x1</th>\n",
              "      <th>x2</th>\n",
              "      <th>x3</th>\n",
              "      <th>y</th>\n",
              "    </tr>\n",
              "  </thead>\n",
              "  <tbody>\n",
              "    <tr>\n",
              "      <th>0</th>\n",
              "      <td>1</td>\n",
              "      <td>60</td>\n",
              "      <td>64</td>\n",
              "      <td>0</td>\n",
              "      <td>1</td>\n",
              "    </tr>\n",
              "    <tr>\n",
              "      <th>1</th>\n",
              "      <td>2</td>\n",
              "      <td>54</td>\n",
              "      <td>60</td>\n",
              "      <td>11</td>\n",
              "      <td>0</td>\n",
              "    </tr>\n",
              "    <tr>\n",
              "      <th>2</th>\n",
              "      <td>3</td>\n",
              "      <td>65</td>\n",
              "      <td>62</td>\n",
              "      <td>22</td>\n",
              "      <td>0</td>\n",
              "    </tr>\n",
              "  </tbody>\n",
              "</table>\n",
              "</div>"
            ],
            "text/plain": [
              "   id  x1  x2  x3  y\n",
              "0   1  60  64   0  1\n",
              "1   2  54  60  11  0\n",
              "2   3  65  62  22  0"
            ]
          },
          "execution_count": 735,
          "metadata": {},
          "output_type": "execute_result"
        }
      ],
      "source": [
        "df.head(3)"
      ]
    },
    {
      "cell_type": "markdown",
      "metadata": {
        "id": "pDrdkLREIL4a"
      },
      "source": [
        "## Menampilkan 3 data terbawah"
      ]
    },
    {
      "cell_type": "code",
      "execution_count": 736,
      "metadata": {
        "colab": {
          "base_uri": "https://localhost:8080/",
          "height": 143
        },
        "id": "b-bUAbBqFisU",
        "outputId": "12ecbb1a-cc5e-4906-98d5-4e7a5332ac6c"
      },
      "outputs": [
        {
          "data": {
            "text/html": [
              "<div>\n",
              "<style scoped>\n",
              "    .dataframe tbody tr th:only-of-type {\n",
              "        vertical-align: middle;\n",
              "    }\n",
              "\n",
              "    .dataframe tbody tr th {\n",
              "        vertical-align: top;\n",
              "    }\n",
              "\n",
              "    .dataframe thead th {\n",
              "        text-align: right;\n",
              "    }\n",
              "</style>\n",
              "<table border=\"1\" class=\"dataframe\">\n",
              "  <thead>\n",
              "    <tr style=\"text-align: right;\">\n",
              "      <th></th>\n",
              "      <th>id</th>\n",
              "      <th>x1</th>\n",
              "      <th>x2</th>\n",
              "      <th>x3</th>\n",
              "      <th>y</th>\n",
              "    </tr>\n",
              "  </thead>\n",
              "  <tbody>\n",
              "    <tr>\n",
              "      <th>293</th>\n",
              "      <td>294</td>\n",
              "      <td>53</td>\n",
              "      <td>65</td>\n",
              "      <td>12</td>\n",
              "      <td>0</td>\n",
              "    </tr>\n",
              "    <tr>\n",
              "      <th>294</th>\n",
              "      <td>295</td>\n",
              "      <td>57</td>\n",
              "      <td>64</td>\n",
              "      <td>1</td>\n",
              "      <td>0</td>\n",
              "    </tr>\n",
              "    <tr>\n",
              "      <th>295</th>\n",
              "      <td>296</td>\n",
              "      <td>54</td>\n",
              "      <td>59</td>\n",
              "      <td>7</td>\n",
              "      <td>1</td>\n",
              "    </tr>\n",
              "  </tbody>\n",
              "</table>\n",
              "</div>"
            ],
            "text/plain": [
              "      id  x1  x2  x3  y\n",
              "293  294  53  65  12  0\n",
              "294  295  57  64   1  0\n",
              "295  296  54  59   7  1"
            ]
          },
          "execution_count": 736,
          "metadata": {},
          "output_type": "execute_result"
        }
      ],
      "source": [
        "df.tail(3)"
      ]
    },
    {
      "cell_type": "markdown",
      "metadata": {
        "id": "G9MLpzCBIPHt"
      },
      "source": [
        "## Menampilkan 3 data sample"
      ]
    },
    {
      "cell_type": "code",
      "execution_count": 737,
      "metadata": {
        "colab": {
          "base_uri": "https://localhost:8080/",
          "height": 143
        },
        "id": "ZipGevmuIEb1",
        "outputId": "6e477c39-d0dd-4580-e1fe-1891aeede64f"
      },
      "outputs": [
        {
          "data": {
            "text/html": [
              "<div>\n",
              "<style scoped>\n",
              "    .dataframe tbody tr th:only-of-type {\n",
              "        vertical-align: middle;\n",
              "    }\n",
              "\n",
              "    .dataframe tbody tr th {\n",
              "        vertical-align: top;\n",
              "    }\n",
              "\n",
              "    .dataframe thead th {\n",
              "        text-align: right;\n",
              "    }\n",
              "</style>\n",
              "<table border=\"1\" class=\"dataframe\">\n",
              "  <thead>\n",
              "    <tr style=\"text-align: right;\">\n",
              "      <th></th>\n",
              "      <th>id</th>\n",
              "      <th>x1</th>\n",
              "      <th>x2</th>\n",
              "      <th>x3</th>\n",
              "      <th>y</th>\n",
              "    </tr>\n",
              "  </thead>\n",
              "  <tbody>\n",
              "    <tr>\n",
              "      <th>69</th>\n",
              "      <td>70</td>\n",
              "      <td>64</td>\n",
              "      <td>66</td>\n",
              "      <td>0</td>\n",
              "      <td>1</td>\n",
              "    </tr>\n",
              "    <tr>\n",
              "      <th>10</th>\n",
              "      <td>11</td>\n",
              "      <td>60</td>\n",
              "      <td>59</td>\n",
              "      <td>17</td>\n",
              "      <td>0</td>\n",
              "    </tr>\n",
              "    <tr>\n",
              "      <th>193</th>\n",
              "      <td>194</td>\n",
              "      <td>54</td>\n",
              "      <td>68</td>\n",
              "      <td>7</td>\n",
              "      <td>0</td>\n",
              "    </tr>\n",
              "  </tbody>\n",
              "</table>\n",
              "</div>"
            ],
            "text/plain": [
              "      id  x1  x2  x3  y\n",
              "69    70  64  66   0  1\n",
              "10    11  60  59  17  0\n",
              "193  194  54  68   7  0"
            ]
          },
          "execution_count": 737,
          "metadata": {},
          "output_type": "execute_result"
        }
      ],
      "source": [
        "df.sample(3)"
      ]
    },
    {
      "cell_type": "markdown",
      "metadata": {
        "id": "AO4y24FmF_O7"
      },
      "source": [
        "## Drop kolom yang tidak dibutuhkan"
      ]
    },
    {
      "cell_type": "code",
      "execution_count": 738,
      "metadata": {
        "colab": {
          "base_uri": "https://localhost:8080/"
        },
        "id": "cQSAf8qlIcEA",
        "outputId": "28996d10-9508-48b5-8463-d5969079ab1a"
      },
      "outputs": [
        {
          "data": {
            "text/plain": [
              "(296, 5)"
            ]
          },
          "execution_count": 738,
          "metadata": {},
          "output_type": "execute_result"
        }
      ],
      "source": [
        "df.shape"
      ]
    },
    {
      "cell_type": "code",
      "execution_count": 739,
      "metadata": {
        "colab": {
          "base_uri": "https://localhost:8080/",
          "height": 424
        },
        "id": "zq0mBhCBF7gz",
        "outputId": "e487a481-acc5-4feb-f45e-c361a60b7f3e"
      },
      "outputs": [
        {
          "data": {
            "text/html": [
              "<div>\n",
              "<style scoped>\n",
              "    .dataframe tbody tr th:only-of-type {\n",
              "        vertical-align: middle;\n",
              "    }\n",
              "\n",
              "    .dataframe tbody tr th {\n",
              "        vertical-align: top;\n",
              "    }\n",
              "\n",
              "    .dataframe thead th {\n",
              "        text-align: right;\n",
              "    }\n",
              "</style>\n",
              "<table border=\"1\" class=\"dataframe\">\n",
              "  <thead>\n",
              "    <tr style=\"text-align: right;\">\n",
              "      <th></th>\n",
              "      <th>x1</th>\n",
              "      <th>x2</th>\n",
              "      <th>x3</th>\n",
              "      <th>y</th>\n",
              "    </tr>\n",
              "  </thead>\n",
              "  <tbody>\n",
              "    <tr>\n",
              "      <th>0</th>\n",
              "      <td>60</td>\n",
              "      <td>64</td>\n",
              "      <td>0</td>\n",
              "      <td>1</td>\n",
              "    </tr>\n",
              "    <tr>\n",
              "      <th>1</th>\n",
              "      <td>54</td>\n",
              "      <td>60</td>\n",
              "      <td>11</td>\n",
              "      <td>0</td>\n",
              "    </tr>\n",
              "    <tr>\n",
              "      <th>2</th>\n",
              "      <td>65</td>\n",
              "      <td>62</td>\n",
              "      <td>22</td>\n",
              "      <td>0</td>\n",
              "    </tr>\n",
              "    <tr>\n",
              "      <th>3</th>\n",
              "      <td>34</td>\n",
              "      <td>60</td>\n",
              "      <td>0</td>\n",
              "      <td>1</td>\n",
              "    </tr>\n",
              "    <tr>\n",
              "      <th>4</th>\n",
              "      <td>38</td>\n",
              "      <td>69</td>\n",
              "      <td>21</td>\n",
              "      <td>0</td>\n",
              "    </tr>\n",
              "    <tr>\n",
              "      <th>...</th>\n",
              "      <td>...</td>\n",
              "      <td>...</td>\n",
              "      <td>...</td>\n",
              "      <td>...</td>\n",
              "    </tr>\n",
              "    <tr>\n",
              "      <th>291</th>\n",
              "      <td>59</td>\n",
              "      <td>64</td>\n",
              "      <td>1</td>\n",
              "      <td>1</td>\n",
              "    </tr>\n",
              "    <tr>\n",
              "      <th>292</th>\n",
              "      <td>65</td>\n",
              "      <td>67</td>\n",
              "      <td>0</td>\n",
              "      <td>1</td>\n",
              "    </tr>\n",
              "    <tr>\n",
              "      <th>293</th>\n",
              "      <td>53</td>\n",
              "      <td>65</td>\n",
              "      <td>12</td>\n",
              "      <td>0</td>\n",
              "    </tr>\n",
              "    <tr>\n",
              "      <th>294</th>\n",
              "      <td>57</td>\n",
              "      <td>64</td>\n",
              "      <td>1</td>\n",
              "      <td>0</td>\n",
              "    </tr>\n",
              "    <tr>\n",
              "      <th>295</th>\n",
              "      <td>54</td>\n",
              "      <td>59</td>\n",
              "      <td>7</td>\n",
              "      <td>1</td>\n",
              "    </tr>\n",
              "  </tbody>\n",
              "</table>\n",
              "<p>296 rows × 4 columns</p>\n",
              "</div>"
            ],
            "text/plain": [
              "     x1  x2  x3  y\n",
              "0    60  64   0  1\n",
              "1    54  60  11  0\n",
              "2    65  62  22  0\n",
              "3    34  60   0  1\n",
              "4    38  69  21  0\n",
              "..   ..  ..  .. ..\n",
              "291  59  64   1  1\n",
              "292  65  67   0  1\n",
              "293  53  65  12  0\n",
              "294  57  64   1  0\n",
              "295  54  59   7  1\n",
              "\n",
              "[296 rows x 4 columns]"
            ]
          },
          "execution_count": 739,
          "metadata": {},
          "output_type": "execute_result"
        }
      ],
      "source": [
        "df.drop(columns = ['id'], axis = 1, inplace = True)\n",
        "df"
      ]
    },
    {
      "cell_type": "code",
      "execution_count": 740,
      "metadata": {
        "colab": {
          "base_uri": "https://localhost:8080/"
        },
        "id": "qwbn-6QRGEal",
        "outputId": "b3d5cfc3-743e-4681-ca23-21fb867367f7"
      },
      "outputs": [
        {
          "data": {
            "text/plain": [
              "(296, 4)"
            ]
          },
          "execution_count": 740,
          "metadata": {},
          "output_type": "execute_result"
        }
      ],
      "source": [
        "df.shape"
      ]
    },
    {
      "cell_type": "markdown",
      "metadata": {
        "id": "vG6JHGtNI4X-"
      },
      "source": [
        "## Korelasi antar variabel"
      ]
    },
    {
      "cell_type": "code",
      "execution_count": 741,
      "metadata": {
        "colab": {
          "base_uri": "https://localhost:8080/",
          "height": 619
        },
        "id": "VMYDAAs1I3wh",
        "outputId": "29e4cd40-aa89-4944-807e-f3b69fdda62b"
      },
      "outputs": [
        {
          "data": {
            "image/png": "[encoded data removed]",
            "text/plain": [
              "<Figure size 720x576 with 2 Axes>"
            ]
          },
          "metadata": {},
          "output_type": "display_data"
        }
      ],
      "source": [
        "fig, ax = plt.subplots(figsize=(10, 8))\n",
        "\n",
        "mask = np.triu(np.ones_like(df.corr(), dtype=bool))\n",
        "\n",
        "heatmap = sns.heatmap(df.corr(), mask=mask, vmin=-1, vmax=1, annot=True)\n",
        "\n",
        "plt.suptitle(\"Correlation Plot\", ha='left', x=0.155, y=1.04, fontsize=18, fontweight='bold')\n",
        "plt.title(\"Korelasi antara beberapa fitur\", loc='left', fontsize=12) \n",
        "plt.tight_layout()\n",
        "plt.show()"
      ]
    },
    {
      "cell_type": "markdown",
      "metadata": {
        "id": "sf6mM-4ZJmbo"
      },
      "source": [
        "dapat dilihat bahwa dataset di atas memiliki variabel yang tidak berkorelasi satu sama lain"
      ]
    },
    {
      "cell_type": "code",
      "execution_count": 742,
      "metadata": {
        "colab": {
          "base_uri": "https://localhost:8080/",
          "height": 599
        },
        "id": "g2Q46H2ILL7c",
        "outputId": "5447f45f-e197-4cf3-8c77-d7e8187870f2"
      },
      "outputs": [
        {
          "data": {
            "text/plain": [
              "<AxesSubplot:xlabel='x3', ylabel='Count'>"
            ]
          },
          "execution_count": 742,
          "metadata": {},
          "output_type": "execute_result"
        },
        {
          "data": {
            "image/png": "[encoded data removed]",
            "text/plain": [
              "<Figure size 936x576 with 3 Axes>"
            ]
          },
          "metadata": {},
          "output_type": "display_data"
        }
      ],
      "source": [
        "fig, axs = plt.subplots(ncols=3)\n",
        "sns.set(rc={'figure.figsize':(50,10)})\n",
        "sns.histplot(df['x1'], ax=axs[0])\n",
        "sns.histplot(df['x2'], ax=axs[1])\n",
        "sns.histplot(df['x3'], ax=axs[2])"
      ]
    },
    {
      "cell_type": "code",
      "execution_count": 743,
      "metadata": {
        "colab": {
          "base_uri": "https://localhost:8080/",
          "height": 581
        },
        "id": "YWBkvnMTRgmZ",
        "outputId": "ab0f3bdf-0c8c-4c25-b4c2-1fe0ccd3cce6"
      },
      "outputs": [
        {
          "data": {
            "image/png": "[encoded data removed]",
            "text/plain": [
              "<Figure size 936x576 with 1 Axes>"
            ]
          },
          "metadata": {},
          "output_type": "display_data"
        }
      ],
      "source": [
        "plt.rcParams[\"figure.figsize\"] = [13, 8]\n",
        "plt.rcParams[\"figure.autolayout\"] = True\n",
        "ax = df[['x1', 'x2', 'x3']].plot(kind='box', title='Box plot dataset')"
      ]
    },
    {
      "cell_type": "markdown",
      "metadata": {
        "id": "swK4WvK3cEvq"
      },
      "source": [
        "# Pre-processing"
      ]
    },
    {
      "cell_type": "markdown",
      "metadata": {
        "id": "oRD8qTfxcIf-"
      },
      "source": [
        "## Normalisasi data"
      ]
    },
    {
      "cell_type": "code",
      "execution_count": 744,
      "metadata": {
        "colab": {
          "base_uri": "https://localhost:8080/",
          "height": 424
        },
        "id": "VkC6X49xcHx4",
        "outputId": "e651994c-148d-4d2f-9bc4-092d04df6a2e"
      },
      "outputs": [
        {
          "data": {
            "text/html": [
              "<div>\n",
              "<style scoped>\n",
              "    .dataframe tbody tr th:only-of-type {\n",
              "        vertical-align: middle;\n",
              "    }\n",
              "\n",
              "    .dataframe tbody tr th {\n",
              "        vertical-align: top;\n",
              "    }\n",
              "\n",
              "    .dataframe thead th {\n",
              "        text-align: right;\n",
              "    }\n",
              "</style>\n",
              "<table border=\"1\" class=\"dataframe\">\n",
              "  <thead>\n",
              "    <tr style=\"text-align: right;\">\n",
              "      <th></th>\n",
              "      <th>x1</th>\n",
              "      <th>x2</th>\n",
              "      <th>x3</th>\n",
              "      <th>y</th>\n",
              "    </tr>\n",
              "  </thead>\n",
              "  <tbody>\n",
              "    <tr>\n",
              "      <th>0</th>\n",
              "      <td>0.566038</td>\n",
              "      <td>0.545455</td>\n",
              "      <td>0.000000</td>\n",
              "      <td>1.0</td>\n",
              "    </tr>\n",
              "    <tr>\n",
              "      <th>1</th>\n",
              "      <td>0.452830</td>\n",
              "      <td>0.181818</td>\n",
              "      <td>0.211538</td>\n",
              "      <td>0.0</td>\n",
              "    </tr>\n",
              "    <tr>\n",
              "      <th>2</th>\n",
              "      <td>0.660377</td>\n",
              "      <td>0.363636</td>\n",
              "      <td>0.423077</td>\n",
              "      <td>0.0</td>\n",
              "    </tr>\n",
              "    <tr>\n",
              "      <th>3</th>\n",
              "      <td>0.075472</td>\n",
              "      <td>0.181818</td>\n",
              "      <td>0.000000</td>\n",
              "      <td>1.0</td>\n",
              "    </tr>\n",
              "    <tr>\n",
              "      <th>4</th>\n",
              "      <td>0.150943</td>\n",
              "      <td>1.000000</td>\n",
              "      <td>0.403846</td>\n",
              "      <td>0.0</td>\n",
              "    </tr>\n",
              "    <tr>\n",
              "      <th>...</th>\n",
              "      <td>...</td>\n",
              "      <td>...</td>\n",
              "      <td>...</td>\n",
              "      <td>...</td>\n",
              "    </tr>\n",
              "    <tr>\n",
              "      <th>291</th>\n",
              "      <td>0.547170</td>\n",
              "      <td>0.545455</td>\n",
              "      <td>0.019231</td>\n",
              "      <td>1.0</td>\n",
              "    </tr>\n",
              "    <tr>\n",
              "      <th>292</th>\n",
              "      <td>0.660377</td>\n",
              "      <td>0.818182</td>\n",
              "      <td>0.000000</td>\n",
              "      <td>1.0</td>\n",
              "    </tr>\n",
              "    <tr>\n",
              "      <th>293</th>\n",
              "      <td>0.433962</td>\n",
              "      <td>0.636364</td>\n",
              "      <td>0.230769</td>\n",
              "      <td>0.0</td>\n",
              "    </tr>\n",
              "    <tr>\n",
              "      <th>294</th>\n",
              "      <td>0.509434</td>\n",
              "      <td>0.545455</td>\n",
              "      <td>0.019231</td>\n",
              "      <td>0.0</td>\n",
              "    </tr>\n",
              "    <tr>\n",
              "      <th>295</th>\n",
              "      <td>0.452830</td>\n",
              "      <td>0.090909</td>\n",
              "      <td>0.134615</td>\n",
              "      <td>1.0</td>\n",
              "    </tr>\n",
              "  </tbody>\n",
              "</table>\n",
              "<p>296 rows × 4 columns</p>\n",
              "</div>"
            ],
            "text/plain": [
              "           x1        x2        x3    y\n",
              "0    0.566038  0.545455  0.000000  1.0\n",
              "1    0.452830  0.181818  0.211538  0.0\n",
              "2    0.660377  0.363636  0.423077  0.0\n",
              "3    0.075472  0.181818  0.000000  1.0\n",
              "4    0.150943  1.000000  0.403846  0.0\n",
              "..        ...       ...       ...  ...\n",
              "291  0.547170  0.545455  0.019231  1.0\n",
              "292  0.660377  0.818182  0.000000  1.0\n",
              "293  0.433962  0.636364  0.230769  0.0\n",
              "294  0.509434  0.545455  0.019231  0.0\n",
              "295  0.452830  0.090909  0.134615  1.0\n",
              "\n",
              "[296 rows x 4 columns]"
            ]
          },
          "execution_count": 744,
          "metadata": {},
          "output_type": "execute_result"
        }
      ],
      "source": [
        "#normalisasi\n",
        "def minMaxScaling(df) :\n",
        "    return (df.iloc[:,:4] - df.iloc[:,:4].min()) / (df.iloc[:,:4].max() - df.iloc[:,:4].min())\n",
        "\n",
        "# def standardScaling(df) : \n",
        "#     return (df.iloc[:,4:] - df.iloc[:,4:].mean() / df.iloc[:,4:].std())\n",
        "\n",
        "dataNormalized = minMaxScaling(df)\n",
        "dataNormalized"
      ]
    },
    {
      "cell_type": "code",
      "execution_count": 745,
      "metadata": {
        "colab": {
          "base_uri": "https://localhost:8080/",
          "height": 581
        },
        "id": "RvsmC_gmcEUG",
        "outputId": "e124746c-564e-411d-a4a3-88fcfdbdc7d8"
      },
      "outputs": [
        {
          "data": {
            "image/png": "[encoded data removed]",
            "text/plain": [
              "<Figure size 936x576 with 1 Axes>"
            ]
          },
          "metadata": {},
          "output_type": "display_data"
        }
      ],
      "source": [
        "plt.rcParams[\"figure.figsize\"] = [13, 8]\n",
        "plt.rcParams[\"figure.autolayout\"] = True\n",
        "ax = dataNormalized[['x1', 'x2', 'x3']].plot(kind='box', title='box plot data setelah normalisasi')"
      ]
    },
    {
      "cell_type": "code",
      "execution_count": 746,
      "metadata": {},
      "outputs": [
        {
          "name": "stdout",
          "output_type": "stream",
          "text": [
            "number of outliers: 34\n",
            "max outlier value: 1.0\n",
            "min outlier value: 0.25\n",
            "Outliers percentage: 11.49%\n"
          ]
        }
      ],
      "source": [
        "def hitungOutliers(df):\n",
        "    q1 = df.quantile(0.25)\n",
        "    q3 = df.quantile(0.75)\n",
        "    IQR = q3 - q1\n",
        "    outliers = df[((df<(q1-1.5*IQR)) | (df>(q3+1.5*IQR)))]\n",
        "    return outliers\n",
        "outliers = hitungOutliers(dataNormalized[\"x3\"])\n",
        "percentage = len(outliers)/len(dataNormalized[\"x3\"])*100\n",
        "print(\"number of outliers: \" + str(len(outliers)))\n",
        "print(\"max outlier value: \" + str(outliers.max()))\n",
        "print(\"min outlier value: \" + str(outliers.min()))\n",
        "print(\"Outliers percentage: \"+ str(float(f'{percentage:.2f}'))+\"%\")"
      ]
    },
    {
      "cell_type": "markdown",
      "metadata": {},
      "source": [
        "dapat dilihat kalau outliers terlalu banyak di data x3 sehingga tidak memungkinkan untuk didrop."
      ]
    },
    {
      "cell_type": "markdown",
      "metadata": {
        "id": "jqmFVkIOdHyQ"
      },
      "source": [
        "# Split dataset"
      ]
    },
    {
      "cell_type": "markdown",
      "metadata": {},
      "source": [
        "dataset akan dipisah menjadi training set dan validation set untuk menghitung akurasi tiap nilai k"
      ]
    },
    {
      "cell_type": "code",
      "execution_count": 747,
      "metadata": {
        "id": "z4BiXzZ8dLWe"
      },
      "outputs": [
        {
          "name": "stdout",
          "output_type": "stream",
          "text": [
            "           x1        x2        x3    y\n",
            "0    0.566038  0.545455  0.000000  1.0\n",
            "1    0.452830  0.181818  0.211538  0.0\n",
            "2    0.660377  0.363636  0.423077  0.0\n",
            "3    0.075472  0.181818  0.000000  1.0\n",
            "4    0.150943  1.000000  0.403846  0.0\n",
            "..        ...       ...       ...  ...\n",
            "291  0.547170  0.545455  0.019231  1.0\n",
            "292  0.660377  0.818182  0.000000  1.0\n",
            "293  0.433962  0.636364  0.230769  0.0\n",
            "294  0.509434  0.545455  0.019231  0.0\n",
            "295  0.452830  0.090909  0.134615  1.0\n",
            "\n",
            "[296 rows x 4 columns]\n"
          ]
        }
      ],
      "source": [
        "# Mengubah dataset menjadi array\n",
        "arrayDf = dataNormalized\n",
        "arrayDf.to_numpy()\n",
        "print(arrayDf)"
      ]
    },
    {
      "cell_type": "code",
      "execution_count": 748,
      "metadata": {},
      "outputs": [],
      "source": [
        "def splitDependent(df):\n",
        "    x = df.iloc[:,[0,1,2]].values\n",
        "    y = df.iloc[:,[3]].values\n",
        "    return x,y"
      ]
    },
    {
      "cell_type": "code",
      "execution_count": 754,
      "metadata": {},
      "outputs": [],
      "source": [
        "def kFolds(arrayDf,k):\n",
        "    # membagi data menjadi k folds\n",
        "    folds = np.array_split(arrayDf,k)\n",
        "    akurasiList = []\n",
        "    \n",
        "    for i in range(k):\n",
        "        print(\"Folds: \",i)\n",
        "        trainingSet = folds.copy()\n",
        "        validationSet = folds[i]\n",
        "        del trainingSet[i]\n",
        "        trainingSet = pd.concat(trainingSet, sort=False)\n",
        "        xTrain,yTrain = splitDependent(trainingSet)\n",
        "        xVal,yVal = splitDependent(validationSet)\n",
        "\n",
        "        #print(xVal)\n",
        "        #print(yVal)\n",
        "\n",
        "        result = euclidean(xTrain,yTrain,xVal)\n",
        "        #print(result)\n",
        "        result = pilihTetangga(result,3)\n",
        "        #print(result)\n",
        "        final = vote(result)\n",
        "        #print(final)\n",
        "        hasilAkurasi = (akurasi(final,yVal)/len(yVal))*100\n",
        "        akurasiList.append(hasilAkurasi)\n",
        "        print(str(hasilAkurasi)+\"%\")\n",
        "        \n",
        "        #print(\"trainingSet: \\n\",trainingSet)\n",
        "        #print(\"trainingSetY: \\n\",yTrain)\n",
        "        #print(\"validationSet: \\n\", validationSet)\n",
        "        #print(yVal)\n",
        "    \n",
        "    listAngka = []\n",
        "    for i in range(25):\n",
        "        listAngka.append(i)\n",
        "\n",
        "    plt.plot(listAngka,akurasiList)\n",
        "    plt.title(\"Hasil Akurasi\")\n",
        "    plt.xlabel(\"Akurasi\")\n",
        "    plt.ylabel(\"Folds\")\n",
        "    plt.show()\n",
        "        \n",
        "    return 0"
      ]
    },
    {
      "cell_type": "code",
      "execution_count": 750,
      "metadata": {},
      "outputs": [],
      "source": [
        "#arrayDf = arrayDf.head(20)"
      ]
    },
    {
      "cell_type": "code",
      "execution_count": 755,
      "metadata": {},
      "outputs": [
        {
          "name": "stdout",
          "output_type": "stream",
          "text": [
            "Folds:  0\n",
            "66.66666666666666%\n",
            "Folds:  1\n",
            "75.0%\n",
            "Folds:  2\n",
            "66.66666666666666%\n",
            "Folds:  3\n",
            "75.0%\n",
            "Folds:  4\n",
            "58.333333333333336%\n",
            "Folds:  5\n",
            "83.33333333333334%\n",
            "Folds:  6\n",
            "75.0%\n",
            "Folds:  7\n",
            "83.33333333333334%\n",
            "Folds:  8\n",
            "75.0%\n",
            "Folds:  9\n",
            "100.0%\n",
            "Folds:  10\n",
            "66.66666666666666%\n",
            "Folds:  11\n",
            "50.0%\n",
            "Folds:  12\n",
            "75.0%\n",
            "Folds:  13\n",
            "91.66666666666666%\n",
            "Folds:  14\n",
            "91.66666666666666%\n",
            "Folds:  15\n",
            "41.66666666666667%\n",
            "Folds:  16\n",
            "58.333333333333336%\n",
            "Folds:  17\n",
            "50.0%\n",
            "Folds:  18\n",
            "50.0%\n",
            "Folds:  19\n",
            "75.0%\n",
            "Folds:  20\n",
            "83.33333333333334%\n",
            "Folds:  21\n",
            "63.63636363636363%\n",
            "Folds:  22\n",
            "72.72727272727273%\n",
            "Folds:  23\n",
            "72.72727272727273%\n",
            "Folds:  24\n",
            "81.81818181818183%\n"
          ]
        },
        {
          "data": {
            "image/png": "[encoded data removed]",
            "text/plain": [
              "<Figure size 936x576 with 1 Axes>"
            ]
          },
          "metadata": {},
          "output_type": "display_data"
        },
        {
          "data": {
            "text/plain": [
              "0"
            ]
          },
          "execution_count": 755,
          "metadata": {},
          "output_type": "execute_result"
        }
      ],
      "source": [
        "kFolds(arrayDf,25)"
      ]
    },
    {
      "cell_type": "markdown",
      "metadata": {},
      "source": [
        "# Perhitungan jarak"
      ]
    },
    {
      "cell_type": "code",
      "execution_count": null,
      "metadata": {},
      "outputs": [],
      "source": [
        "def euclidean(xTrain,yTrain,xVal):\n",
        "    result = []\n",
        "    indexData = 0\n",
        "    for x in xVal:\n",
        "        resultPerTrain = []; indexTrain = 0\n",
        "        for j in xTrain:\n",
        "            d = (x[0]-j[0])**2 + (x[1]-j[1])**2 + (x[2]-j[2])**2\n",
        "            #print(x)\n",
        "            hasil = [math.sqrt(d),yTrain[indexTrain][0]]\n",
        "            indexTrain += 1\n",
        "            resultPerTrain.append(hasil)\n",
        "        resultPerTrain.sort()\n",
        "        result.append(resultPerTrain)\n",
        "        indexData += 1\n",
        "    return(result)\n"
      ]
    },
    {
      "cell_type": "code",
      "execution_count": null,
      "metadata": {},
      "outputs": [],
      "source": [
        "def pilihTetangga(result,k):\n",
        "    tetangga = []\n",
        "    for data in result:\n",
        "        data = data[:k]\n",
        "        tetangga.append(data)\n",
        "    return tetangga\n"
      ]
    },
    {
      "cell_type": "code",
      "execution_count": null,
      "metadata": {},
      "outputs": [],
      "source": [
        "def vote(result):\n",
        "    count0 = 0; count1 = 0; hasil = []\n",
        "    for data in result:\n",
        "        for dataVal in data:\n",
        "            if dataVal[1] == 0.0:\n",
        "                count0 += 1\n",
        "            else:\n",
        "                count1 += 1\n",
        "        if count0 > count1:\n",
        "            hasil.append(0)\n",
        "        else:\n",
        "            hasil.append(1)    \n",
        "    return hasil\n",
        "\n",
        "    "
      ]
    },
    {
      "cell_type": "code",
      "execution_count": null,
      "metadata": {},
      "outputs": [],
      "source": [
        "def akurasi(hasil,yVal):\n",
        "    akurasi = 0\n",
        "    for i in range(len(hasil)):\n",
        "        if hasil[i] == yVal[i][0]:\n",
        "                akurasi += 1\n",
        "    return akurasi"
      ]
    },
    {
      "cell_type": "markdown",
      "metadata": {},
      "source": [
        "KNN"
      ]
    },
    {
      "cell_type": "code",
      "execution_count": null,
      "metadata": {},
      "outputs": [],
      "source": []
    }
  ],
  "metadata": {
    "colab": {
      "collapsed_sections": [],
      "include_colab_link": true,
      "name": "AI-Kelompok 15-Learning.ipynb",
      "provenance": []
    },
    "kernelspec": {
      "display_name": "Python 3.9.12 ('base')",
      "language": "python",
      "name": "python3"
    },
    "language_info": {
      "codemirror_mode": {
        "name": "ipython",
        "version": 3
      },
      "file_extension": ".py",
      "mimetype": "text/x-python",
      "name": "python",
      "nbconvert_exporter": "python",
      "pygments_lexer": "ipython3",
      "version": "3.9.12"
    },
    "orig_nbformat": 4,
    "vscode": {
      "interpreter": {
        "hash": "dc07d24e2f18896857f0b2a651fe84ba40ce7b297e58d8804a308c8039f752a6"
      }
    }
  },
  "nbformat": 4,
  "nbformat_minor": 0
}
