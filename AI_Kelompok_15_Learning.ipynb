{
  "cells": [
    {
      "cell_type": "markdown",
      "metadata": {
        "colab_type": "text",
        "id": "view-in-github"
      },
      "source": [
        "<a href=\"https://colab.research.google.com/github/khalilullahalfaath/AI_Tubes-03-Learning/blob/main/AI_Kelompok_15_Learning.ipynb\" target=\"_parent\"><img src=\"https://colab.research.google.com/assets/colab-badge.svg\" alt=\"Open In Colab\"/></a>"
      ]
    },
    {
      "cell_type": "markdown",
      "metadata": {
        "id": "48ZaXEvr5HDE"
      },
      "source": [
        "Kelompok 15\n",
        "--------------------\n",
        "\n",
        "\n",
        "1.   Mirai Tsuchiya\n",
        "2.   M. Ivan\n",
        "3.   Khalilullah Al Faath\n",
        "\n"
      ]
    },
    {
      "cell_type": "markdown",
      "metadata": {
        "id": "a_lgEiF15_vs"
      },
      "source": [
        "# Mengimport library yang dibutuhkan"
      ]
    },
    {
      "cell_type": "code",
      "execution_count": 1541,
      "metadata": {
        "id": "ht29WUfzEWv4"
      },
      "outputs": [],
      "source": [
        "import pandas as pd\n",
        "import matplotlib.pyplot as plt\n",
        "import numpy as np\n",
        "import seaborn as sns\n",
        "import math"
      ]
    },
    {
      "cell_type": "markdown",
      "metadata": {
        "id": "mhsjGWHjEYME"
      },
      "source": [
        "# Membaca dataset"
      ]
    },
    {
      "cell_type": "code",
      "execution_count": 1607,
      "metadata": {
        "id": "s-pTDdA3EWv7"
      },
      "outputs": [],
      "source": [
        "df = pd.read_excel(\"https://github.com/khalilullahalfaath/AI_Tubes-03-Learning/blob/19d11d6e2fa2d540afdc0cec3308b82c664d29f7/traintest.xlsx?raw=true\")"
      ]
    },
    {
      "cell_type": "code",
      "execution_count": 1543,
      "metadata": {
        "colab": {
          "base_uri": "https://localhost:8080/",
          "height": 424
        },
        "id": "Yc0ahWjsEWv7",
        "outputId": "4c8654f9-6618-47fe-c3a7-a42c898f1160"
      },
      "outputs": [
        {
          "data": {
            "text/html": [
              "<div>\n",
              "<style scoped>\n",
              "    .dataframe tbody tr th:only-of-type {\n",
              "        vertical-align: middle;\n",
              "    }\n",
              "\n",
              "    .dataframe tbody tr th {\n",
              "        vertical-align: top;\n",
              "    }\n",
              "\n",
              "    .dataframe thead th {\n",
              "        text-align: right;\n",
              "    }\n",
              "</style>\n",
              "<table border=\"1\" class=\"dataframe\">\n",
              "  <thead>\n",
              "    <tr style=\"text-align: right;\">\n",
              "      <th></th>\n",
              "      <th>id</th>\n",
              "      <th>x1</th>\n",
              "      <th>x2</th>\n",
              "      <th>x3</th>\n",
              "      <th>y</th>\n",
              "    </tr>\n",
              "  </thead>\n",
              "  <tbody>\n",
              "    <tr>\n",
              "      <th>0</th>\n",
              "      <td>1</td>\n",
              "      <td>60</td>\n",
              "      <td>64</td>\n",
              "      <td>0</td>\n",
              "      <td>1</td>\n",
              "    </tr>\n",
              "    <tr>\n",
              "      <th>1</th>\n",
              "      <td>2</td>\n",
              "      <td>54</td>\n",
              "      <td>60</td>\n",
              "      <td>11</td>\n",
              "      <td>0</td>\n",
              "    </tr>\n",
              "    <tr>\n",
              "      <th>2</th>\n",
              "      <td>3</td>\n",
              "      <td>65</td>\n",
              "      <td>62</td>\n",
              "      <td>22</td>\n",
              "      <td>0</td>\n",
              "    </tr>\n",
              "    <tr>\n",
              "      <th>3</th>\n",
              "      <td>4</td>\n",
              "      <td>34</td>\n",
              "      <td>60</td>\n",
              "      <td>0</td>\n",
              "      <td>1</td>\n",
              "    </tr>\n",
              "    <tr>\n",
              "      <th>4</th>\n",
              "      <td>5</td>\n",
              "      <td>38</td>\n",
              "      <td>69</td>\n",
              "      <td>21</td>\n",
              "      <td>0</td>\n",
              "    </tr>\n",
              "    <tr>\n",
              "      <th>...</th>\n",
              "      <td>...</td>\n",
              "      <td>...</td>\n",
              "      <td>...</td>\n",
              "      <td>...</td>\n",
              "      <td>...</td>\n",
              "    </tr>\n",
              "    <tr>\n",
              "      <th>291</th>\n",
              "      <td>292</td>\n",
              "      <td>59</td>\n",
              "      <td>64</td>\n",
              "      <td>1</td>\n",
              "      <td>1</td>\n",
              "    </tr>\n",
              "    <tr>\n",
              "      <th>292</th>\n",
              "      <td>293</td>\n",
              "      <td>65</td>\n",
              "      <td>67</td>\n",
              "      <td>0</td>\n",
              "      <td>1</td>\n",
              "    </tr>\n",
              "    <tr>\n",
              "      <th>293</th>\n",
              "      <td>294</td>\n",
              "      <td>53</td>\n",
              "      <td>65</td>\n",
              "      <td>12</td>\n",
              "      <td>0</td>\n",
              "    </tr>\n",
              "    <tr>\n",
              "      <th>294</th>\n",
              "      <td>295</td>\n",
              "      <td>57</td>\n",
              "      <td>64</td>\n",
              "      <td>1</td>\n",
              "      <td>0</td>\n",
              "    </tr>\n",
              "    <tr>\n",
              "      <th>295</th>\n",
              "      <td>296</td>\n",
              "      <td>54</td>\n",
              "      <td>59</td>\n",
              "      <td>7</td>\n",
              "      <td>1</td>\n",
              "    </tr>\n",
              "  </tbody>\n",
              "</table>\n",
              "<p>296 rows × 5 columns</p>\n",
              "</div>"
            ],
            "text/plain": [
              "      id  x1  x2  x3  y\n",
              "0      1  60  64   0  1\n",
              "1      2  54  60  11  0\n",
              "2      3  65  62  22  0\n",
              "3      4  34  60   0  1\n",
              "4      5  38  69  21  0\n",
              "..   ...  ..  ..  .. ..\n",
              "291  292  59  64   1  1\n",
              "292  293  65  67   0  1\n",
              "293  294  53  65  12  0\n",
              "294  295  57  64   1  0\n",
              "295  296  54  59   7  1\n",
              "\n",
              "[296 rows x 5 columns]"
            ]
          },
          "execution_count": 1543,
          "metadata": {},
          "output_type": "execute_result"
        }
      ],
      "source": [
        "df"
      ]
    },
    {
      "cell_type": "markdown",
      "metadata": {
        "id": "RuYB66siEdPC"
      },
      "source": [
        "# EDA (Exploratory Data Analysist)\n"
      ]
    },
    {
      "cell_type": "markdown",
      "metadata": {
        "id": "Fdq8cEe_FSZL"
      },
      "source": [
        "## Info terkait dataset"
      ]
    },
    {
      "cell_type": "code",
      "execution_count": 1544,
      "metadata": {
        "colab": {
          "base_uri": "https://localhost:8080/"
        },
        "id": "u3gcrwyUEjj9",
        "outputId": "63e80c00-462c-4640-a55b-2f4a463220b4"
      },
      "outputs": [
        {
          "name": "stdout",
          "output_type": "stream",
          "text": [
            "<class 'pandas.core.frame.DataFrame'>\n",
            "RangeIndex: 296 entries, 0 to 295\n",
            "Data columns (total 5 columns):\n",
            " #   Column  Non-Null Count  Dtype\n",
            "---  ------  --------------  -----\n",
            " 0   id      296 non-null    int64\n",
            " 1   x1      296 non-null    int64\n",
            " 2   x2      296 non-null    int64\n",
            " 3   x3      296 non-null    int64\n",
            " 4   y       296 non-null    int64\n",
            "dtypes: int64(5)\n",
            "memory usage: 11.7 KB\n"
          ]
        }
      ],
      "source": [
        "df.info()"
      ]
    },
    {
      "cell_type": "markdown",
      "metadata": {
        "id": "sAmuKX5cFCTn"
      },
      "source": [
        "Dapat dilihat bahwa seluruh data merupakan integers sehingga tidak perlu dilakukan perubahan untuk mendapatkan tipe data yang sama. Diketahui pula bahwa tidak ada data NULL sehingga tidak ada data yang perlu diisi"
      ]
    },
    {
      "cell_type": "markdown",
      "metadata": {
        "id": "mGmORdNeFWNn"
      },
      "source": [
        "## Deskripsi terkait dataset"
      ]
    },
    {
      "cell_type": "code",
      "execution_count": 1545,
      "metadata": {
        "colab": {
          "base_uri": "https://localhost:8080/",
          "height": 300
        },
        "id": "LvTEoOCyFOMX",
        "outputId": "95c644af-ef23-474b-f0ab-5ea7cf1b5fba"
      },
      "outputs": [
        {
          "data": {
            "text/html": [
              "<div>\n",
              "<style scoped>\n",
              "    .dataframe tbody tr th:only-of-type {\n",
              "        vertical-align: middle;\n",
              "    }\n",
              "\n",
              "    .dataframe tbody tr th {\n",
              "        vertical-align: top;\n",
              "    }\n",
              "\n",
              "    .dataframe thead th {\n",
              "        text-align: right;\n",
              "    }\n",
              "</style>\n",
              "<table border=\"1\" class=\"dataframe\">\n",
              "  <thead>\n",
              "    <tr style=\"text-align: right;\">\n",
              "      <th></th>\n",
              "      <th>id</th>\n",
              "      <th>x1</th>\n",
              "      <th>x2</th>\n",
              "      <th>x3</th>\n",
              "      <th>y</th>\n",
              "    </tr>\n",
              "  </thead>\n",
              "  <tbody>\n",
              "    <tr>\n",
              "      <th>count</th>\n",
              "      <td>296.000000</td>\n",
              "      <td>296.000000</td>\n",
              "      <td>296.000000</td>\n",
              "      <td>296.000000</td>\n",
              "      <td>296.000000</td>\n",
              "    </tr>\n",
              "    <tr>\n",
              "      <th>mean</th>\n",
              "      <td>148.500000</td>\n",
              "      <td>52.462838</td>\n",
              "      <td>62.881757</td>\n",
              "      <td>4.111486</td>\n",
              "      <td>0.736486</td>\n",
              "    </tr>\n",
              "    <tr>\n",
              "      <th>std</th>\n",
              "      <td>85.592056</td>\n",
              "      <td>10.896367</td>\n",
              "      <td>3.233753</td>\n",
              "      <td>7.291816</td>\n",
              "      <td>0.441285</td>\n",
              "    </tr>\n",
              "    <tr>\n",
              "      <th>min</th>\n",
              "      <td>1.000000</td>\n",
              "      <td>30.000000</td>\n",
              "      <td>58.000000</td>\n",
              "      <td>0.000000</td>\n",
              "      <td>0.000000</td>\n",
              "    </tr>\n",
              "    <tr>\n",
              "      <th>25%</th>\n",
              "      <td>74.750000</td>\n",
              "      <td>44.000000</td>\n",
              "      <td>60.000000</td>\n",
              "      <td>0.000000</td>\n",
              "      <td>0.000000</td>\n",
              "    </tr>\n",
              "    <tr>\n",
              "      <th>50%</th>\n",
              "      <td>148.500000</td>\n",
              "      <td>52.000000</td>\n",
              "      <td>63.000000</td>\n",
              "      <td>1.000000</td>\n",
              "      <td>1.000000</td>\n",
              "    </tr>\n",
              "    <tr>\n",
              "      <th>75%</th>\n",
              "      <td>222.250000</td>\n",
              "      <td>61.000000</td>\n",
              "      <td>65.250000</td>\n",
              "      <td>5.000000</td>\n",
              "      <td>1.000000</td>\n",
              "    </tr>\n",
              "    <tr>\n",
              "      <th>max</th>\n",
              "      <td>296.000000</td>\n",
              "      <td>83.000000</td>\n",
              "      <td>69.000000</td>\n",
              "      <td>52.000000</td>\n",
              "      <td>1.000000</td>\n",
              "    </tr>\n",
              "  </tbody>\n",
              "</table>\n",
              "</div>"
            ],
            "text/plain": [
              "               id          x1          x2          x3           y\n",
              "count  296.000000  296.000000  296.000000  296.000000  296.000000\n",
              "mean   148.500000   52.462838   62.881757    4.111486    0.736486\n",
              "std     85.592056   10.896367    3.233753    7.291816    0.441285\n",
              "min      1.000000   30.000000   58.000000    0.000000    0.000000\n",
              "25%     74.750000   44.000000   60.000000    0.000000    0.000000\n",
              "50%    148.500000   52.000000   63.000000    1.000000    1.000000\n",
              "75%    222.250000   61.000000   65.250000    5.000000    1.000000\n",
              "max    296.000000   83.000000   69.000000   52.000000    1.000000"
            ]
          },
          "execution_count": 1545,
          "metadata": {},
          "output_type": "execute_result"
        }
      ],
      "source": [
        "df.describe()"
      ]
    },
    {
      "cell_type": "markdown",
      "metadata": {
        "id": "wC53SEjyII_8"
      },
      "source": [
        "## Menampilkan 3 data teratas"
      ]
    },
    {
      "cell_type": "code",
      "execution_count": 1546,
      "metadata": {
        "colab": {
          "base_uri": "https://localhost:8080/",
          "height": 143
        },
        "id": "-Gnp3I51Fix0",
        "outputId": "365e4340-a94e-4ab4-e5ef-90e3959293e6"
      },
      "outputs": [
        {
          "data": {
            "text/html": [
              "<div>\n",
              "<style scoped>\n",
              "    .dataframe tbody tr th:only-of-type {\n",
              "        vertical-align: middle;\n",
              "    }\n",
              "\n",
              "    .dataframe tbody tr th {\n",
              "        vertical-align: top;\n",
              "    }\n",
              "\n",
              "    .dataframe thead th {\n",
              "        text-align: right;\n",
              "    }\n",
              "</style>\n",
              "<table border=\"1\" class=\"dataframe\">\n",
              "  <thead>\n",
              "    <tr style=\"text-align: right;\">\n",
              "      <th></th>\n",
              "      <th>id</th>\n",
              "      <th>x1</th>\n",
              "      <th>x2</th>\n",
              "      <th>x3</th>\n",
              "      <th>y</th>\n",
              "    </tr>\n",
              "  </thead>\n",
              "  <tbody>\n",
              "    <tr>\n",
              "      <th>0</th>\n",
              "      <td>1</td>\n",
              "      <td>60</td>\n",
              "      <td>64</td>\n",
              "      <td>0</td>\n",
              "      <td>1</td>\n",
              "    </tr>\n",
              "    <tr>\n",
              "      <th>1</th>\n",
              "      <td>2</td>\n",
              "      <td>54</td>\n",
              "      <td>60</td>\n",
              "      <td>11</td>\n",
              "      <td>0</td>\n",
              "    </tr>\n",
              "    <tr>\n",
              "      <th>2</th>\n",
              "      <td>3</td>\n",
              "      <td>65</td>\n",
              "      <td>62</td>\n",
              "      <td>22</td>\n",
              "      <td>0</td>\n",
              "    </tr>\n",
              "  </tbody>\n",
              "</table>\n",
              "</div>"
            ],
            "text/plain": [
              "   id  x1  x2  x3  y\n",
              "0   1  60  64   0  1\n",
              "1   2  54  60  11  0\n",
              "2   3  65  62  22  0"
            ]
          },
          "execution_count": 1546,
          "metadata": {},
          "output_type": "execute_result"
        }
      ],
      "source": [
        "df.head(3)"
      ]
    },
    {
      "cell_type": "markdown",
      "metadata": {
        "id": "pDrdkLREIL4a"
      },
      "source": [
        "## Menampilkan 3 data terbawah"
      ]
    },
    {
      "cell_type": "code",
      "execution_count": 1547,
      "metadata": {
        "colab": {
          "base_uri": "https://localhost:8080/",
          "height": 143
        },
        "id": "b-bUAbBqFisU",
        "outputId": "5f644377-2a09-492e-9364-073c8b4ac68d"
      },
      "outputs": [
        {
          "data": {
            "text/html": [
              "<div>\n",
              "<style scoped>\n",
              "    .dataframe tbody tr th:only-of-type {\n",
              "        vertical-align: middle;\n",
              "    }\n",
              "\n",
              "    .dataframe tbody tr th {\n",
              "        vertical-align: top;\n",
              "    }\n",
              "\n",
              "    .dataframe thead th {\n",
              "        text-align: right;\n",
              "    }\n",
              "</style>\n",
              "<table border=\"1\" class=\"dataframe\">\n",
              "  <thead>\n",
              "    <tr style=\"text-align: right;\">\n",
              "      <th></th>\n",
              "      <th>id</th>\n",
              "      <th>x1</th>\n",
              "      <th>x2</th>\n",
              "      <th>x3</th>\n",
              "      <th>y</th>\n",
              "    </tr>\n",
              "  </thead>\n",
              "  <tbody>\n",
              "    <tr>\n",
              "      <th>293</th>\n",
              "      <td>294</td>\n",
              "      <td>53</td>\n",
              "      <td>65</td>\n",
              "      <td>12</td>\n",
              "      <td>0</td>\n",
              "    </tr>\n",
              "    <tr>\n",
              "      <th>294</th>\n",
              "      <td>295</td>\n",
              "      <td>57</td>\n",
              "      <td>64</td>\n",
              "      <td>1</td>\n",
              "      <td>0</td>\n",
              "    </tr>\n",
              "    <tr>\n",
              "      <th>295</th>\n",
              "      <td>296</td>\n",
              "      <td>54</td>\n",
              "      <td>59</td>\n",
              "      <td>7</td>\n",
              "      <td>1</td>\n",
              "    </tr>\n",
              "  </tbody>\n",
              "</table>\n",
              "</div>"
            ],
            "text/plain": [
              "      id  x1  x2  x3  y\n",
              "293  294  53  65  12  0\n",
              "294  295  57  64   1  0\n",
              "295  296  54  59   7  1"
            ]
          },
          "execution_count": 1547,
          "metadata": {},
          "output_type": "execute_result"
        }
      ],
      "source": [
        "df.tail(3)"
      ]
    },
    {
      "cell_type": "markdown",
      "metadata": {
        "id": "G9MLpzCBIPHt"
      },
      "source": [
        "## Menampilkan 3 data sample"
      ]
    },
    {
      "cell_type": "code",
      "execution_count": 1548,
      "metadata": {
        "colab": {
          "base_uri": "https://localhost:8080/",
          "height": 143
        },
        "id": "ZipGevmuIEb1",
        "outputId": "db526705-72bb-4db4-eb68-bb1554c9e333"
      },
      "outputs": [
        {
          "data": {
            "text/html": [
              "<div>\n",
              "<style scoped>\n",
              "    .dataframe tbody tr th:only-of-type {\n",
              "        vertical-align: middle;\n",
              "    }\n",
              "\n",
              "    .dataframe tbody tr th {\n",
              "        vertical-align: top;\n",
              "    }\n",
              "\n",
              "    .dataframe thead th {\n",
              "        text-align: right;\n",
              "    }\n",
              "</style>\n",
              "<table border=\"1\" class=\"dataframe\">\n",
              "  <thead>\n",
              "    <tr style=\"text-align: right;\">\n",
              "      <th></th>\n",
              "      <th>id</th>\n",
              "      <th>x1</th>\n",
              "      <th>x2</th>\n",
              "      <th>x3</th>\n",
              "      <th>y</th>\n",
              "    </tr>\n",
              "  </thead>\n",
              "  <tbody>\n",
              "    <tr>\n",
              "      <th>227</th>\n",
              "      <td>228</td>\n",
              "      <td>56</td>\n",
              "      <td>65</td>\n",
              "      <td>9</td>\n",
              "      <td>0</td>\n",
              "    </tr>\n",
              "    <tr>\n",
              "      <th>1</th>\n",
              "      <td>2</td>\n",
              "      <td>54</td>\n",
              "      <td>60</td>\n",
              "      <td>11</td>\n",
              "      <td>0</td>\n",
              "    </tr>\n",
              "    <tr>\n",
              "      <th>109</th>\n",
              "      <td>110</td>\n",
              "      <td>41</td>\n",
              "      <td>65</td>\n",
              "      <td>0</td>\n",
              "      <td>1</td>\n",
              "    </tr>\n",
              "  </tbody>\n",
              "</table>\n",
              "</div>"
            ],
            "text/plain": [
              "      id  x1  x2  x3  y\n",
              "227  228  56  65   9  0\n",
              "1      2  54  60  11  0\n",
              "109  110  41  65   0  1"
            ]
          },
          "execution_count": 1548,
          "metadata": {},
          "output_type": "execute_result"
        }
      ],
      "source": [
        "df.sample(3)"
      ]
    },
    {
      "cell_type": "markdown",
      "metadata": {
        "id": "AO4y24FmF_O7"
      },
      "source": [
        "## Drop kolom yang tidak dibutuhkan"
      ]
    },
    {
      "cell_type": "code",
      "execution_count": 1549,
      "metadata": {
        "colab": {
          "base_uri": "https://localhost:8080/"
        },
        "id": "cQSAf8qlIcEA",
        "outputId": "175cccea-924f-4be0-8d5a-2d0a61474ec6"
      },
      "outputs": [
        {
          "data": {
            "text/plain": [
              "(296, 5)"
            ]
          },
          "execution_count": 1549,
          "metadata": {},
          "output_type": "execute_result"
        }
      ],
      "source": [
        "df.shape"
      ]
    },
    {
      "cell_type": "code",
      "execution_count": 1550,
      "metadata": {
        "colab": {
          "base_uri": "https://localhost:8080/",
          "height": 424
        },
        "id": "zq0mBhCBF7gz",
        "outputId": "56beeb02-83d0-4a0b-f942-30f7c356b2e7"
      },
      "outputs": [
        {
          "data": {
            "text/html": [
              "<div>\n",
              "<style scoped>\n",
              "    .dataframe tbody tr th:only-of-type {\n",
              "        vertical-align: middle;\n",
              "    }\n",
              "\n",
              "    .dataframe tbody tr th {\n",
              "        vertical-align: top;\n",
              "    }\n",
              "\n",
              "    .dataframe thead th {\n",
              "        text-align: right;\n",
              "    }\n",
              "</style>\n",
              "<table border=\"1\" class=\"dataframe\">\n",
              "  <thead>\n",
              "    <tr style=\"text-align: right;\">\n",
              "      <th></th>\n",
              "      <th>x1</th>\n",
              "      <th>x2</th>\n",
              "      <th>x3</th>\n",
              "      <th>y</th>\n",
              "    </tr>\n",
              "  </thead>\n",
              "  <tbody>\n",
              "    <tr>\n",
              "      <th>0</th>\n",
              "      <td>60</td>\n",
              "      <td>64</td>\n",
              "      <td>0</td>\n",
              "      <td>1</td>\n",
              "    </tr>\n",
              "    <tr>\n",
              "      <th>1</th>\n",
              "      <td>54</td>\n",
              "      <td>60</td>\n",
              "      <td>11</td>\n",
              "      <td>0</td>\n",
              "    </tr>\n",
              "    <tr>\n",
              "      <th>2</th>\n",
              "      <td>65</td>\n",
              "      <td>62</td>\n",
              "      <td>22</td>\n",
              "      <td>0</td>\n",
              "    </tr>\n",
              "    <tr>\n",
              "      <th>3</th>\n",
              "      <td>34</td>\n",
              "      <td>60</td>\n",
              "      <td>0</td>\n",
              "      <td>1</td>\n",
              "    </tr>\n",
              "    <tr>\n",
              "      <th>4</th>\n",
              "      <td>38</td>\n",
              "      <td>69</td>\n",
              "      <td>21</td>\n",
              "      <td>0</td>\n",
              "    </tr>\n",
              "    <tr>\n",
              "      <th>...</th>\n",
              "      <td>...</td>\n",
              "      <td>...</td>\n",
              "      <td>...</td>\n",
              "      <td>...</td>\n",
              "    </tr>\n",
              "    <tr>\n",
              "      <th>291</th>\n",
              "      <td>59</td>\n",
              "      <td>64</td>\n",
              "      <td>1</td>\n",
              "      <td>1</td>\n",
              "    </tr>\n",
              "    <tr>\n",
              "      <th>292</th>\n",
              "      <td>65</td>\n",
              "      <td>67</td>\n",
              "      <td>0</td>\n",
              "      <td>1</td>\n",
              "    </tr>\n",
              "    <tr>\n",
              "      <th>293</th>\n",
              "      <td>53</td>\n",
              "      <td>65</td>\n",
              "      <td>12</td>\n",
              "      <td>0</td>\n",
              "    </tr>\n",
              "    <tr>\n",
              "      <th>294</th>\n",
              "      <td>57</td>\n",
              "      <td>64</td>\n",
              "      <td>1</td>\n",
              "      <td>0</td>\n",
              "    </tr>\n",
              "    <tr>\n",
              "      <th>295</th>\n",
              "      <td>54</td>\n",
              "      <td>59</td>\n",
              "      <td>7</td>\n",
              "      <td>1</td>\n",
              "    </tr>\n",
              "  </tbody>\n",
              "</table>\n",
              "<p>296 rows × 4 columns</p>\n",
              "</div>"
            ],
            "text/plain": [
              "     x1  x2  x3  y\n",
              "0    60  64   0  1\n",
              "1    54  60  11  0\n",
              "2    65  62  22  0\n",
              "3    34  60   0  1\n",
              "4    38  69  21  0\n",
              "..   ..  ..  .. ..\n",
              "291  59  64   1  1\n",
              "292  65  67   0  1\n",
              "293  53  65  12  0\n",
              "294  57  64   1  0\n",
              "295  54  59   7  1\n",
              "\n",
              "[296 rows x 4 columns]"
            ]
          },
          "execution_count": 1550,
          "metadata": {},
          "output_type": "execute_result"
        }
      ],
      "source": [
        "df.drop(columns = ['id'], axis = 1, inplace = True)\n",
        "df"
      ]
    },
    {
      "cell_type": "code",
      "execution_count": 1551,
      "metadata": {
        "colab": {
          "base_uri": "https://localhost:8080/"
        },
        "id": "qwbn-6QRGEal",
        "outputId": "f882ab99-5596-4b6d-9c24-0252519a7b3c"
      },
      "outputs": [
        {
          "data": {
            "text/plain": [
              "(296, 4)"
            ]
          },
          "execution_count": 1551,
          "metadata": {},
          "output_type": "execute_result"
        }
      ],
      "source": [
        "df.shape"
      ]
    },
    {
      "cell_type": "markdown",
      "metadata": {
        "id": "vG6JHGtNI4X-"
      },
      "source": [
        "## Korelasi antar variabel"
      ]
    },
    {
      "cell_type": "code",
      "execution_count": 1552,
      "metadata": {
        "colab": {
          "base_uri": "https://localhost:8080/",
          "height": 619
        },
        "id": "VMYDAAs1I3wh",
        "outputId": "61d4bb87-4d9c-4142-d7f6-bec292b3c675"
      },
      "outputs": [
        {
          "data": {
            "image/png": "[encoded data removed]",
            "text/plain": [
              "<Figure size 720x576 with 2 Axes>"
            ]
          },
          "metadata": {},
          "output_type": "display_data"
        }
      ],
      "source": [
        "fig, ax = plt.subplots(figsize=(10, 8))\n",
        "\n",
        "mask = np.triu(np.ones_like(df.corr(), dtype=bool))\n",
        "\n",
        "heatmap = sns.heatmap(df.corr(), mask=mask, vmin=-1, vmax=1, annot=True)\n",
        "\n",
        "plt.suptitle(\"Correlation Plot\", ha='left', x=0.155, y=1.04, fontsize=18, fontweight='bold')\n",
        "plt.title(\"Korelasi antara beberapa fitur\", loc='left', fontsize=12) \n",
        "plt.tight_layout()\n",
        "plt.show()"
      ]
    },
    {
      "cell_type": "markdown",
      "metadata": {
        "id": "sf6mM-4ZJmbo"
      },
      "source": [
        "dapat dilihat bahwa dataset di atas memiliki variabel yang tidak berkorelasi satu sama lain"
      ]
    },
    {
      "cell_type": "markdown",
      "metadata": {
        "id": "G5_LChsg6Xuh"
      },
      "source": [
        "## Histogram banyak nilai untuk tiap variabel"
      ]
    },
    {
      "cell_type": "code",
      "execution_count": 1553,
      "metadata": {
        "colab": {
          "base_uri": "https://localhost:8080/",
          "height": 297
        },
        "id": "g2Q46H2ILL7c",
        "outputId": "92d5633d-ee5d-482d-ba79-ceeea97619b6"
      },
      "outputs": [
        {
          "data": {
            "text/plain": [
              "<AxesSubplot:xlabel='x3', ylabel='Count'>"
            ]
          },
          "execution_count": 1553,
          "metadata": {},
          "output_type": "execute_result"
        },
        {
          "data": {
            "image/png": "[encoded data removed]",
            "text/plain": [
              "<Figure size 936x576 with 3 Axes>"
            ]
          },
          "metadata": {},
          "output_type": "display_data"
        }
      ],
      "source": [
        "fig, axs = plt.subplots(ncols=3)\n",
        "sns.set(rc={'figure.figsize':(50,10)})\n",
        "sns.histplot(df['x1'], ax=axs[0])\n",
        "sns.histplot(df['x2'], ax=axs[1])\n",
        "sns.histplot(df['x3'], ax=axs[2])"
      ]
    },
    {
      "cell_type": "markdown",
      "metadata": {
        "id": "U2gA3YLc6e5o"
      },
      "source": [
        "## Count plot untuk nilai y"
      ]
    },
    {
      "cell_type": "code",
      "execution_count": 1554,
      "metadata": {
        "colab": {
          "base_uri": "https://localhost:8080/",
          "height": 420
        },
        "id": "CkNpb4Cs2QbM",
        "outputId": "15a34297-a34b-42f4-c186-0d97066bfc28"
      },
      "outputs": [
        {
          "name": "stdout",
          "output_type": "stream",
          "text": [
            "1    218\n",
            "0     78\n",
            "Name: y, dtype: int64\n"
          ]
        },
        {
          "data": {
            "image/png": "[encoded data removed]",
            "text/plain": [
              "<Figure size 360x360 with 1 Axes>"
            ]
          },
          "metadata": {},
          "output_type": "display_data"
        }
      ],
      "source": [
        "print(df['y'].value_counts())\n",
        "sns.catplot(x='y', data=df, kind='count')\n",
        "plt.show()"
      ]
    },
    {
      "cell_type": "markdown",
      "metadata": {
        "id": "1c-u2xWd6ioC"
      },
      "source": [
        "## Box plot dataset"
      ]
    },
    {
      "cell_type": "code",
      "execution_count": 1555,
      "metadata": {
        "colab": {
          "base_uri": "https://localhost:8080/",
          "height": 581
        },
        "id": "YWBkvnMTRgmZ",
        "outputId": "5aaece03-590c-4050-f6e4-1affccf7b6e6"
      },
      "outputs": [
        {
          "data": {
            "image/png": "[encoded data removed]",
            "text/plain": [
              "<Figure size 936x576 with 1 Axes>"
            ]
          },
          "metadata": {},
          "output_type": "display_data"
        }
      ],
      "source": [
        "plt.rcParams[\"figure.figsize\"] = [13, 8]\n",
        "plt.rcParams[\"figure.autolayout\"] = True\n",
        "ax = df[['x1', 'x2', 'x3']].plot(kind='box', title='Box plot dataset')"
      ]
    },
    {
      "cell_type": "markdown",
      "metadata": {
        "id": "J5db1x_l2QbO"
      },
      "source": [
        "dapat dilihat kalau outliers terlalu banyak di data x3 sehingga tidak memungkinkan untuk didrop."
      ]
    },
    {
      "cell_type": "markdown",
      "metadata": {
        "id": "swK4WvK3cEvq"
      },
      "source": [
        "# Pre-processing"
      ]
    },
    {
      "cell_type": "markdown",
      "metadata": {
        "id": "PnRbj7F9juI2"
      },
      "source": [
        "## Mengubah nilai outliers"
      ]
    },
    {
      "cell_type": "code",
      "execution_count": 1608,
      "metadata": {},
      "outputs": [
        {
          "name": "stdout",
          "output_type": "stream",
          "text": [
            "number of outliers: 34\n",
            "max outlier value: 52\n",
            "min outlier value: 13\n",
            "Outliers percentage: 11.49%\n"
          ]
        }
      ],
      "source": [
        "def hitungOutliers(df):\n",
        "    q1 = df.quantile(0.25)\n",
        "    q3 = df.quantile(0.75)\n",
        "    IQR = q3 - q1\n",
        "    outliers = df[((df<(q1-1.5*IQR)) | (df>(q3+1.5*IQR)))]\n",
        "    return outliers\n",
        "\n",
        "outliers = hitungOutliers(df[\"x3\"])\n",
        "percentage = len(outliers)/len(df[\"x3\"])*100\n",
        "print(\"number of outliers: \" + str(len(outliers)))\n",
        "print(\"max outlier value: \" + str(outliers.max()))\n",
        "print(\"min outlier value: \" + str(outliers.min()))\n",
        "print(\"Outliers percentage: \"+ str(float(f'{percentage:.2f}'))+\"%\")"
      ]
    },
    {
      "cell_type": "code",
      "execution_count": 1609,
      "metadata": {},
      "outputs": [],
      "source": [
        "#comment code di bawah ketika tidak ingin memepetkan nilai outliers\n",
        "\n",
        "Q1 = df[\"x3\"].quantile(0.25)\n",
        "Q3 = df[\"x3\"].quantile(0.75)\n",
        "\n",
        "IQR = Q3 - Q1\n",
        "\n",
        "LB = Q1 - (IQR * 1.5)\n",
        "UB = Q3 + (IQR * 1.5)\n",
        "\n",
        "df.loc[df['x3'] > UB, \"x3\"] = UB\n",
        "df.loc[df['x3'] < LB, \"x3\"] = LB"
      ]
    },
    {
      "cell_type": "code",
      "execution_count": 1610,
      "metadata": {},
      "outputs": [
        {
          "data": {
            "image/png": "[encoded data removed]",
            "text/plain": [
              "<Figure size 936x576 with 1 Axes>"
            ]
          },
          "metadata": {},
          "output_type": "display_data"
        }
      ],
      "source": [
        "\n",
        "plt.rcParams[\"figure.figsize\"] = [13, 8]\n",
        "plt.rcParams[\"figure.autolayout\"] = True\n",
        "ax = df[['x1', 'x2', 'x3']].plot(kind='box', title='box plot data setelah memepetkan nilai outliers')"
      ]
    },
    {
      "cell_type": "markdown",
      "metadata": {
        "id": "oRD8qTfxcIf-"
      },
      "source": [
        "## Normalisasi data"
      ]
    },
    {
      "cell_type": "code",
      "execution_count": 1559,
      "metadata": {
        "colab": {
          "base_uri": "https://localhost:8080/",
          "height": 424
        },
        "id": "VkC6X49xcHx4",
        "outputId": "664773e8-1f17-4e00-cabb-816badc0d1cd"
      },
      "outputs": [],
      "source": [
        "#normalisasi\n",
        "def minMaxScaling(df) :\n",
        "    return (df.iloc[:,:4] - df.iloc[:,:4].min()) / (df.iloc[:,:4].max() - df.iloc[:,:4].min())\n",
        "\n",
        "def standardScaling(df) : \n",
        "    return ((df.iloc[:,:4] - df.iloc[:,:4].mean()) / df.iloc[:,:4].std())\n",
        "\n",
        "def robustScaling(df):\n",
        "    return ((df.iloc[:,:4] - df.iloc[:,:4].median()) / (df.iloc[:,:4].quantile(0.75) - df.iloc[:,:4].quantile(0.25)))\n",
        "\n",
        "dataNormalized = minMaxScaling(df)\n",
        "dataRobusted = robustScaling(df)\n",
        "dataStandarized = standardScaling(df)"
      ]
    },
    {
      "cell_type": "code",
      "execution_count": 1560,
      "metadata": {},
      "outputs": [
        {
          "data": {
            "text/html": [
              "<div>\n",
              "<style scoped>\n",
              "    .dataframe tbody tr th:only-of-type {\n",
              "        vertical-align: middle;\n",
              "    }\n",
              "\n",
              "    .dataframe tbody tr th {\n",
              "        vertical-align: top;\n",
              "    }\n",
              "\n",
              "    .dataframe thead th {\n",
              "        text-align: right;\n",
              "    }\n",
              "</style>\n",
              "<table border=\"1\" class=\"dataframe\">\n",
              "  <thead>\n",
              "    <tr style=\"text-align: right;\">\n",
              "      <th></th>\n",
              "      <th>x1</th>\n",
              "      <th>x2</th>\n",
              "      <th>x3</th>\n",
              "      <th>y</th>\n",
              "    </tr>\n",
              "  </thead>\n",
              "  <tbody>\n",
              "    <tr>\n",
              "      <th>0</th>\n",
              "      <td>0.566038</td>\n",
              "      <td>0.545455</td>\n",
              "      <td>0.00</td>\n",
              "      <td>1.0</td>\n",
              "    </tr>\n",
              "    <tr>\n",
              "      <th>1</th>\n",
              "      <td>0.452830</td>\n",
              "      <td>0.181818</td>\n",
              "      <td>0.88</td>\n",
              "      <td>0.0</td>\n",
              "    </tr>\n",
              "    <tr>\n",
              "      <th>2</th>\n",
              "      <td>0.660377</td>\n",
              "      <td>0.363636</td>\n",
              "      <td>1.00</td>\n",
              "      <td>0.0</td>\n",
              "    </tr>\n",
              "    <tr>\n",
              "      <th>3</th>\n",
              "      <td>0.075472</td>\n",
              "      <td>0.181818</td>\n",
              "      <td>0.00</td>\n",
              "      <td>1.0</td>\n",
              "    </tr>\n",
              "    <tr>\n",
              "      <th>4</th>\n",
              "      <td>0.150943</td>\n",
              "      <td>1.000000</td>\n",
              "      <td>1.00</td>\n",
              "      <td>0.0</td>\n",
              "    </tr>\n",
              "    <tr>\n",
              "      <th>...</th>\n",
              "      <td>...</td>\n",
              "      <td>...</td>\n",
              "      <td>...</td>\n",
              "      <td>...</td>\n",
              "    </tr>\n",
              "    <tr>\n",
              "      <th>291</th>\n",
              "      <td>0.547170</td>\n",
              "      <td>0.545455</td>\n",
              "      <td>0.08</td>\n",
              "      <td>1.0</td>\n",
              "    </tr>\n",
              "    <tr>\n",
              "      <th>292</th>\n",
              "      <td>0.660377</td>\n",
              "      <td>0.818182</td>\n",
              "      <td>0.00</td>\n",
              "      <td>1.0</td>\n",
              "    </tr>\n",
              "    <tr>\n",
              "      <th>293</th>\n",
              "      <td>0.433962</td>\n",
              "      <td>0.636364</td>\n",
              "      <td>0.96</td>\n",
              "      <td>0.0</td>\n",
              "    </tr>\n",
              "    <tr>\n",
              "      <th>294</th>\n",
              "      <td>0.509434</td>\n",
              "      <td>0.545455</td>\n",
              "      <td>0.08</td>\n",
              "      <td>0.0</td>\n",
              "    </tr>\n",
              "    <tr>\n",
              "      <th>295</th>\n",
              "      <td>0.452830</td>\n",
              "      <td>0.090909</td>\n",
              "      <td>0.56</td>\n",
              "      <td>1.0</td>\n",
              "    </tr>\n",
              "  </tbody>\n",
              "</table>\n",
              "<p>296 rows × 4 columns</p>\n",
              "</div>"
            ],
            "text/plain": [
              "           x1        x2    x3    y\n",
              "0    0.566038  0.545455  0.00  1.0\n",
              "1    0.452830  0.181818  0.88  0.0\n",
              "2    0.660377  0.363636  1.00  0.0\n",
              "3    0.075472  0.181818  0.00  1.0\n",
              "4    0.150943  1.000000  1.00  0.0\n",
              "..        ...       ...   ...  ...\n",
              "291  0.547170  0.545455  0.08  1.0\n",
              "292  0.660377  0.818182  0.00  1.0\n",
              "293  0.433962  0.636364  0.96  0.0\n",
              "294  0.509434  0.545455  0.08  0.0\n",
              "295  0.452830  0.090909  0.56  1.0\n",
              "\n",
              "[296 rows x 4 columns]"
            ]
          },
          "execution_count": 1560,
          "metadata": {},
          "output_type": "execute_result"
        }
      ],
      "source": [
        "dataNormalized"
      ]
    },
    {
      "cell_type": "code",
      "execution_count": 1561,
      "metadata": {},
      "outputs": [
        {
          "data": {
            "text/html": [
              "<div>\n",
              "<style scoped>\n",
              "    .dataframe tbody tr th:only-of-type {\n",
              "        vertical-align: middle;\n",
              "    }\n",
              "\n",
              "    .dataframe tbody tr th {\n",
              "        vertical-align: top;\n",
              "    }\n",
              "\n",
              "    .dataframe thead th {\n",
              "        text-align: right;\n",
              "    }\n",
              "</style>\n",
              "<table border=\"1\" class=\"dataframe\">\n",
              "  <thead>\n",
              "    <tr style=\"text-align: right;\">\n",
              "      <th></th>\n",
              "      <th>x1</th>\n",
              "      <th>x2</th>\n",
              "      <th>x3</th>\n",
              "      <th>y</th>\n",
              "    </tr>\n",
              "  </thead>\n",
              "  <tbody>\n",
              "    <tr>\n",
              "      <th>0</th>\n",
              "      <td>0.470588</td>\n",
              "      <td>0.190476</td>\n",
              "      <td>-0.2</td>\n",
              "      <td>0.0</td>\n",
              "    </tr>\n",
              "    <tr>\n",
              "      <th>1</th>\n",
              "      <td>0.117647</td>\n",
              "      <td>-0.571429</td>\n",
              "      <td>2.0</td>\n",
              "      <td>-1.0</td>\n",
              "    </tr>\n",
              "    <tr>\n",
              "      <th>2</th>\n",
              "      <td>0.764706</td>\n",
              "      <td>-0.190476</td>\n",
              "      <td>2.3</td>\n",
              "      <td>-1.0</td>\n",
              "    </tr>\n",
              "    <tr>\n",
              "      <th>3</th>\n",
              "      <td>-1.058824</td>\n",
              "      <td>-0.571429</td>\n",
              "      <td>-0.2</td>\n",
              "      <td>0.0</td>\n",
              "    </tr>\n",
              "    <tr>\n",
              "      <th>4</th>\n",
              "      <td>-0.823529</td>\n",
              "      <td>1.142857</td>\n",
              "      <td>2.3</td>\n",
              "      <td>-1.0</td>\n",
              "    </tr>\n",
              "    <tr>\n",
              "      <th>...</th>\n",
              "      <td>...</td>\n",
              "      <td>...</td>\n",
              "      <td>...</td>\n",
              "      <td>...</td>\n",
              "    </tr>\n",
              "    <tr>\n",
              "      <th>291</th>\n",
              "      <td>0.411765</td>\n",
              "      <td>0.190476</td>\n",
              "      <td>0.0</td>\n",
              "      <td>0.0</td>\n",
              "    </tr>\n",
              "    <tr>\n",
              "      <th>292</th>\n",
              "      <td>0.764706</td>\n",
              "      <td>0.761905</td>\n",
              "      <td>-0.2</td>\n",
              "      <td>0.0</td>\n",
              "    </tr>\n",
              "    <tr>\n",
              "      <th>293</th>\n",
              "      <td>0.058824</td>\n",
              "      <td>0.380952</td>\n",
              "      <td>2.2</td>\n",
              "      <td>-1.0</td>\n",
              "    </tr>\n",
              "    <tr>\n",
              "      <th>294</th>\n",
              "      <td>0.294118</td>\n",
              "      <td>0.190476</td>\n",
              "      <td>0.0</td>\n",
              "      <td>-1.0</td>\n",
              "    </tr>\n",
              "    <tr>\n",
              "      <th>295</th>\n",
              "      <td>0.117647</td>\n",
              "      <td>-0.761905</td>\n",
              "      <td>1.2</td>\n",
              "      <td>0.0</td>\n",
              "    </tr>\n",
              "  </tbody>\n",
              "</table>\n",
              "<p>296 rows × 4 columns</p>\n",
              "</div>"
            ],
            "text/plain": [
              "           x1        x2   x3    y\n",
              "0    0.470588  0.190476 -0.2  0.0\n",
              "1    0.117647 -0.571429  2.0 -1.0\n",
              "2    0.764706 -0.190476  2.3 -1.0\n",
              "3   -1.058824 -0.571429 -0.2  0.0\n",
              "4   -0.823529  1.142857  2.3 -1.0\n",
              "..        ...       ...  ...  ...\n",
              "291  0.411765  0.190476  0.0  0.0\n",
              "292  0.764706  0.761905 -0.2  0.0\n",
              "293  0.058824  0.380952  2.2 -1.0\n",
              "294  0.294118  0.190476  0.0 -1.0\n",
              "295  0.117647 -0.761905  1.2  0.0\n",
              "\n",
              "[296 rows x 4 columns]"
            ]
          },
          "execution_count": 1561,
          "metadata": {},
          "output_type": "execute_result"
        }
      ],
      "source": [
        "dataRobusted"
      ]
    },
    {
      "cell_type": "code",
      "execution_count": 1562,
      "metadata": {},
      "outputs": [
        {
          "data": {
            "text/html": [
              "<div>\n",
              "<style scoped>\n",
              "    .dataframe tbody tr th:only-of-type {\n",
              "        vertical-align: middle;\n",
              "    }\n",
              "\n",
              "    .dataframe tbody tr th {\n",
              "        vertical-align: top;\n",
              "    }\n",
              "\n",
              "    .dataframe thead th {\n",
              "        text-align: right;\n",
              "    }\n",
              "</style>\n",
              "<table border=\"1\" class=\"dataframe\">\n",
              "  <thead>\n",
              "    <tr style=\"text-align: right;\">\n",
              "      <th></th>\n",
              "      <th>x1</th>\n",
              "      <th>x2</th>\n",
              "      <th>x3</th>\n",
              "      <th>y</th>\n",
              "    </tr>\n",
              "  </thead>\n",
              "  <tbody>\n",
              "    <tr>\n",
              "      <th>0</th>\n",
              "      <td>0.691713</td>\n",
              "      <td>0.345804</td>\n",
              "      <td>-0.722610</td>\n",
              "      <td>0.597151</td>\n",
              "    </tr>\n",
              "    <tr>\n",
              "      <th>1</th>\n",
              "      <td>0.141071</td>\n",
              "      <td>-0.891149</td>\n",
              "      <td>1.801873</td>\n",
              "      <td>-1.668961</td>\n",
              "    </tr>\n",
              "    <tr>\n",
              "      <th>2</th>\n",
              "      <td>1.150582</td>\n",
              "      <td>-0.272673</td>\n",
              "      <td>2.146121</td>\n",
              "      <td>-1.668961</td>\n",
              "    </tr>\n",
              "    <tr>\n",
              "      <th>3</th>\n",
              "      <td>-1.694403</td>\n",
              "      <td>-0.891149</td>\n",
              "      <td>-0.722610</td>\n",
              "      <td>0.597151</td>\n",
              "    </tr>\n",
              "    <tr>\n",
              "      <th>4</th>\n",
              "      <td>-1.327308</td>\n",
              "      <td>1.891995</td>\n",
              "      <td>2.146121</td>\n",
              "      <td>-1.668961</td>\n",
              "    </tr>\n",
              "    <tr>\n",
              "      <th>...</th>\n",
              "      <td>...</td>\n",
              "      <td>...</td>\n",
              "      <td>...</td>\n",
              "      <td>...</td>\n",
              "    </tr>\n",
              "    <tr>\n",
              "      <th>291</th>\n",
              "      <td>0.599940</td>\n",
              "      <td>0.345804</td>\n",
              "      <td>-0.493112</td>\n",
              "      <td>0.597151</td>\n",
              "    </tr>\n",
              "    <tr>\n",
              "      <th>292</th>\n",
              "      <td>1.150582</td>\n",
              "      <td>1.273518</td>\n",
              "      <td>-0.722610</td>\n",
              "      <td>0.597151</td>\n",
              "    </tr>\n",
              "    <tr>\n",
              "      <th>293</th>\n",
              "      <td>0.049297</td>\n",
              "      <td>0.655042</td>\n",
              "      <td>2.031372</td>\n",
              "      <td>-1.668961</td>\n",
              "    </tr>\n",
              "    <tr>\n",
              "      <th>294</th>\n",
              "      <td>0.416392</td>\n",
              "      <td>0.345804</td>\n",
              "      <td>-0.493112</td>\n",
              "      <td>-1.668961</td>\n",
              "    </tr>\n",
              "    <tr>\n",
              "      <th>295</th>\n",
              "      <td>0.141071</td>\n",
              "      <td>-1.200388</td>\n",
              "      <td>0.883879</td>\n",
              "      <td>0.597151</td>\n",
              "    </tr>\n",
              "  </tbody>\n",
              "</table>\n",
              "<p>296 rows × 4 columns</p>\n",
              "</div>"
            ],
            "text/plain": [
              "           x1        x2        x3         y\n",
              "0    0.691713  0.345804 -0.722610  0.597151\n",
              "1    0.141071 -0.891149  1.801873 -1.668961\n",
              "2    1.150582 -0.272673  2.146121 -1.668961\n",
              "3   -1.694403 -0.891149 -0.722610  0.597151\n",
              "4   -1.327308  1.891995  2.146121 -1.668961\n",
              "..        ...       ...       ...       ...\n",
              "291  0.599940  0.345804 -0.493112  0.597151\n",
              "292  1.150582  1.273518 -0.722610  0.597151\n",
              "293  0.049297  0.655042  2.031372 -1.668961\n",
              "294  0.416392  0.345804 -0.493112 -1.668961\n",
              "295  0.141071 -1.200388  0.883879  0.597151\n",
              "\n",
              "[296 rows x 4 columns]"
            ]
          },
          "execution_count": 1562,
          "metadata": {},
          "output_type": "execute_result"
        }
      ],
      "source": [
        "dataStandarized"
      ]
    },
    {
      "cell_type": "code",
      "execution_count": 1563,
      "metadata": {
        "colab": {
          "base_uri": "https://localhost:8080/",
          "height": 581
        },
        "id": "RvsmC_gmcEUG",
        "outputId": "601228fa-58ce-4c3b-b6de-c2a214e13ea7"
      },
      "outputs": [
        {
          "data": {
            "image/png": "[encoded data removed]",
            "text/plain": [
              "<Figure size 936x576 with 1 Axes>"
            ]
          },
          "metadata": {},
          "output_type": "display_data"
        }
      ],
      "source": [
        "plt.rcParams[\"figure.figsize\"] = [13, 8]\n",
        "plt.rcParams[\"figure.autolayout\"] = True\n",
        "ax = dataNormalized[['x1', 'x2', 'x3']].plot(kind='box', title='box plot data setelah normalisasi')"
      ]
    },
    {
      "cell_type": "code",
      "execution_count": 1564,
      "metadata": {},
      "outputs": [
        {
          "data": {
            "image/png": "[encoded data removed]",
            "text/plain": [
              "<Figure size 936x576 with 1 Axes>"
            ]
          },
          "metadata": {},
          "output_type": "display_data"
        }
      ],
      "source": [
        "plt.rcParams[\"figure.figsize\"] = [13, 8]\n",
        "plt.rcParams[\"figure.autolayout\"] = True\n",
        "ax = dataRobusted[['x1', 'x2', 'x3']].plot(kind='box', title='box plot data setelah Robusisasi')"
      ]
    },
    {
      "cell_type": "code",
      "execution_count": 1565,
      "metadata": {},
      "outputs": [
        {
          "data": {
            "image/png": "[encoded data removed]",
            "text/plain": [
              "<Figure size 936x576 with 1 Axes>"
            ]
          },
          "metadata": {},
          "output_type": "display_data"
        }
      ],
      "source": [
        "plt.rcParams[\"figure.figsize\"] = [13, 8]\n",
        "plt.rcParams[\"figure.autolayout\"] = True\n",
        "ax = dataStandarized[['x1', 'x2', 'x3']].plot(kind='box', title='box plot data setelah standarisasi')"
      ]
    },
    {
      "cell_type": "markdown",
      "metadata": {
        "id": "jqmFVkIOdHyQ"
      },
      "source": [
        "# Split dataset"
      ]
    },
    {
      "cell_type": "markdown",
      "metadata": {
        "id": "UICYLtKD2QbO"
      },
      "source": [
        "dataset akan dipisah menjadi training set dan validation set untuk menghitung akurasi tiap nilai k"
      ]
    },
    {
      "cell_type": "code",
      "execution_count": 1611,
      "metadata": {
        "colab": {
          "base_uri": "https://localhost:8080/"
        },
        "id": "z4BiXzZ8dLWe",
        "outputId": "6fd2aeec-36e0-42ed-859d-a67139a8a7a8"
      },
      "outputs": [
        {
          "name": "stdout",
          "output_type": "stream",
          "text": [
            "           x1        x2    x3    y\n",
            "0    0.566038  0.545455  0.00  1.0\n",
            "1    0.452830  0.181818  0.88  0.0\n",
            "2    0.660377  0.363636  1.00  0.0\n",
            "3    0.075472  0.181818  0.00  1.0\n",
            "4    0.150943  1.000000  1.00  0.0\n",
            "..        ...       ...   ...  ...\n",
            "291  0.547170  0.545455  0.08  1.0\n",
            "292  0.660377  0.818182  0.00  1.0\n",
            "293  0.433962  0.636364  0.96  0.0\n",
            "294  0.509434  0.545455  0.08  0.0\n",
            "295  0.452830  0.090909  0.56  1.0\n",
            "\n",
            "[296 rows x 4 columns]\n"
          ]
        }
      ],
      "source": [
        "# Mengubah dataset menjadi array\n",
        "arrayDf = dataNormalized\n",
        "arrayDf.to_numpy()\n",
        "print(arrayDf)"
      ]
    },
    {
      "cell_type": "code",
      "execution_count": 1567,
      "metadata": {
        "id": "EoaalLB42QbO"
      },
      "outputs": [],
      "source": [
        "def splitDependent(df):\n",
        "    x = df.iloc[:,[0,1,2]].values\n",
        "    y = df.iloc[:,[3]].values\n",
        "    return x,y"
      ]
    },
    {
      "cell_type": "markdown",
      "metadata": {
        "id": "-ltzUYvJ65k-"
      },
      "source": [
        "## Contoh penerapan split dataset"
      ]
    },
    {
      "cell_type": "code",
      "execution_count": 1568,
      "metadata": {
        "colab": {
          "base_uri": "https://localhost:8080/"
        },
        "id": "xy3mW4-z2QbO",
        "outputId": "0f1f8c29-2129-4d2b-b83a-0006e37774de"
      },
      "outputs": [
        {
          "name": "stdout",
          "output_type": "stream",
          "text": [
            "[[0.56603774 0.54545455 0.        ]\n",
            " [0.45283019 0.18181818 0.88      ]\n",
            " [0.66037736 0.36363636 1.        ]\n",
            " [0.0754717  0.18181818 0.        ]\n",
            " [0.1509434  1.         1.        ]\n",
            " [0.05660377 0.         0.8       ]\n",
            " [0.62264151 0.27272727 0.        ]\n",
            " [0.50943396 0.54545455 0.        ]\n",
            " [0.30188679 0.         0.24      ]\n",
            " [0.24528302 0.63636364 0.        ]]\n",
            "\n",
            "[[1.]\n",
            " [0.]\n",
            " [0.]\n",
            " [1.]\n",
            " [0.]\n",
            " [1.]\n",
            " [1.]\n",
            " [1.]\n",
            " [1.]\n",
            " [1.]]\n"
          ]
        }
      ],
      "source": [
        "x,y = splitDependent(dataNormalized.head(10))\n",
        "print(x)\n",
        "print()\n",
        "print(y)"
      ]
    },
    {
      "cell_type": "code",
      "execution_count": 1569,
      "metadata": {
        "id": "x3F5MuGz2QbP"
      },
      "outputs": [],
      "source": [
        "#arrayDf = arrayDf.head(20)"
      ]
    },
    {
      "cell_type": "markdown",
      "metadata": {
        "id": "0Tj6LW6D2QbP"
      },
      "source": [
        "# KNN"
      ]
    },
    {
      "cell_type": "markdown",
      "metadata": {
        "id": "RLh2vDbn7C7n"
      },
      "source": [
        "## Perhitungan jarak"
      ]
    },
    {
      "cell_type": "code",
      "execution_count": 1570,
      "metadata": {},
      "outputs": [],
      "source": [
        "def sortNilaiTraining(d):\n",
        "    return d[0]"
      ]
    },
    {
      "cell_type": "code",
      "execution_count": 1571,
      "metadata": {
        "id": "6_97517k2QbP"
      },
      "outputs": [],
      "source": [
        "def euclidean(xTrain,yTrain,xVal):\n",
        "    result = []\n",
        "    for x in xVal:\n",
        "        resultPerTraining = []; indexTraining = 0\n",
        "        for j in xTrain:\n",
        "            d = (x[0]-j[0])**2 + (x[1]-j[1])**2 + (x[2]-j[2])**2\n",
        "            #print(x)\n",
        "            #print(yTrain)\n",
        "            hasilPerTrainingData = [math.sqrt(d),yTrain[indexTraining]]\n",
        "            #print(resultPerTraining)\n",
        "            resultPerTraining.append(hasilPerTrainingData)\n",
        "            indexTraining = indexTraining + 1\n",
        "        resultPerTraining.sort(key=sortNilaiTraining)\n",
        "        result.append(resultPerTraining)\n",
        "    return(result)\n",
        "\n",
        "def manhattan(xTrain,yTrain,xVal):\n",
        "    result = []\n",
        "    for x in xVal:\n",
        "        resultPerTraining = []; indexTraining = 0\n",
        "        for j in xTrain:\n",
        "            d = abs(x[0]-j[0]) + abs(x[1]-j[1]) + abs(x[2]-j[2])\n",
        "            #print(x)\n",
        "            hasilPerTrainingData = [d,yTrain[indexTraining]]\n",
        "            resultPerTraining.append(hasilPerTrainingData)\n",
        "            indexTraining = indexTraining + 1\n",
        "        resultPerTraining.sort(key=sortNilaiTraining)\n",
        "        result.append(resultPerTraining)\n",
        "        #print(result)\n",
        "    return(result)\n",
        "\n",
        "def minkowski(xTrain,yTrain,xVal,h=9):\n",
        "    result = []\n",
        "    for x in xVal:\n",
        "        resultPerTraining = []; indexTraining = 0\n",
        "        for j in xTrain:\n",
        "            d = (abs(x[0]-j[0]))**h + (abs(x[1]-j[1]))**h + (abs(x[2]-j[2]))**h\n",
        "            #print(x)\n",
        "            hasilPerTrainingData = [d**(1/h),yTrain[indexTraining]]\n",
        "            resultPerTraining.append(hasilPerTrainingData)\n",
        "            indexTraining = indexTraining + 1\n",
        "        resultPerTraining.sort(key=sortNilaiTraining)\n",
        "        result.append(resultPerTraining)\n",
        "        #print(result)\n",
        "    return(result) \n",
        "\n",
        "#def minkowski(xTrain,yTrain,xVal):"
      ]
    },
    {
      "cell_type": "markdown",
      "metadata": {
        "id": "yMt_7mFC7GK0"
      },
      "source": [
        "## Pemilihan k tetangga terdekat"
      ]
    },
    {
      "cell_type": "code",
      "execution_count": 1572,
      "metadata": {
        "id": "Azr-pgIs2QbQ"
      },
      "outputs": [],
      "source": [
        "def pilihTetangga(result,k):\n",
        "    tetangga = []\n",
        "    #print(result)\n",
        "    for data in result:\n",
        "        selected = data[:k]\n",
        "        tetangga.append(selected)\n",
        "    #print(tetangga)\n",
        "    return tetangga\n"
      ]
    },
    {
      "cell_type": "markdown",
      "metadata": {
        "id": "9I07K4dJ7MGH"
      },
      "source": [
        "## Memilih data prediksi pada tetangga sebanyak k"
      ]
    },
    {
      "cell_type": "code",
      "execution_count": 1573,
      "metadata": {},
      "outputs": [
        {
          "data": {
            "text/plain": [
              "array([-1.,  0.])"
            ]
          },
          "execution_count": 1573,
          "metadata": {},
          "output_type": "execute_result"
        }
      ],
      "source": [
        "np.unique(dataRobusted[\"y\"])"
      ]
    },
    {
      "cell_type": "code",
      "execution_count": 1574,
      "metadata": {},
      "outputs": [
        {
          "data": {
            "text/plain": [
              "array([0., 1.])"
            ]
          },
          "execution_count": 1574,
          "metadata": {},
          "output_type": "execute_result"
        }
      ],
      "source": [
        "np.unique(dataNormalized[\"y\"])"
      ]
    },
    {
      "cell_type": "code",
      "execution_count": 1575,
      "metadata": {},
      "outputs": [
        {
          "data": {
            "text/plain": [
              "array([-1.66896065,  0.59715106])"
            ]
          },
          "execution_count": 1575,
          "metadata": {},
          "output_type": "execute_result"
        }
      ],
      "source": [
        "np.unique(dataStandarized[\"y\"])"
      ]
    },
    {
      "cell_type": "markdown",
      "metadata": {},
      "source": [
        "Ubah kondisi sesuai data unique pada metode skaling\n",
        "if dataVal[1] == <\"ubah di sini\">:"
      ]
    },
    {
      "cell_type": "code",
      "execution_count": 1576,
      "metadata": {
        "id": "9-GixBnM2QbQ"
      },
      "outputs": [],
      "source": [
        "def vote(result):\n",
        "    hasil = []\n",
        "    #print(result)\n",
        "    for data in result:\n",
        "        count0 = 0; count1 = 0; \n",
        "        for dataVal in data:\n",
        "            if dataVal[1] == 0:\n",
        "                count0 = count0 + 1\n",
        "            elif dataVal[1] == 1:\n",
        "                count1 = count1 + 1\n",
        "        if count0 > count1:\n",
        "            hasil.append(0)\n",
        "        else:\n",
        "            hasil.append(1)\n",
        "    #print(hasil)\n",
        "    return hasil\n",
        "\n",
        "    "
      ]
    },
    {
      "cell_type": "markdown",
      "metadata": {
        "id": "akHEziOz7Uio"
      },
      "source": [
        "## Menghitung nilai akurasi"
      ]
    },
    {
      "cell_type": "code",
      "execution_count": 1577,
      "metadata": {
        "id": "k3sktheU2QbQ"
      },
      "outputs": [],
      "source": [
        "def akurasi(hasil,yVal):\n",
        "    akurasi = 0\n",
        "    for i in range(len(hasil)):\n",
        "        if hasil[i] == yVal[i]:\n",
        "                akurasi = akurasi + 1\n",
        "    return akurasi"
      ]
    },
    {
      "cell_type": "markdown",
      "metadata": {
        "id": "B7na3aOP7mWa"
      },
      "source": [
        "## Membuat plot nilai akurasi untuk memilih k terbaik"
      ]
    },
    {
      "cell_type": "code",
      "execution_count": 1578,
      "metadata": {
        "id": "CHPwKbOs2QbQ"
      },
      "outputs": [],
      "source": [
        "def makePlot(akurasiList,k):\n",
        "    listAngka = []\n",
        "    for i in range(1,k,2):\n",
        "        listAngka.append(i)\n",
        "    plt.plot(listAngka,akurasiList)\n",
        "    plt.title(\"Hasil Akurasi\")\n",
        "    plt.xlabel(\"Nilai k\")\n",
        "    plt.ylabel(\"Akurasi\")\n",
        "    plt.show()"
      ]
    },
    {
      "cell_type": "markdown",
      "metadata": {
        "id": "085Q3aMM2QbQ"
      },
      "source": [
        "## Main program KNN untuk training data dengan menggunakan validasi data dengan cara cross kfold "
      ]
    },
    {
      "cell_type": "code",
      "execution_count": 1579,
      "metadata": {
        "id": "kkxttu5Y2QbQ"
      },
      "outputs": [],
      "source": [
        "def knn(xTrain,yTrain,xVal,yVal,k):\n",
        "    resultEuclidean = euclidean(xTrain,yTrain,xVal)\n",
        "    resultManhattan = manhattan(xTrain,yTrain,xVal)\n",
        "    resultMinkowski = minkowski(xTrain,yTrain,xVal)\n",
        "    \n",
        "    resultEuclidean = pilihTetangga(resultEuclidean,k)\n",
        "    resultManhattan = pilihTetangga(resultManhattan,k)\n",
        "    resultMinkowski = pilihTetangga(resultMinkowski,k)\n",
        "    \n",
        "    finalEuclidean  = vote(resultEuclidean)\n",
        "    finalManhattan  = vote(resultManhattan) \n",
        "    finalMinkowski  = vote(resultMinkowski)\n",
        "    \n",
        "    hasilAkurasiEuclidean = (akurasi(finalEuclidean,yVal)/len(yVal))*100\n",
        "    hasilAkurasiManhattan = (akurasi(finalManhattan,yVal)/len(yVal))*100\n",
        "    hasilAkurasiMinkowski = (akurasi(finalMinkowski,yVal)/len(yVal))*100\n",
        "    #print(hasilAkurasiEuclidean,hasilAkurasiManhattan,hasilAkurasiMinkowski)\n",
        "    #print(str(hasilAkurasiEuclidean)+\"%\")\n",
        "    return hasilAkurasiEuclidean,hasilAkurasiManhattan,hasilAkurasiMinkowski"
      ]
    },
    {
      "cell_type": "markdown",
      "metadata": {
        "id": "bDfgDV9l7rbc"
      },
      "source": [
        "## Training data dengan pemilihan data kfolds"
      ]
    },
    {
      "cell_type": "code",
      "execution_count": 1580,
      "metadata": {
        "id": "lXJ3g2wo2QbP"
      },
      "outputs": [],
      "source": [
        "def kFolds(arrayDf,k):\n",
        "    # membagi data menjadi k folds\n",
        "    folds = np.array_split(arrayDf,k)\n",
        "    listEuclidean, listManhattan,listMinkowski = [],[],[]\n",
        "    \n",
        "    for i in range(1,k,2):\n",
        "        #print(\"Folds: \",i)\n",
        "        trainingSet = folds.copy()\n",
        "        validationSet = folds[i]\n",
        "        del trainingSet[i]\n",
        "        trainingSet = pd.concat(trainingSet, sort=False)\n",
        "\n",
        "        xTrain,yTrain = splitDependent(trainingSet)\n",
        "        xVal,yVal = splitDependent(validationSet)\n",
        "        #print(\"training set: \\n\",trainingSet)\n",
        "        #print(\"validation set: \\n\", validationSet)\n",
        "        hEuclidean, hManhattan, hMinkowski = knn(xTrain,yTrain,xVal,yVal,k)\n",
        "        listEuclidean.append(hEuclidean)\n",
        "        listManhattan.append(hManhattan)\n",
        "        listMinkowski.append(hMinkowski)\n",
        "\n",
        "    print(\"Hasil Akurasi Euclidean\")\n",
        "    makePlot(listEuclidean,k)\n",
        "    print(\"Hasil Akurasi Manhattan\")\n",
        "    makePlot(listManhattan,k)\n",
        "    print(\"Hasil Akurasi Minkowski\")\n",
        "    makePlot(listMinkowski,k)\n",
        "        \n",
        "    return 0"
      ]
    },
    {
      "cell_type": "markdown",
      "metadata": {
        "id": "PVlJ537r7_gI"
      },
      "source": [
        "## Akurasi data dengan pemilihan data kfolds"
      ]
    },
    {
      "cell_type": "code",
      "execution_count": 1581,
      "metadata": {
        "colab": {
          "base_uri": "https://localhost:8080/",
          "height": 1000
        },
        "id": "UV4hPpS82QbP",
        "outputId": "0c27265e-4bbd-4bbf-acd8-e00f6090f9ba"
      },
      "outputs": [
        {
          "name": "stdout",
          "output_type": "stream",
          "text": [
            "Hasil Akurasi Euclidean\n"
          ]
        },
        {
          "data": {
            "image/png": "[encoded data removed]",
            "text/plain": [
              "<Figure size 936x576 with 1 Axes>"
            ]
          },
          "metadata": {},
          "output_type": "display_data"
        },
        {
          "name": "stdout",
          "output_type": "stream",
          "text": [
            "Hasil Akurasi Manhattan\n"
          ]
        },
        {
          "data": {
            "image/png": "[encoded data removed]",
            "text/plain": [
              "<Figure size 936x576 with 1 Axes>"
            ]
          },
          "metadata": {},
          "output_type": "display_data"
        },
        {
          "name": "stdout",
          "output_type": "stream",
          "text": [
            "Hasil Akurasi Minkowski\n"
          ]
        },
        {
          "data": {
            "image/png": "[encoded data removed]",
            "text/plain": [
              "<Figure size 936x576 with 1 Axes>"
            ]
          },
          "metadata": {},
          "output_type": "display_data"
        },
        {
          "data": {
            "text/plain": [
              "0"
            ]
          },
          "execution_count": 1581,
          "metadata": {},
          "output_type": "execute_result"
        }
      ],
      "source": [
        "kFolds(dataNormalized,25)"
      ]
    },
    {
      "cell_type": "markdown",
      "metadata": {
        "id": "ex0NIXED2QbP"
      },
      "source": [
        "dapat dilihat bahwa nilai k terbaik adalah k = 9 dan berlaku untuk semua metode pencarian distance"
      ]
    },
    {
      "cell_type": "markdown",
      "metadata": {
        "id": "VMpaS9oC8GmD"
      },
      "source": [
        "# Testing data"
      ]
    },
    {
      "cell_type": "markdown",
      "metadata": {
        "id": "aDB836yN8RiI"
      },
      "source": [
        "## Import dataset test"
      ]
    },
    {
      "cell_type": "code",
      "execution_count": 1582,
      "metadata": {
        "id": "HRbB8aBO2QbQ"
      },
      "outputs": [],
      "source": [
        "dfTest = pd.read_excel(\"https://github.com/khalilullahalfaath/AI_Tubes-03-Learning/blob/19d11d6e2fa2d540afdc0cec3308b82c664d29f7/traintest.xlsx?raw=true\",\"test\")"
      ]
    },
    {
      "cell_type": "code",
      "execution_count": 1583,
      "metadata": {
        "colab": {
          "base_uri": "https://localhost:8080/",
          "height": 363
        },
        "id": "JWEQSNFd2QbQ",
        "outputId": "dbe4f237-f647-46b7-ec8e-4e02abfb299e"
      },
      "outputs": [
        {
          "data": {
            "text/html": [
              "<div>\n",
              "<style scoped>\n",
              "    .dataframe tbody tr th:only-of-type {\n",
              "        vertical-align: middle;\n",
              "    }\n",
              "\n",
              "    .dataframe tbody tr th {\n",
              "        vertical-align: top;\n",
              "    }\n",
              "\n",
              "    .dataframe thead th {\n",
              "        text-align: right;\n",
              "    }\n",
              "</style>\n",
              "<table border=\"1\" class=\"dataframe\">\n",
              "  <thead>\n",
              "    <tr style=\"text-align: right;\">\n",
              "      <th></th>\n",
              "      <th>id</th>\n",
              "      <th>x1</th>\n",
              "      <th>x2</th>\n",
              "      <th>x3</th>\n",
              "      <th>y</th>\n",
              "    </tr>\n",
              "  </thead>\n",
              "  <tbody>\n",
              "    <tr>\n",
              "      <th>0</th>\n",
              "      <td>297</td>\n",
              "      <td>43</td>\n",
              "      <td>59</td>\n",
              "      <td>2</td>\n",
              "      <td>?</td>\n",
              "    </tr>\n",
              "    <tr>\n",
              "      <th>1</th>\n",
              "      <td>298</td>\n",
              "      <td>67</td>\n",
              "      <td>66</td>\n",
              "      <td>0</td>\n",
              "      <td>?</td>\n",
              "    </tr>\n",
              "    <tr>\n",
              "      <th>2</th>\n",
              "      <td>299</td>\n",
              "      <td>58</td>\n",
              "      <td>60</td>\n",
              "      <td>3</td>\n",
              "      <td>?</td>\n",
              "    </tr>\n",
              "    <tr>\n",
              "      <th>3</th>\n",
              "      <td>300</td>\n",
              "      <td>49</td>\n",
              "      <td>63</td>\n",
              "      <td>3</td>\n",
              "      <td>?</td>\n",
              "    </tr>\n",
              "    <tr>\n",
              "      <th>4</th>\n",
              "      <td>301</td>\n",
              "      <td>45</td>\n",
              "      <td>60</td>\n",
              "      <td>0</td>\n",
              "      <td>?</td>\n",
              "    </tr>\n",
              "    <tr>\n",
              "      <th>5</th>\n",
              "      <td>302</td>\n",
              "      <td>54</td>\n",
              "      <td>58</td>\n",
              "      <td>1</td>\n",
              "      <td>?</td>\n",
              "    </tr>\n",
              "    <tr>\n",
              "      <th>6</th>\n",
              "      <td>303</td>\n",
              "      <td>56</td>\n",
              "      <td>66</td>\n",
              "      <td>3</td>\n",
              "      <td>?</td>\n",
              "    </tr>\n",
              "    <tr>\n",
              "      <th>7</th>\n",
              "      <td>304</td>\n",
              "      <td>42</td>\n",
              "      <td>69</td>\n",
              "      <td>1</td>\n",
              "      <td>?</td>\n",
              "    </tr>\n",
              "    <tr>\n",
              "      <th>8</th>\n",
              "      <td>305</td>\n",
              "      <td>50</td>\n",
              "      <td>59</td>\n",
              "      <td>2</td>\n",
              "      <td>?</td>\n",
              "    </tr>\n",
              "    <tr>\n",
              "      <th>9</th>\n",
              "      <td>306</td>\n",
              "      <td>59</td>\n",
              "      <td>60</td>\n",
              "      <td>0</td>\n",
              "      <td>?</td>\n",
              "    </tr>\n",
              "  </tbody>\n",
              "</table>\n",
              "</div>"
            ],
            "text/plain": [
              "    id  x1  x2  x3  y\n",
              "0  297  43  59   2  ?\n",
              "1  298  67  66   0  ?\n",
              "2  299  58  60   3  ?\n",
              "3  300  49  63   3  ?\n",
              "4  301  45  60   0  ?\n",
              "5  302  54  58   1  ?\n",
              "6  303  56  66   3  ?\n",
              "7  304  42  69   1  ?\n",
              "8  305  50  59   2  ?\n",
              "9  306  59  60   0  ?"
            ]
          },
          "execution_count": 1583,
          "metadata": {},
          "output_type": "execute_result"
        }
      ],
      "source": [
        "dfTest"
      ]
    },
    {
      "cell_type": "markdown",
      "metadata": {
        "id": "gw-s7_j0HEzt"
      },
      "source": [
        "## drop kolom ID"
      ]
    },
    {
      "cell_type": "code",
      "execution_count": 1584,
      "metadata": {
        "colab": {
          "base_uri": "https://localhost:8080/"
        },
        "id": "-TTn__tTOytC",
        "outputId": "1aa85ffa-151d-4323-995e-0694cbdfb409"
      },
      "outputs": [
        {
          "data": {
            "text/plain": [
              "(10, 5)"
            ]
          },
          "execution_count": 1584,
          "metadata": {},
          "output_type": "execute_result"
        }
      ],
      "source": [
        "dfTest.shape"
      ]
    },
    {
      "cell_type": "code",
      "execution_count": 1585,
      "metadata": {
        "colab": {
          "base_uri": "https://localhost:8080/",
          "height": 363
        },
        "id": "RJuX4w1wG-8h",
        "outputId": "08af566e-ee87-41f7-ea62-f2bca98330f4"
      },
      "outputs": [
        {
          "data": {
            "text/html": [
              "<div>\n",
              "<style scoped>\n",
              "    .dataframe tbody tr th:only-of-type {\n",
              "        vertical-align: middle;\n",
              "    }\n",
              "\n",
              "    .dataframe tbody tr th {\n",
              "        vertical-align: top;\n",
              "    }\n",
              "\n",
              "    .dataframe thead th {\n",
              "        text-align: right;\n",
              "    }\n",
              "</style>\n",
              "<table border=\"1\" class=\"dataframe\">\n",
              "  <thead>\n",
              "    <tr style=\"text-align: right;\">\n",
              "      <th></th>\n",
              "      <th>x1</th>\n",
              "      <th>x2</th>\n",
              "      <th>x3</th>\n",
              "      <th>y</th>\n",
              "    </tr>\n",
              "  </thead>\n",
              "  <tbody>\n",
              "    <tr>\n",
              "      <th>0</th>\n",
              "      <td>43</td>\n",
              "      <td>59</td>\n",
              "      <td>2</td>\n",
              "      <td>?</td>\n",
              "    </tr>\n",
              "    <tr>\n",
              "      <th>1</th>\n",
              "      <td>67</td>\n",
              "      <td>66</td>\n",
              "      <td>0</td>\n",
              "      <td>?</td>\n",
              "    </tr>\n",
              "    <tr>\n",
              "      <th>2</th>\n",
              "      <td>58</td>\n",
              "      <td>60</td>\n",
              "      <td>3</td>\n",
              "      <td>?</td>\n",
              "    </tr>\n",
              "    <tr>\n",
              "      <th>3</th>\n",
              "      <td>49</td>\n",
              "      <td>63</td>\n",
              "      <td>3</td>\n",
              "      <td>?</td>\n",
              "    </tr>\n",
              "    <tr>\n",
              "      <th>4</th>\n",
              "      <td>45</td>\n",
              "      <td>60</td>\n",
              "      <td>0</td>\n",
              "      <td>?</td>\n",
              "    </tr>\n",
              "    <tr>\n",
              "      <th>5</th>\n",
              "      <td>54</td>\n",
              "      <td>58</td>\n",
              "      <td>1</td>\n",
              "      <td>?</td>\n",
              "    </tr>\n",
              "    <tr>\n",
              "      <th>6</th>\n",
              "      <td>56</td>\n",
              "      <td>66</td>\n",
              "      <td>3</td>\n",
              "      <td>?</td>\n",
              "    </tr>\n",
              "    <tr>\n",
              "      <th>7</th>\n",
              "      <td>42</td>\n",
              "      <td>69</td>\n",
              "      <td>1</td>\n",
              "      <td>?</td>\n",
              "    </tr>\n",
              "    <tr>\n",
              "      <th>8</th>\n",
              "      <td>50</td>\n",
              "      <td>59</td>\n",
              "      <td>2</td>\n",
              "      <td>?</td>\n",
              "    </tr>\n",
              "    <tr>\n",
              "      <th>9</th>\n",
              "      <td>59</td>\n",
              "      <td>60</td>\n",
              "      <td>0</td>\n",
              "      <td>?</td>\n",
              "    </tr>\n",
              "  </tbody>\n",
              "</table>\n",
              "</div>"
            ],
            "text/plain": [
              "   x1  x2  x3  y\n",
              "0  43  59   2  ?\n",
              "1  67  66   0  ?\n",
              "2  58  60   3  ?\n",
              "3  49  63   3  ?\n",
              "4  45  60   0  ?\n",
              "5  54  58   1  ?\n",
              "6  56  66   3  ?\n",
              "7  42  69   1  ?\n",
              "8  50  59   2  ?\n",
              "9  59  60   0  ?"
            ]
          },
          "execution_count": 1585,
          "metadata": {},
          "output_type": "execute_result"
        }
      ],
      "source": [
        "dfTest.drop(columns = ['id'], axis = 1, inplace = True)\n",
        "dfTest"
      ]
    },
    {
      "cell_type": "code",
      "execution_count": 1586,
      "metadata": {
        "colab": {
          "base_uri": "https://localhost:8080/"
        },
        "id": "gpkExegINvTE",
        "outputId": "65a9d388-0455-49a6-af64-21a3b68deea6"
      },
      "outputs": [
        {
          "data": {
            "text/plain": [
              "(10, 4)"
            ]
          },
          "execution_count": 1586,
          "metadata": {},
          "output_type": "execute_result"
        }
      ],
      "source": [
        "dfTest.shape"
      ]
    },
    {
      "cell_type": "markdown",
      "metadata": {
        "id": "N2NtKPFp8W_w"
      },
      "source": [
        "## Skaling dataset test"
      ]
    },
    {
      "cell_type": "code",
      "execution_count": 1587,
      "metadata": {
        "colab": {
          "base_uri": "https://localhost:8080/",
          "height": 363
        },
        "id": "gVxQVvHUHZIa",
        "outputId": "6b896ccb-0c2b-40bc-c8e8-c5fd55704c79"
      },
      "outputs": [
        {
          "data": {
            "text/html": [
              "<div>\n",
              "<style scoped>\n",
              "    .dataframe tbody tr th:only-of-type {\n",
              "        vertical-align: middle;\n",
              "    }\n",
              "\n",
              "    .dataframe tbody tr th {\n",
              "        vertical-align: top;\n",
              "    }\n",
              "\n",
              "    .dataframe thead th {\n",
              "        text-align: right;\n",
              "    }\n",
              "</style>\n",
              "<table border=\"1\" class=\"dataframe\">\n",
              "  <thead>\n",
              "    <tr style=\"text-align: right;\">\n",
              "      <th></th>\n",
              "      <th>x1</th>\n",
              "      <th>x2</th>\n",
              "      <th>x3</th>\n",
              "    </tr>\n",
              "  </thead>\n",
              "  <tbody>\n",
              "    <tr>\n",
              "      <th>0</th>\n",
              "      <td>0.04</td>\n",
              "      <td>0.090909</td>\n",
              "      <td>0.666667</td>\n",
              "    </tr>\n",
              "    <tr>\n",
              "      <th>1</th>\n",
              "      <td>1.00</td>\n",
              "      <td>0.727273</td>\n",
              "      <td>0.000000</td>\n",
              "    </tr>\n",
              "    <tr>\n",
              "      <th>2</th>\n",
              "      <td>0.64</td>\n",
              "      <td>0.181818</td>\n",
              "      <td>1.000000</td>\n",
              "    </tr>\n",
              "    <tr>\n",
              "      <th>3</th>\n",
              "      <td>0.28</td>\n",
              "      <td>0.454545</td>\n",
              "      <td>1.000000</td>\n",
              "    </tr>\n",
              "    <tr>\n",
              "      <th>4</th>\n",
              "      <td>0.12</td>\n",
              "      <td>0.181818</td>\n",
              "      <td>0.000000</td>\n",
              "    </tr>\n",
              "    <tr>\n",
              "      <th>5</th>\n",
              "      <td>0.48</td>\n",
              "      <td>0.000000</td>\n",
              "      <td>0.333333</td>\n",
              "    </tr>\n",
              "    <tr>\n",
              "      <th>6</th>\n",
              "      <td>0.56</td>\n",
              "      <td>0.727273</td>\n",
              "      <td>1.000000</td>\n",
              "    </tr>\n",
              "    <tr>\n",
              "      <th>7</th>\n",
              "      <td>0.00</td>\n",
              "      <td>1.000000</td>\n",
              "      <td>0.333333</td>\n",
              "    </tr>\n",
              "    <tr>\n",
              "      <th>8</th>\n",
              "      <td>0.32</td>\n",
              "      <td>0.090909</td>\n",
              "      <td>0.666667</td>\n",
              "    </tr>\n",
              "    <tr>\n",
              "      <th>9</th>\n",
              "      <td>0.68</td>\n",
              "      <td>0.181818</td>\n",
              "      <td>0.000000</td>\n",
              "    </tr>\n",
              "  </tbody>\n",
              "</table>\n",
              "</div>"
            ],
            "text/plain": [
              "     x1        x2        x3\n",
              "0  0.04  0.090909  0.666667\n",
              "1  1.00  0.727273  0.000000\n",
              "2  0.64  0.181818  1.000000\n",
              "3  0.28  0.454545  1.000000\n",
              "4  0.12  0.181818  0.000000\n",
              "5  0.48  0.000000  0.333333\n",
              "6  0.56  0.727273  1.000000\n",
              "7  0.00  1.000000  0.333333\n",
              "8  0.32  0.090909  0.666667\n",
              "9  0.68  0.181818  0.000000"
            ]
          },
          "execution_count": 1587,
          "metadata": {},
          "output_type": "execute_result"
        }
      ],
      "source": [
        "#normalisasi\n",
        "def minMaxScalingTest(df) :\n",
        "    return (df.iloc[:,:3] - df.iloc[:,:3].min()) / (df.iloc[:,:3].max() - df.iloc[:,:3].min())\n",
        "\n",
        "def standardScalingTest(df) : \n",
        "    return (df.iloc[:,:3] - df.iloc[:,:3].mean() / df.iloc[:,:3].std())\n",
        "\n",
        "def robustScalingTest(df):\n",
        "    return ((df.iloc[:,:3] - df.iloc[:,:3].median()) / (df.iloc[:,:3].quantile(0.75) - df.iloc[:,:3].quantile(0.25)))\n",
        "\n",
        "dataTestNormalized = minMaxScalingTest(dfTest)\n",
        "dataTestRobusted = robustScalingTest(dfTest)\n",
        "dataTestStandarized = standardScalingTest(dfTest)\n",
        "\n",
        "dataTestNormalized"
      ]
    },
    {
      "cell_type": "code",
      "execution_count": 1588,
      "metadata": {},
      "outputs": [
        {
          "data": {
            "text/html": [
              "<div>\n",
              "<style scoped>\n",
              "    .dataframe tbody tr th:only-of-type {\n",
              "        vertical-align: middle;\n",
              "    }\n",
              "\n",
              "    .dataframe tbody tr th {\n",
              "        vertical-align: top;\n",
              "    }\n",
              "\n",
              "    .dataframe thead th {\n",
              "        text-align: right;\n",
              "    }\n",
              "</style>\n",
              "<table border=\"1\" class=\"dataframe\">\n",
              "  <thead>\n",
              "    <tr style=\"text-align: right;\">\n",
              "      <th></th>\n",
              "      <th>x1</th>\n",
              "      <th>x2</th>\n",
              "      <th>x3</th>\n",
              "    </tr>\n",
              "  </thead>\n",
              "  <tbody>\n",
              "    <tr>\n",
              "      <th>0</th>\n",
              "      <td>-0.782609</td>\n",
              "      <td>-0.166667</td>\n",
              "      <td>0.2</td>\n",
              "    </tr>\n",
              "    <tr>\n",
              "      <th>1</th>\n",
              "      <td>1.304348</td>\n",
              "      <td>1.000000</td>\n",
              "      <td>-0.6</td>\n",
              "    </tr>\n",
              "    <tr>\n",
              "      <th>2</th>\n",
              "      <td>0.521739</td>\n",
              "      <td>0.000000</td>\n",
              "      <td>0.6</td>\n",
              "    </tr>\n",
              "    <tr>\n",
              "      <th>3</th>\n",
              "      <td>-0.260870</td>\n",
              "      <td>0.500000</td>\n",
              "      <td>0.6</td>\n",
              "    </tr>\n",
              "    <tr>\n",
              "      <th>4</th>\n",
              "      <td>-0.608696</td>\n",
              "      <td>0.000000</td>\n",
              "      <td>-0.6</td>\n",
              "    </tr>\n",
              "    <tr>\n",
              "      <th>5</th>\n",
              "      <td>0.173913</td>\n",
              "      <td>-0.333333</td>\n",
              "      <td>-0.2</td>\n",
              "    </tr>\n",
              "    <tr>\n",
              "      <th>6</th>\n",
              "      <td>0.347826</td>\n",
              "      <td>1.000000</td>\n",
              "      <td>0.6</td>\n",
              "    </tr>\n",
              "    <tr>\n",
              "      <th>7</th>\n",
              "      <td>-0.869565</td>\n",
              "      <td>1.500000</td>\n",
              "      <td>-0.2</td>\n",
              "    </tr>\n",
              "    <tr>\n",
              "      <th>8</th>\n",
              "      <td>-0.173913</td>\n",
              "      <td>-0.166667</td>\n",
              "      <td>0.2</td>\n",
              "    </tr>\n",
              "    <tr>\n",
              "      <th>9</th>\n",
              "      <td>0.608696</td>\n",
              "      <td>0.000000</td>\n",
              "      <td>-0.6</td>\n",
              "    </tr>\n",
              "  </tbody>\n",
              "</table>\n",
              "</div>"
            ],
            "text/plain": [
              "         x1        x2   x3\n",
              "0 -0.782609 -0.166667  0.2\n",
              "1  1.304348  1.000000 -0.6\n",
              "2  0.521739  0.000000  0.6\n",
              "3 -0.260870  0.500000  0.6\n",
              "4 -0.608696  0.000000 -0.6\n",
              "5  0.173913 -0.333333 -0.2\n",
              "6  0.347826  1.000000  0.6\n",
              "7 -0.869565  1.500000 -0.2\n",
              "8 -0.173913 -0.166667  0.2\n",
              "9  0.608696  0.000000 -0.6"
            ]
          },
          "execution_count": 1588,
          "metadata": {},
          "output_type": "execute_result"
        }
      ],
      "source": [
        "dataTestRobusted"
      ]
    },
    {
      "cell_type": "code",
      "execution_count": 1589,
      "metadata": {},
      "outputs": [
        {
          "data": {
            "text/html": [
              "<div>\n",
              "<style scoped>\n",
              "    .dataframe tbody tr th:only-of-type {\n",
              "        vertical-align: middle;\n",
              "    }\n",
              "\n",
              "    .dataframe tbody tr th {\n",
              "        vertical-align: top;\n",
              "    }\n",
              "\n",
              "    .dataframe thead th {\n",
              "        text-align: right;\n",
              "    }\n",
              "</style>\n",
              "<table border=\"1\" class=\"dataframe\">\n",
              "  <thead>\n",
              "    <tr style=\"text-align: right;\">\n",
              "      <th></th>\n",
              "      <th>x1</th>\n",
              "      <th>x2</th>\n",
              "      <th>x3</th>\n",
              "    </tr>\n",
              "  </thead>\n",
              "  <tbody>\n",
              "    <tr>\n",
              "      <th>0</th>\n",
              "      <td>36.440255</td>\n",
              "      <td>42.559767</td>\n",
              "      <td>0.818242</td>\n",
              "    </tr>\n",
              "    <tr>\n",
              "      <th>1</th>\n",
              "      <td>60.440255</td>\n",
              "      <td>49.559767</td>\n",
              "      <td>-1.181758</td>\n",
              "    </tr>\n",
              "    <tr>\n",
              "      <th>2</th>\n",
              "      <td>51.440255</td>\n",
              "      <td>43.559767</td>\n",
              "      <td>1.818242</td>\n",
              "    </tr>\n",
              "    <tr>\n",
              "      <th>3</th>\n",
              "      <td>42.440255</td>\n",
              "      <td>46.559767</td>\n",
              "      <td>1.818242</td>\n",
              "    </tr>\n",
              "    <tr>\n",
              "      <th>4</th>\n",
              "      <td>38.440255</td>\n",
              "      <td>43.559767</td>\n",
              "      <td>-1.181758</td>\n",
              "    </tr>\n",
              "    <tr>\n",
              "      <th>5</th>\n",
              "      <td>47.440255</td>\n",
              "      <td>41.559767</td>\n",
              "      <td>-0.181758</td>\n",
              "    </tr>\n",
              "    <tr>\n",
              "      <th>6</th>\n",
              "      <td>49.440255</td>\n",
              "      <td>49.559767</td>\n",
              "      <td>1.818242</td>\n",
              "    </tr>\n",
              "    <tr>\n",
              "      <th>7</th>\n",
              "      <td>35.440255</td>\n",
              "      <td>52.559767</td>\n",
              "      <td>-0.181758</td>\n",
              "    </tr>\n",
              "    <tr>\n",
              "      <th>8</th>\n",
              "      <td>43.440255</td>\n",
              "      <td>42.559767</td>\n",
              "      <td>0.818242</td>\n",
              "    </tr>\n",
              "    <tr>\n",
              "      <th>9</th>\n",
              "      <td>52.440255</td>\n",
              "      <td>43.559767</td>\n",
              "      <td>-1.181758</td>\n",
              "    </tr>\n",
              "  </tbody>\n",
              "</table>\n",
              "</div>"
            ],
            "text/plain": [
              "          x1         x2        x3\n",
              "0  36.440255  42.559767  0.818242\n",
              "1  60.440255  49.559767 -1.181758\n",
              "2  51.440255  43.559767  1.818242\n",
              "3  42.440255  46.559767  1.818242\n",
              "4  38.440255  43.559767 -1.181758\n",
              "5  47.440255  41.559767 -0.181758\n",
              "6  49.440255  49.559767  1.818242\n",
              "7  35.440255  52.559767 -0.181758\n",
              "8  43.440255  42.559767  0.818242\n",
              "9  52.440255  43.559767 -1.181758"
            ]
          },
          "execution_count": 1589,
          "metadata": {},
          "output_type": "execute_result"
        }
      ],
      "source": [
        "dataTestStandarized"
      ]
    },
    {
      "cell_type": "code",
      "execution_count": 1590,
      "metadata": {
        "colab": {
          "base_uri": "https://localhost:8080/",
          "height": 581
        },
        "id": "7k_LFgKvNY-S",
        "outputId": "88af265e-5846-4395-f248-6b13f228bd98"
      },
      "outputs": [
        {
          "data": {
            "image/png": "[encoded data removed]",
            "text/plain": [
              "<Figure size 936x576 with 1 Axes>"
            ]
          },
          "metadata": {},
          "output_type": "display_data"
        }
      ],
      "source": [
        "plt.rcParams[\"figure.figsize\"] = [13, 8]\n",
        "plt.rcParams[\"figure.autolayout\"] = True\n",
        "ax = dataTestNormalized[['x1', 'x2', 'x3']].plot(kind='box', title='Box plot dataset test Normalized')"
      ]
    },
    {
      "cell_type": "code",
      "execution_count": 1612,
      "metadata": {},
      "outputs": [
        {
          "data": {
            "image/png": "[encoded data removed]",
            "text/plain": [
              "<Figure size 936x576 with 1 Axes>"
            ]
          },
          "metadata": {},
          "output_type": "display_data"
        }
      ],
      "source": [
        "plt.rcParams[\"figure.figsize\"] = [13, 8]\n",
        "plt.rcParams[\"figure.autolayout\"] = True\n",
        "ax = dataTestRobusted[['x1', 'x2', 'x3']].plot(kind='box', title='Box plot dataset test Robusted')"
      ]
    },
    {
      "cell_type": "code",
      "execution_count": 1613,
      "metadata": {},
      "outputs": [
        {
          "data": {
            "image/png": "[encoded data removed]",
            "text/plain": [
              "<Figure size 936x576 with 1 Axes>"
            ]
          },
          "metadata": {},
          "output_type": "display_data"
        }
      ],
      "source": [
        "plt.rcParams[\"figure.figsize\"] = [13, 8]\n",
        "plt.rcParams[\"figure.autolayout\"] = True\n",
        "ax = dataTestStandarized[['x1', 'x2', 'x3']].plot(kind='box', title='Box plot dataset test standarized')"
      ]
    },
    {
      "cell_type": "markdown",
      "metadata": {
        "id": "aT-efABH8c96"
      },
      "source": [
        "## Mencari nilai prediksi pada kolom target dataset dengan data training sebelumnya. dengan k terbaik adalah 9 untuk semua pencarian distance"
      ]
    },
    {
      "cell_type": "code",
      "execution_count": 1593,
      "metadata": {},
      "outputs": [
        {
          "data": {
            "text/html": [
              "<div>\n",
              "<style scoped>\n",
              "    .dataframe tbody tr th:only-of-type {\n",
              "        vertical-align: middle;\n",
              "    }\n",
              "\n",
              "    .dataframe tbody tr th {\n",
              "        vertical-align: top;\n",
              "    }\n",
              "\n",
              "    .dataframe thead th {\n",
              "        text-align: right;\n",
              "    }\n",
              "</style>\n",
              "<table border=\"1\" class=\"dataframe\">\n",
              "  <thead>\n",
              "    <tr style=\"text-align: right;\">\n",
              "      <th></th>\n",
              "      <th>x1</th>\n",
              "      <th>x2</th>\n",
              "      <th>x3</th>\n",
              "      <th>y</th>\n",
              "    </tr>\n",
              "  </thead>\n",
              "  <tbody>\n",
              "    <tr>\n",
              "      <th>0</th>\n",
              "      <td>60</td>\n",
              "      <td>64</td>\n",
              "      <td>0.0</td>\n",
              "      <td>1</td>\n",
              "    </tr>\n",
              "    <tr>\n",
              "      <th>1</th>\n",
              "      <td>54</td>\n",
              "      <td>60</td>\n",
              "      <td>11.0</td>\n",
              "      <td>0</td>\n",
              "    </tr>\n",
              "    <tr>\n",
              "      <th>2</th>\n",
              "      <td>65</td>\n",
              "      <td>62</td>\n",
              "      <td>12.5</td>\n",
              "      <td>0</td>\n",
              "    </tr>\n",
              "    <tr>\n",
              "      <th>3</th>\n",
              "      <td>34</td>\n",
              "      <td>60</td>\n",
              "      <td>0.0</td>\n",
              "      <td>1</td>\n",
              "    </tr>\n",
              "    <tr>\n",
              "      <th>4</th>\n",
              "      <td>38</td>\n",
              "      <td>69</td>\n",
              "      <td>12.5</td>\n",
              "      <td>0</td>\n",
              "    </tr>\n",
              "  </tbody>\n",
              "</table>\n",
              "</div>"
            ],
            "text/plain": [
              "   x1  x2    x3  y\n",
              "0  60  64   0.0  1\n",
              "1  54  60  11.0  0\n",
              "2  65  62  12.5  0\n",
              "3  34  60   0.0  1\n",
              "4  38  69  12.5  0"
            ]
          },
          "execution_count": 1593,
          "metadata": {},
          "output_type": "execute_result"
        }
      ],
      "source": [
        "df.head(5)"
      ]
    },
    {
      "cell_type": "code",
      "execution_count": 1594,
      "metadata": {},
      "outputs": [],
      "source": [
        "# ubah metode scaling di sini dengan memanggil nama df yang diinginkan\n",
        "arrayDf = dataNormalized"
      ]
    },
    {
      "cell_type": "code",
      "execution_count": 1595,
      "metadata": {},
      "outputs": [],
      "source": [
        "xTrain,yTrain = splitDependent(arrayDf)"
      ]
    },
    {
      "cell_type": "code",
      "execution_count": 1596,
      "metadata": {},
      "outputs": [
        {
          "name": "stdout",
          "output_type": "stream",
          "text": [
            "[[0.56603774 0.54545455 0.        ]\n",
            " [0.45283019 0.18181818 0.88      ]\n",
            " [0.66037736 0.36363636 1.        ]\n",
            " [0.0754717  0.18181818 0.        ]\n",
            " [0.1509434  1.         1.        ]]\n",
            "[[1.]\n",
            " [0.]\n",
            " [0.]\n",
            " [1.]\n",
            " [0.]]\n"
          ]
        }
      ],
      "source": [
        "print(xTrain[:5])\n",
        "print(yTrain[:5])"
      ]
    },
    {
      "cell_type": "code",
      "execution_count": 1597,
      "metadata": {},
      "outputs": [],
      "source": [
        "#panggil array sesuai scaling yang diinginkan\n",
        "xTest = np.array(dataTestNormalized)"
      ]
    },
    {
      "cell_type": "code",
      "execution_count": 1598,
      "metadata": {},
      "outputs": [
        {
          "name": "stdout",
          "output_type": "stream",
          "text": [
            "[[0.04       0.09090909 0.66666667]\n",
            " [1.         0.72727273 0.        ]\n",
            " [0.64       0.18181818 1.        ]\n",
            " [0.28       0.45454545 1.        ]\n",
            " [0.12       0.18181818 0.        ]\n",
            " [0.48       0.         0.33333333]\n",
            " [0.56       0.72727273 1.        ]\n",
            " [0.         1.         0.33333333]\n",
            " [0.32       0.09090909 0.66666667]\n",
            " [0.68       0.18181818 0.        ]]\n"
          ]
        }
      ],
      "source": [
        "print(xTest)"
      ]
    },
    {
      "cell_type": "code",
      "execution_count": 1599,
      "metadata": {
        "colab": {
          "base_uri": "https://localhost:8080/"
        },
        "id": "cWJZJ3Ss2QbR",
        "outputId": "30e42dd9-b11b-4985-f5c4-614959e4374d"
      },
      "outputs": [
        {
          "name": "stdout",
          "output_type": "stream",
          "text": [
            "[1, 1, 0, 0, 1, 1, 0, 1, 1, 1]\n",
            "[1, 1, 0, 0, 1, 1, 0, 1, 1, 1]\n",
            "[1, 1, 0, 0, 1, 1, 0, 1, 1, 1]\n"
          ]
        }
      ],
      "source": [
        "# resultEuclidean, resultManhattan, resultMinkowski = [],[],[]\n",
        "# resultEuclideanFix, resultManhattanFix, resultMinkowskiFix = [],[],[]\n",
        "# finalEuclidean, finalManhattan, finalMinkowski = [],[],[]\n",
        "\n",
        "resultEuclidean = euclidean(xTrain,yTrain,xTest)\n",
        "#print(resultPerTraining)\n",
        "resultManhattan = manhattan(xTrain,yTrain,xTest)\n",
        "resultMinkowski = minkowski(xTrain,yTrain,xTest)\n",
        "\n",
        "resultEuclideanFix = pilihTetangga(resultEuclidean,9)\n",
        "resultManhattanFix = pilihTetangga(resultManhattan,9)\n",
        "resultMinkowskiFix = pilihTetangga(resultMinkowski,9)\n",
        "\n",
        "finalEuclidean  = vote(resultEuclideanFix)\n",
        "finalManhattan  = vote(resultManhattanFix) \n",
        "finalMinkowski  = vote(resultMinkowskiFix)\n",
        "\n",
        "print(finalEuclidean)\n",
        "print(finalManhattan)\n",
        "print(finalMinkowski)"
      ]
    },
    {
      "cell_type": "markdown",
      "metadata": {
        "id": "bHruagTS8pd4"
      },
      "source": [
        "## Mengisi dataset test dengan kolom prediksi"
      ]
    },
    {
      "cell_type": "code",
      "execution_count": 1600,
      "metadata": {
        "colab": {
          "base_uri": "https://localhost:8080/",
          "height": 363
        },
        "id": "lrKLRqH8Fls3",
        "outputId": "3deedb04-59e5-4fdc-f756-c16246b2e316"
      },
      "outputs": [
        {
          "data": {
            "text/html": [
              "<div>\n",
              "<style scoped>\n",
              "    .dataframe tbody tr th:only-of-type {\n",
              "        vertical-align: middle;\n",
              "    }\n",
              "\n",
              "    .dataframe tbody tr th {\n",
              "        vertical-align: top;\n",
              "    }\n",
              "\n",
              "    .dataframe thead th {\n",
              "        text-align: right;\n",
              "    }\n",
              "</style>\n",
              "<table border=\"1\" class=\"dataframe\">\n",
              "  <thead>\n",
              "    <tr style=\"text-align: right;\">\n",
              "      <th></th>\n",
              "      <th>x1</th>\n",
              "      <th>x2</th>\n",
              "      <th>x3</th>\n",
              "      <th>y</th>\n",
              "    </tr>\n",
              "  </thead>\n",
              "  <tbody>\n",
              "    <tr>\n",
              "      <th>0</th>\n",
              "      <td>43</td>\n",
              "      <td>59</td>\n",
              "      <td>2</td>\n",
              "      <td>1</td>\n",
              "    </tr>\n",
              "    <tr>\n",
              "      <th>1</th>\n",
              "      <td>67</td>\n",
              "      <td>66</td>\n",
              "      <td>0</td>\n",
              "      <td>1</td>\n",
              "    </tr>\n",
              "    <tr>\n",
              "      <th>2</th>\n",
              "      <td>58</td>\n",
              "      <td>60</td>\n",
              "      <td>3</td>\n",
              "      <td>0</td>\n",
              "    </tr>\n",
              "    <tr>\n",
              "      <th>3</th>\n",
              "      <td>49</td>\n",
              "      <td>63</td>\n",
              "      <td>3</td>\n",
              "      <td>0</td>\n",
              "    </tr>\n",
              "    <tr>\n",
              "      <th>4</th>\n",
              "      <td>45</td>\n",
              "      <td>60</td>\n",
              "      <td>0</td>\n",
              "      <td>1</td>\n",
              "    </tr>\n",
              "    <tr>\n",
              "      <th>5</th>\n",
              "      <td>54</td>\n",
              "      <td>58</td>\n",
              "      <td>1</td>\n",
              "      <td>1</td>\n",
              "    </tr>\n",
              "    <tr>\n",
              "      <th>6</th>\n",
              "      <td>56</td>\n",
              "      <td>66</td>\n",
              "      <td>3</td>\n",
              "      <td>0</td>\n",
              "    </tr>\n",
              "    <tr>\n",
              "      <th>7</th>\n",
              "      <td>42</td>\n",
              "      <td>69</td>\n",
              "      <td>1</td>\n",
              "      <td>1</td>\n",
              "    </tr>\n",
              "    <tr>\n",
              "      <th>8</th>\n",
              "      <td>50</td>\n",
              "      <td>59</td>\n",
              "      <td>2</td>\n",
              "      <td>1</td>\n",
              "    </tr>\n",
              "    <tr>\n",
              "      <th>9</th>\n",
              "      <td>59</td>\n",
              "      <td>60</td>\n",
              "      <td>0</td>\n",
              "      <td>1</td>\n",
              "    </tr>\n",
              "  </tbody>\n",
              "</table>\n",
              "</div>"
            ],
            "text/plain": [
              "   x1  x2  x3  y\n",
              "0  43  59   2  1\n",
              "1  67  66   0  1\n",
              "2  58  60   3  0\n",
              "3  49  63   3  0\n",
              "4  45  60   0  1\n",
              "5  54  58   1  1\n",
              "6  56  66   3  0\n",
              "7  42  69   1  1\n",
              "8  50  59   2  1\n",
              "9  59  60   0  1"
            ]
          },
          "execution_count": 1600,
          "metadata": {},
          "output_type": "execute_result"
        }
      ],
      "source": [
        "xResult = pd.DataFrame(dfTest, columns=['x1', 'x2', 'x3'])\n",
        "yResult = pd.DataFrame(finalManhattan, columns=['y'])\n",
        "result = pd.merge(xResult, yResult, left_index=True, right_index=True)\n",
        "result"
      ]
    },
    {
      "cell_type": "markdown",
      "metadata": {
        "id": "-WazgZsv8v-i"
      },
      "source": [
        "## ekspor dataset "
      ]
    },
    {
      "cell_type": "code",
      "execution_count": 1601,
      "metadata": {
        "id": "f78wYPtbGU5F"
      },
      "outputs": [],
      "source": [
        "dataResult = pd.ExcelWriter('dataResult.xlsx')\n",
        "result.to_excel(dataResult)\n",
        "dataResult.save()"
      ]
    },
    {
      "cell_type": "markdown",
      "metadata": {
        "id": "GQbasn432QbR"
      },
      "source": [
        "# Just for fun"
      ]
    },
    {
      "cell_type": "code",
      "execution_count": 1621,
      "metadata": {
        "colab": {
          "base_uri": "https://localhost:8080/"
        },
        "id": "uFRZmW2D2QbR",
        "outputId": "eee6b9b4-7d4a-4987-8653-30444c946bac"
      },
      "outputs": [
        {
          "name": "stdout",
          "output_type": "stream",
          "text": [
            "No. of training examples: 237\n",
            "No. of testing examples: 59\n"
          ]
        }
      ],
      "source": [
        "# Split dataset to train and test data\n",
        "test_size = 0.2\n",
        "trainingSetRandom = dataNormalized.sample(frac = 1-test_size, random_state = 36)\n",
        "validationSetRandom = dataNormalized.drop(trainingSetRandom.index)\n",
        "\n",
        "trainingSetRandom.reset_index(drop=True, inplace=True)\n",
        "validationSetRandom.reset_index(drop=True, inplace=True)\n",
        "\n",
        "print(f\"No. of training examples: {trainingSetRandom.shape[0]}\")\n",
        "print(f\"No. of testing examples: {validationSetRandom.shape[0]}\")"
      ]
    },
    {
      "cell_type": "code",
      "execution_count": 1622,
      "metadata": {
        "colab": {
          "base_uri": "https://localhost:8080/",
          "height": 143
        },
        "id": "P3QE8dmvv-oZ",
        "outputId": "0ffdf636-159b-4da7-e65b-d2578a216f8b"
      },
      "outputs": [
        {
          "data": {
            "text/html": [
              "<div>\n",
              "<style scoped>\n",
              "    .dataframe tbody tr th:only-of-type {\n",
              "        vertical-align: middle;\n",
              "    }\n",
              "\n",
              "    .dataframe tbody tr th {\n",
              "        vertical-align: top;\n",
              "    }\n",
              "\n",
              "    .dataframe thead th {\n",
              "        text-align: right;\n",
              "    }\n",
              "</style>\n",
              "<table border=\"1\" class=\"dataframe\">\n",
              "  <thead>\n",
              "    <tr style=\"text-align: right;\">\n",
              "      <th></th>\n",
              "      <th>x1</th>\n",
              "      <th>x2</th>\n",
              "      <th>x3</th>\n",
              "      <th>y</th>\n",
              "    </tr>\n",
              "  </thead>\n",
              "  <tbody>\n",
              "    <tr>\n",
              "      <th>0</th>\n",
              "      <td>0.716981</td>\n",
              "      <td>0.909091</td>\n",
              "      <td>0.0</td>\n",
              "      <td>1.0</td>\n",
              "    </tr>\n",
              "    <tr>\n",
              "      <th>1</th>\n",
              "      <td>0.660377</td>\n",
              "      <td>0.545455</td>\n",
              "      <td>0.0</td>\n",
              "      <td>1.0</td>\n",
              "    </tr>\n",
              "    <tr>\n",
              "      <th>2</th>\n",
              "      <td>0.094340</td>\n",
              "      <td>0.454545</td>\n",
              "      <td>0.0</td>\n",
              "      <td>1.0</td>\n",
              "    </tr>\n",
              "  </tbody>\n",
              "</table>\n",
              "</div>"
            ],
            "text/plain": [
              "         x1        x2   x3    y\n",
              "0  0.716981  0.909091  0.0  1.0\n",
              "1  0.660377  0.545455  0.0  1.0\n",
              "2  0.094340  0.454545  0.0  1.0"
            ]
          },
          "execution_count": 1622,
          "metadata": {},
          "output_type": "execute_result"
        }
      ],
      "source": [
        "trainingSetRandom.head(3)"
      ]
    },
    {
      "cell_type": "code",
      "execution_count": 1623,
      "metadata": {
        "colab": {
          "base_uri": "https://localhost:8080/",
          "height": 143
        },
        "id": "mprymoRywB1W",
        "outputId": "0496ce79-123f-43e1-b632-c4337ebe2083"
      },
      "outputs": [
        {
          "data": {
            "text/html": [
              "<div>\n",
              "<style scoped>\n",
              "    .dataframe tbody tr th:only-of-type {\n",
              "        vertical-align: middle;\n",
              "    }\n",
              "\n",
              "    .dataframe tbody tr th {\n",
              "        vertical-align: top;\n",
              "    }\n",
              "\n",
              "    .dataframe thead th {\n",
              "        text-align: right;\n",
              "    }\n",
              "</style>\n",
              "<table border=\"1\" class=\"dataframe\">\n",
              "  <thead>\n",
              "    <tr style=\"text-align: right;\">\n",
              "      <th></th>\n",
              "      <th>x1</th>\n",
              "      <th>x2</th>\n",
              "      <th>x3</th>\n",
              "      <th>y</th>\n",
              "    </tr>\n",
              "  </thead>\n",
              "  <tbody>\n",
              "    <tr>\n",
              "      <th>0</th>\n",
              "      <td>0.716981</td>\n",
              "      <td>0.909091</td>\n",
              "      <td>0.0</td>\n",
              "      <td>1.0</td>\n",
              "    </tr>\n",
              "    <tr>\n",
              "      <th>1</th>\n",
              "      <td>0.660377</td>\n",
              "      <td>0.545455</td>\n",
              "      <td>0.0</td>\n",
              "      <td>1.0</td>\n",
              "    </tr>\n",
              "    <tr>\n",
              "      <th>2</th>\n",
              "      <td>0.094340</td>\n",
              "      <td>0.454545</td>\n",
              "      <td>0.0</td>\n",
              "      <td>1.0</td>\n",
              "    </tr>\n",
              "  </tbody>\n",
              "</table>\n",
              "</div>"
            ],
            "text/plain": [
              "         x1        x2   x3    y\n",
              "0  0.716981  0.909091  0.0  1.0\n",
              "1  0.660377  0.545455  0.0  1.0\n",
              "2  0.094340  0.454545  0.0  1.0"
            ]
          },
          "execution_count": 1623,
          "metadata": {},
          "output_type": "execute_result"
        }
      ],
      "source": [
        "trainingSetRandom.head(3)"
      ]
    },
    {
      "cell_type": "code",
      "execution_count": 1624,
      "metadata": {
        "colab": {
          "base_uri": "https://localhost:8080/",
          "height": 1000
        },
        "id": "2uXUzNyd2QbR",
        "outputId": "17d21d1c-6624-480b-888e-f3a218230b26"
      },
      "outputs": [
        {
          "name": "stdout",
          "output_type": "stream",
          "text": [
            "Hasil Akurasi Euclidean\n"
          ]
        },
        {
          "data": {
            "image/png": "[encoded data removed]",
            "text/plain": [
              "<Figure size 936x576 with 1 Axes>"
            ]
          },
          "metadata": {},
          "output_type": "display_data"
        },
        {
          "name": "stdout",
          "output_type": "stream",
          "text": [
            "Hasil Akurasi Manhattan\n"
          ]
        },
        {
          "data": {
            "image/png": "[encoded data removed]",
            "text/plain": [
              "<Figure size 936x576 with 1 Axes>"
            ]
          },
          "metadata": {},
          "output_type": "display_data"
        },
        {
          "name": "stdout",
          "output_type": "stream",
          "text": [
            "Hasil Akurasi Minkowski\n"
          ]
        },
        {
          "data": {
            "image/png": "[encoded data removed]",
            "text/plain": [
              "<Figure size 936x576 with 1 Axes>"
            ]
          },
          "metadata": {},
          "output_type": "display_data"
        }
      ],
      "source": [
        "xTrainRandom,yTrainRandom = splitDependent(trainingSetRandom)\n",
        "xValRandom,yValRandom = splitDependent(trainingSetRandom)\n",
        "\n",
        "resultEuclidean, resultManhattan, resultMinkowski = [],[],[]\n",
        "resultEuclideanFix, resultManhattanFix, resultMinkowskiFix = [],[],[]\n",
        "finalEuclidean, finalManhattan, finalMinkowski = [],[],[]\n",
        "listEuclidean, listManhattan,listMinkowski = [],[],[]\n",
        "\n",
        "xTrainRandom = np.array(xTrainRandom)\n",
        "#print(xTrainRandom)\n",
        "yTrainRandom = np.array(yTrainRandom)\n",
        "xValRandom = np.array(xValRandom)\n",
        "yValRandom = np.array(yValRandom)\n",
        "\n",
        "for i in range(1,50,2):\n",
        "  resultEuclidean = euclidean(xTrainRandom,yTrainRandom,xValRandom)\n",
        "  resultManhattan = manhattan(xTrainRandom,yTrainRandom,xValRandom)\n",
        "  resultMinkowski = minkowski(xTrainRandom,yTrainRandom,xValRandom)\n",
        "\n",
        "  resultEuclideanFix = pilihTetangga(resultEuclidean,i)\n",
        "  resultManhattanFix = pilihTetangga(resultManhattan,i)\n",
        "  resultMinkowskiFix = pilihTetangga(resultMinkowski,i)\n",
        "\n",
        "  finalEuclidean  = vote(resultEuclideanFix)\n",
        "  finalManhattan  = vote(resultManhattanFix) \n",
        "  finalMinkowski  = vote(resultMinkowskiFix)\n",
        "\n",
        "  hasilAkurasiEuclidean = (akurasi(finalEuclidean,yValRandom)/len(yValRandom))*100\n",
        "  hasilAkurasiManhattan = (akurasi(finalManhattan,yValRandom)/len(yValRandom))*100\n",
        "  hasilAkurasiMinkowski = (akurasi(finalMinkowski,yValRandom)/len(yValRandom))*100\n",
        "  #print(hasilAkurasiEuclidean,hasilAkurasiManhattan,hasilAkurasiMinkowski)\n",
        "  \n",
        "  listEuclidean.append(hasilAkurasiEuclidean)\n",
        "  listManhattan.append(hasilAkurasiManhattan)\n",
        "  listMinkowski.append(hasilAkurasiMinkowski)\n",
        "\n",
        "  #print(i)\n",
        "  #print(str(hasilAkurasiEuclidean)+\"%\")\n",
        "  #print(str(hasilAkurasiManhattan)+\"%\")\n",
        "  #print(str(hasilAkurasiMinkowski)+\"%\")\n",
        "\n",
        "print(\"Hasil Akurasi Euclidean\")\n",
        "makePlot(listEuclidean,50)\n",
        "print(\"Hasil Akurasi Manhattan\")\n",
        "makePlot(listManhattan,50)\n",
        "print(\"Hasil Akurasi Minkowski\")\n",
        "makePlot(listMinkowski,50)\n",
        "\n"
      ]
    }
  ],
  "metadata": {
    "colab": {
      "collapsed_sections": [],
      "include_colab_link": true,
      "name": "AI-Kelompok 15-Learning.ipynb",
      "provenance": []
    },
    "kernelspec": {
      "display_name": "Python 3.9.12 ('base')",
      "language": "python",
      "name": "python3"
    },
    "language_info": {
      "codemirror_mode": {
        "name": "ipython",
        "version": 3
      },
      "file_extension": ".py",
      "mimetype": "text/x-python",
      "name": "python",
      "nbconvert_exporter": "python",
      "pygments_lexer": "ipython3",
      "version": "3.9.12"
    },
    "orig_nbformat": 4,
    "vscode": {
      "interpreter": {
        "hash": "dc07d24e2f18896857f0b2a651fe84ba40ce7b297e58d8804a308c8039f752a6"
      }
    }
  },
  "nbformat": 4,
  "nbformat_minor": 0
}
